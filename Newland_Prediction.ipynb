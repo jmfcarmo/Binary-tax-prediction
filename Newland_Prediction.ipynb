{
 "cells": [
  {
   "cell_type": "code",
   "execution_count": 1,
   "id": "952b1608",
   "metadata": {},
   "outputs": [],
   "source": [
    "import pandas as pd\n",
    "import matplotlib.pyplot as plt\n",
    "import seaborn as sns\n",
    "import numpy as np\n",
    "training = pd.read_csv('Train.csv')"
   ]
  },
  {
   "cell_type": "markdown",
   "id": "d29d0445",
   "metadata": {},
   "source": [
    "# Data Integration"
   ]
  },
  {
   "cell_type": "code",
   "execution_count": 2,
   "id": "0dcf623e",
   "metadata": {},
   "outputs": [
    {
     "data": {
      "text/html": [
       "<div>\n",
       "<style scoped>\n",
       "    .dataframe tbody tr th:only-of-type {\n",
       "        vertical-align: middle;\n",
       "    }\n",
       "\n",
       "    .dataframe tbody tr th {\n",
       "        vertical-align: top;\n",
       "    }\n",
       "\n",
       "    .dataframe thead th {\n",
       "        text-align: right;\n",
       "    }\n",
       "</style>\n",
       "<table border=\"1\" class=\"dataframe\">\n",
       "  <thead>\n",
       "    <tr style=\"text-align: right;\">\n",
       "      <th></th>\n",
       "      <th>Name</th>\n",
       "      <th>Birthday</th>\n",
       "      <th>Native Continent</th>\n",
       "      <th>Marital Status</th>\n",
       "      <th>Lives with</th>\n",
       "      <th>Base Area</th>\n",
       "      <th>Education Level</th>\n",
       "      <th>Years of Education</th>\n",
       "      <th>Employment Sector</th>\n",
       "      <th>Role</th>\n",
       "      <th>Working Hours per week</th>\n",
       "      <th>Money Received</th>\n",
       "      <th>Ticket Price</th>\n",
       "      <th>Income</th>\n",
       "    </tr>\n",
       "    <tr>\n",
       "      <th>CITIZEN_ID</th>\n",
       "      <th></th>\n",
       "      <th></th>\n",
       "      <th></th>\n",
       "      <th></th>\n",
       "      <th></th>\n",
       "      <th></th>\n",
       "      <th></th>\n",
       "      <th></th>\n",
       "      <th></th>\n",
       "      <th></th>\n",
       "      <th></th>\n",
       "      <th></th>\n",
       "      <th></th>\n",
       "      <th></th>\n",
       "    </tr>\n",
       "  </thead>\n",
       "  <tbody>\n",
       "    <tr>\n",
       "      <th>12486</th>\n",
       "      <td>Mr. Adam Glover</td>\n",
       "      <td>July 1,2003</td>\n",
       "      <td>Europe</td>\n",
       "      <td>Married</td>\n",
       "      <td>Wife</td>\n",
       "      <td>Northbury</td>\n",
       "      <td>High School + PostGraduation</td>\n",
       "      <td>13</td>\n",
       "      <td>Private Sector - Services</td>\n",
       "      <td>Repair &amp; constructions</td>\n",
       "      <td>40</td>\n",
       "      <td>0</td>\n",
       "      <td>2273</td>\n",
       "      <td>1</td>\n",
       "    </tr>\n",
       "    <tr>\n",
       "      <th>12487</th>\n",
       "      <td>Mr. Cameron McDonald</td>\n",
       "      <td>January 25,2006</td>\n",
       "      <td>Europe</td>\n",
       "      <td>Married</td>\n",
       "      <td>Wife</td>\n",
       "      <td>Northbury</td>\n",
       "      <td>Professional School</td>\n",
       "      <td>12</td>\n",
       "      <td>Public Sector - Others</td>\n",
       "      <td>Repair &amp; constructions</td>\n",
       "      <td>40</td>\n",
       "      <td>0</td>\n",
       "      <td>0</td>\n",
       "      <td>1</td>\n",
       "    </tr>\n",
       "    <tr>\n",
       "      <th>12488</th>\n",
       "      <td>Mr. Keith Davidson</td>\n",
       "      <td>May 10,2009</td>\n",
       "      <td>Europe</td>\n",
       "      <td>Married</td>\n",
       "      <td>Wife</td>\n",
       "      <td>Northbury</td>\n",
       "      <td>Professional School</td>\n",
       "      <td>12</td>\n",
       "      <td>Private Sector - Services</td>\n",
       "      <td>Sales</td>\n",
       "      <td>46</td>\n",
       "      <td>0</td>\n",
       "      <td>2321</td>\n",
       "      <td>1</td>\n",
       "    </tr>\n",
       "    <tr>\n",
       "      <th>12489</th>\n",
       "      <td>Mr. Alexander Gill</td>\n",
       "      <td>March 25,1985</td>\n",
       "      <td>Europe</td>\n",
       "      <td>Married</td>\n",
       "      <td>Wife</td>\n",
       "      <td>Northbury</td>\n",
       "      <td>High School - 2nd Cycle</td>\n",
       "      <td>11</td>\n",
       "      <td>Private Sector - Services</td>\n",
       "      <td>Security</td>\n",
       "      <td>37</td>\n",
       "      <td>5395</td>\n",
       "      <td>0</td>\n",
       "      <td>1</td>\n",
       "    </tr>\n",
       "    <tr>\n",
       "      <th>12490</th>\n",
       "      <td>Mr. Neil Piper</td>\n",
       "      <td>May 29,2015</td>\n",
       "      <td>Europe</td>\n",
       "      <td>Single</td>\n",
       "      <td>Other Family</td>\n",
       "      <td>Northbury</td>\n",
       "      <td>PhD</td>\n",
       "      <td>21</td>\n",
       "      <td>Self-Employed (Individual)</td>\n",
       "      <td>Professor</td>\n",
       "      <td>45</td>\n",
       "      <td>0</td>\n",
       "      <td>0</td>\n",
       "      <td>1</td>\n",
       "    </tr>\n",
       "    <tr>\n",
       "      <th>12491</th>\n",
       "      <td>Mr. Adrian Walsh</td>\n",
       "      <td>September 1,2024</td>\n",
       "      <td>Europe</td>\n",
       "      <td>Single</td>\n",
       "      <td>Children</td>\n",
       "      <td>Northbury</td>\n",
       "      <td>Bachelors</td>\n",
       "      <td>15</td>\n",
       "      <td>Private Sector - Services</td>\n",
       "      <td>Cleaners &amp; Handlers</td>\n",
       "      <td>30</td>\n",
       "      <td>0</td>\n",
       "      <td>0</td>\n",
       "      <td>0</td>\n",
       "    </tr>\n",
       "    <tr>\n",
       "      <th>12492</th>\n",
       "      <td>Mr. Carl Baker</td>\n",
       "      <td>March 31,2012</td>\n",
       "      <td>Europe</td>\n",
       "      <td>Married</td>\n",
       "      <td>Wife</td>\n",
       "      <td>Northbury</td>\n",
       "      <td>Professional School</td>\n",
       "      <td>12</td>\n",
       "      <td>Private Sector - Services</td>\n",
       "      <td>Repair &amp; constructions</td>\n",
       "      <td>40</td>\n",
       "      <td>6369</td>\n",
       "      <td>0</td>\n",
       "      <td>1</td>\n",
       "    </tr>\n",
       "    <tr>\n",
       "      <th>12493</th>\n",
       "      <td>Mr. Liam Hemmings</td>\n",
       "      <td>July 11,2011</td>\n",
       "      <td>Europe</td>\n",
       "      <td>Married - Spouse Missing</td>\n",
       "      <td>Other relatives</td>\n",
       "      <td>Auchenshuggle</td>\n",
       "      <td>High School - 2nd Cycle</td>\n",
       "      <td>11</td>\n",
       "      <td>Private Sector - Services</td>\n",
       "      <td>Other services</td>\n",
       "      <td>40</td>\n",
       "      <td>0</td>\n",
       "      <td>0</td>\n",
       "      <td>0</td>\n",
       "    </tr>\n",
       "    <tr>\n",
       "      <th>12494</th>\n",
       "      <td>Miss Alexandra Tucker</td>\n",
       "      <td>September 24,2024</td>\n",
       "      <td>Europe</td>\n",
       "      <td>Single</td>\n",
       "      <td>Children</td>\n",
       "      <td>Northbury</td>\n",
       "      <td>High School + PostGraduation</td>\n",
       "      <td>13</td>\n",
       "      <td>Private Sector - Others</td>\n",
       "      <td>Machine Operators &amp; Inspectors</td>\n",
       "      <td>40</td>\n",
       "      <td>0</td>\n",
       "      <td>0</td>\n",
       "      <td>0</td>\n",
       "    </tr>\n",
       "    <tr>\n",
       "      <th>12495</th>\n",
       "      <td>Mr. Frank Coleman</td>\n",
       "      <td>July 26,2019</td>\n",
       "      <td>Africa</td>\n",
       "      <td>Single</td>\n",
       "      <td>Other Family</td>\n",
       "      <td>Northbury</td>\n",
       "      <td>Bachelors + PostGraduation</td>\n",
       "      <td>16</td>\n",
       "      <td>Private Sector - Services</td>\n",
       "      <td>Professor</td>\n",
       "      <td>40</td>\n",
       "      <td>0</td>\n",
       "      <td>0</td>\n",
       "      <td>0</td>\n",
       "    </tr>\n",
       "  </tbody>\n",
       "</table>\n",
       "</div>"
      ],
      "text/plain": [
       "                             Name            Birthday Native Continent  \\\n",
       "CITIZEN_ID                                                               \n",
       "12486             Mr. Adam Glover         July 1,2003           Europe   \n",
       "12487        Mr. Cameron McDonald     January 25,2006           Europe   \n",
       "12488          Mr. Keith Davidson         May 10,2009           Europe   \n",
       "12489          Mr. Alexander Gill       March 25,1985           Europe   \n",
       "12490              Mr. Neil Piper         May 29,2015           Europe   \n",
       "12491            Mr. Adrian Walsh    September 1,2024           Europe   \n",
       "12492              Mr. Carl Baker       March 31,2012           Europe   \n",
       "12493           Mr. Liam Hemmings        July 11,2011           Europe   \n",
       "12494       Miss Alexandra Tucker   September 24,2024           Europe   \n",
       "12495           Mr. Frank Coleman        July 26,2019           Africa   \n",
       "\n",
       "                      Marital Status       Lives with      Base Area  \\\n",
       "CITIZEN_ID                                                             \n",
       "12486                        Married             Wife      Northbury   \n",
       "12487                        Married             Wife      Northbury   \n",
       "12488                        Married             Wife      Northbury   \n",
       "12489                        Married             Wife      Northbury   \n",
       "12490                         Single     Other Family      Northbury   \n",
       "12491                         Single         Children      Northbury   \n",
       "12492                        Married             Wife      Northbury   \n",
       "12493       Married - Spouse Missing  Other relatives  Auchenshuggle   \n",
       "12494                         Single         Children      Northbury   \n",
       "12495                         Single     Other Family      Northbury   \n",
       "\n",
       "                         Education Level  Years of Education  \\\n",
       "CITIZEN_ID                                                     \n",
       "12486       High School + PostGraduation                  13   \n",
       "12487                Professional School                  12   \n",
       "12488                Professional School                  12   \n",
       "12489            High School - 2nd Cycle                  11   \n",
       "12490                                PhD                  21   \n",
       "12491                          Bachelors                  15   \n",
       "12492                Professional School                  12   \n",
       "12493            High School - 2nd Cycle                  11   \n",
       "12494       High School + PostGraduation                  13   \n",
       "12495         Bachelors + PostGraduation                  16   \n",
       "\n",
       "                     Employment Sector                            Role  \\\n",
       "CITIZEN_ID                                                               \n",
       "12486       Private Sector - Services           Repair & constructions   \n",
       "12487           Public Sector - Others          Repair & constructions   \n",
       "12488       Private Sector - Services                            Sales   \n",
       "12489       Private Sector - Services                         Security   \n",
       "12490       Self-Employed (Individual)                       Professor   \n",
       "12491       Private Sector - Services              Cleaners & Handlers   \n",
       "12492       Private Sector - Services           Repair & constructions   \n",
       "12493       Private Sector - Services                   Other services   \n",
       "12494          Private Sector - Others  Machine Operators & Inspectors   \n",
       "12495       Private Sector - Services                        Professor   \n",
       "\n",
       "            Working Hours per week  Money Received  Ticket Price  Income  \n",
       "CITIZEN_ID                                                                \n",
       "12486                           40               0          2273       1  \n",
       "12487                           40               0             0       1  \n",
       "12488                           46               0          2321       1  \n",
       "12489                           37            5395             0       1  \n",
       "12490                           45               0             0       1  \n",
       "12491                           30               0             0       0  \n",
       "12492                           40            6369             0       1  \n",
       "12493                           40               0             0       0  \n",
       "12494                           40               0             0       0  \n",
       "12495                           40               0             0       0  "
      ]
     },
     "execution_count": 2,
     "metadata": {},
     "output_type": "execute_result"
    }
   ],
   "source": [
    "training.set_index('CITIZEN_ID', inplace = True) #definir citizen_id como índex\n",
    "training.head(10)"
   ]
  },
  {
   "cell_type": "markdown",
   "id": "72978eab",
   "metadata": {},
   "source": [
    "# Exploration"
   ]
  },
  {
   "cell_type": "markdown",
   "id": "3bdcdd4d",
   "metadata": {},
   "source": [
    "### Check Outliers"
   ]
  },
  {
   "cell_type": "code",
   "execution_count": 3,
   "id": "01aafef9",
   "metadata": {},
   "outputs": [
    {
     "data": {
      "text/plain": [
       "<AxesSubplot:xlabel='Years of Education'>"
      ]
     },
     "execution_count": 3,
     "metadata": {},
     "output_type": "execute_result"
    },
    {
     "data": {
      "image/png": "[encoded data removed]",
      "text/plain": [
       "<Figure size 432x288 with 1 Axes>"
      ]
     },
     "metadata": {
      "needs_background": "light"
     },
     "output_type": "display_data"
    }
   ],
   "source": [
    "sns.boxplot(x='Years of Education', data = training)"
   ]
  },
  {
   "cell_type": "code",
   "execution_count": 4,
   "id": "e7075c6d",
   "metadata": {},
   "outputs": [
    {
     "data": {
      "text/plain": [
       "<AxesSubplot:xlabel='Years of Education', ylabel='Marital Status'>"
      ]
     },
     "execution_count": 4,
     "metadata": {},
     "output_type": "execute_result"
    },
    {
     "data": {
      "image/png": "[encoded data removed]",
      "text/plain": [
       "<Figure size 432x288 with 1 Axes>"
      ]
     },
     "metadata": {
      "needs_background": "light"
     },
     "output_type": "display_data"
    }
   ],
   "source": [
    "sns.boxplot(x= 'Years of Education', y='Marital Status', data=training, orient='h', palette='coolwarm') # dividido por marital status"
   ]
  },
  {
   "cell_type": "code",
   "execution_count": 5,
   "id": "eb226d05",
   "metadata": {},
   "outputs": [
    {
     "data": {
      "text/plain": [
       "<AxesSubplot:xlabel='Years of Education', ylabel='Role'>"
      ]
     },
     "execution_count": 5,
     "metadata": {},
     "output_type": "execute_result"
    },
    {
     "data": {
      "image/png": "[encoded data removed]",
      "text/plain": [
       "<Figure size 432x288 with 1 Axes>"
      ]
     },
     "metadata": {
      "needs_background": "light"
     },
     "output_type": "display_data"
    }
   ],
   "source": [
    "sns.boxplot(x= 'Years of Education', y='Role', data=training, orient='h', palette='coolwarm')"
   ]
  },
  {
   "cell_type": "code",
   "execution_count": 6,
   "id": "b10a7fbc",
   "metadata": {},
   "outputs": [
    {
     "data": {
      "text/plain": [
       "<AxesSubplot:xlabel='Working Hours per week'>"
      ]
     },
     "execution_count": 6,
     "metadata": {},
     "output_type": "execute_result"
    },
    {
     "data": {
      "image/png": "[encoded data removed]",
      "text/plain": [
       "<Figure size 432x288 with 1 Axes>"
      ]
     },
     "metadata": {
      "needs_background": "light"
     },
     "output_type": "display_data"
    }
   ],
   "source": [
    "sns.boxplot(x='Working Hours per week', data = training)"
   ]
  },
  {
   "cell_type": "code",
   "execution_count": 7,
   "id": "8e668bd8",
   "metadata": {},
   "outputs": [
    {
     "data": {
      "text/plain": [
       "Years of Education        19.5\n",
       "Working Hours per week    52.5\n",
       "Money Received             0.0\n",
       "Ticket Price               0.0\n",
       "Income                     0.0\n",
       "dtype: float64"
      ]
     },
     "execution_count": 7,
     "metadata": {},
     "output_type": "execute_result"
    }
   ],
   "source": [
    "# Ver o extremo máximo de cada variável numérica\n",
    "iq = training.quantile(0.75) - training.quantile(0.25)\n",
    "upper_max = training.quantile(0.75) +1.5*iq\n",
    "upper_max"
   ]
  },
  {
   "cell_type": "code",
   "execution_count": 8,
   "id": "852ece70",
   "metadata": {},
   "outputs": [
    {
     "data": {
      "text/plain": [
       "Years of Education         7.5\n",
       "Working Hours per week    32.5\n",
       "Money Received             0.0\n",
       "Ticket Price               0.0\n",
       "Income                     0.0\n",
       "dtype: float64"
      ]
     },
     "execution_count": 8,
     "metadata": {},
     "output_type": "execute_result"
    }
   ],
   "source": [
    "# Ver o extremo mínimo de cada variável numérica\n",
    "upper_min = training.quantile(0.25) -1.5*iq\n",
    "upper_min "
   ]
  },
  {
   "cell_type": "code",
   "execution_count": 9,
   "id": "acf2bf7c",
   "metadata": {},
   "outputs": [
    {
     "data": {
      "text/plain": [
       "Name                      0\n",
       "Birthday                  0\n",
       "Native Continent          0\n",
       "Marital Status            0\n",
       "Lives with                0\n",
       "Base Area                 0\n",
       "Education Level           0\n",
       "Years of Education        0\n",
       "Employment Sector         0\n",
       "Role                      0\n",
       "Working Hours per week    0\n",
       "Money Received            0\n",
       "Ticket Price              0\n",
       "Income                    0\n",
       "dtype: int64"
      ]
     },
     "execution_count": 9,
     "metadata": {},
     "output_type": "execute_result"
    }
   ],
   "source": [
    "# Mínimos: procurar valores inferiores aos extremos\n",
    "training[training['Years of Education'] < 7.5].count() # 392 obs = 1.75% das obs\n",
    "training[training['Working Hours per week'] < 32.5].count() # 3783 obs = 16.89% das obs\n",
    "training[training['Money Received'] < 0].count() # 0 obs = 0% das obs\n",
    "training[training['Income'] < 0].count() # 0 obs = 0% das obs\n",
    "training[training['Ticket Price'] < 0].count() # 0 obs = 0% das obs"
   ]
  },
  {
   "cell_type": "markdown",
   "id": "d739c2cc",
   "metadata": {},
   "source": [
    "= 18.64% dos dados são outliers (antes do extremo inferior)\n",
    "\n",
    "Excluindo Money Received e Ticket Price, que representam as categorias de quem paga ou quem recebe, uma vez que não são dados que se diferenciam drasticamente dos outros e excluindo Income uma vez que 0 é tanto extremo inferior como superior"
   ]
  },
  {
   "cell_type": "code",
   "execution_count": 10,
   "id": "a082f8a9",
   "metadata": {},
   "outputs": [
    {
     "data": {
      "text/plain": [
       "Name                      1057\n",
       "Birthday                  1057\n",
       "Native Continent          1057\n",
       "Marital Status            1057\n",
       "Lives with                1057\n",
       "Base Area                 1057\n",
       "Education Level           1057\n",
       "Years of Education        1057\n",
       "Employment Sector         1057\n",
       "Role                      1057\n",
       "Working Hours per week    1057\n",
       "Money Received            1057\n",
       "Ticket Price              1057\n",
       "Income                    1057\n",
       "dtype: int64"
      ]
     },
     "execution_count": 10,
     "metadata": {},
     "output_type": "execute_result"
    }
   ],
   "source": [
    "# Máximos: procurar valores superiores aos extremos\n",
    "training[training['Years of Education'] > 19.5].count() # 289 obs = 1.29% das obs\n",
    "training[training['Working Hours per week'] > 52.5].count() # 2442 obs = 10.9% das obs\n",
    "training[training['Money Received'] > 0].count() # 1832 obs = 8.17% das obs\n",
    "training[training['Income'] > 0].count() # 5311 obs = 23.7% das obs\n",
    "training[training['Ticket Price'] > 0].count() # 1057 obs = 4.7% das obs"
   ]
  },
  {
   "cell_type": "markdown",
   "id": "d6092fd5",
   "metadata": {},
   "source": [
    "= 12.19% dos dados são outliers (depois do extremo superior)\n",
    "\n",
    "Excluindo Money Received e Ticket Price, que representam as categorias de quem paga ou quem recebe, uma vez que não são dados que se diferenciam drasticamente dos outros e excluindo Income uma vez que 0 é tanto extremo inferior como superior"
   ]
  },
  {
   "cell_type": "markdown",
   "id": "c097f8ff",
   "metadata": {},
   "source": [
    "### Check incoherence"
   ]
  },
  {
   "cell_type": "code",
   "execution_count": 11,
   "id": "c8e2c8e8",
   "metadata": {},
   "outputs": [
    {
     "name": "stdout",
     "output_type": "stream",
     "text": [
      "99\n",
      "0\n",
      "0\n",
      "0    17089\n",
      "1     5311\n",
      "Name: Income, dtype: int64\n",
      "21\n"
     ]
    }
   ],
   "source": [
    "print(training['Working Hours per week'].max())\n",
    "print(training['Money Received'].min()) \n",
    "print(training['Ticket Price'].min()) \n",
    "print(training['Income'].value_counts()) \n",
    "print(training['Years of Education'].max()) "
   ]
  },
  {
   "cell_type": "markdown",
   "id": "4e45ed7b",
   "metadata": {},
   "source": [
    "Não há Money Received nem Ticket Price negativos\n",
    "\n",
    "O Income apenas toma os valores de 0 ou 1"
   ]
  },
  {
   "cell_type": "markdown",
   "id": "b0f291c9",
   "metadata": {},
   "source": [
    "### Check Missing Values"
   ]
  },
  {
   "cell_type": "code",
   "execution_count": 12,
   "id": "201e4ab8",
   "metadata": {},
   "outputs": [
    {
     "name": "stdout",
     "output_type": "stream",
     "text": [
      "<class 'pandas.core.frame.DataFrame'>\n",
      "Int64Index: 22400 entries, 12486 to 34885\n",
      "Data columns (total 14 columns):\n",
      " #   Column                  Non-Null Count  Dtype \n",
      "---  ------                  --------------  ----- \n",
      " 0   Name                    22400 non-null  object\n",
      " 1   Birthday                22400 non-null  object\n",
      " 2   Native Continent        22400 non-null  object\n",
      " 3   Marital Status          22400 non-null  object\n",
      " 4   Lives with              22400 non-null  object\n",
      " 5   Base Area               22400 non-null  object\n",
      " 6   Education Level         22400 non-null  object\n",
      " 7   Years of Education      22400 non-null  int64 \n",
      " 8   Employment Sector       22400 non-null  object\n",
      " 9   Role                    22400 non-null  object\n",
      " 10  Working Hours per week  22400 non-null  int64 \n",
      " 11  Money Received          22400 non-null  int64 \n",
      " 12  Ticket Price            22400 non-null  int64 \n",
      " 13  Income                  22400 non-null  int64 \n",
      "dtypes: int64(5), object(9)\n",
      "memory usage: 3.1+ MB\n"
     ]
    }
   ],
   "source": [
    "training.info()"
   ]
  },
  {
   "cell_type": "code",
   "execution_count": 13,
   "id": "44629641",
   "metadata": {},
   "outputs": [
    {
     "data": {
      "text/plain": [
       "Professor                         2849\n",
       "Management                        2797\n",
       "Repair & constructions            2795\n",
       "Administratives                   2608\n",
       "Sales                             2531\n",
       "Other services                    2287\n",
       "Machine Operators & Inspectors    1384\n",
       "?                                 1271\n",
       "Transports                        1071\n",
       "Cleaners & Handlers                922\n",
       "Agriculture and Fishing            702\n",
       "IT                                 626\n",
       "Security                           450\n",
       "Household Services                 102\n",
       "Army                                 5\n",
       "Name: Role, dtype: int64"
      ]
     },
     "execution_count": 13,
     "metadata": {},
     "output_type": "execute_result"
    }
   ],
   "source": [
    "training['Employment Sector'].value_counts()\n",
    "training['Native Continent'].value_counts()\n",
    "training['Marital Status'].value_counts()\n",
    "training['Lives with'].value_counts()\n",
    "training['Base Area'].value_counts()\n",
    "training['Education Level'].value_counts()\n",
    "training['Years of Education'].value_counts()\n",
    "training['Role'].value_counts()"
   ]
  },
  {
   "cell_type": "markdown",
   "id": "15d7e8fb",
   "metadata": {},
   "source": [
    "Não existem missing values. No entanto, existem várias colunas em que há a presença de um \"?\", que é assim considerado um missing value. As variáveis que contêm este missing value são então: Employment Sector, Base Area, Role"
   ]
  },
  {
   "cell_type": "code",
   "execution_count": 14,
   "id": "740d19d1",
   "metadata": {},
   "outputs": [
    {
     "data": {
      "text/plain": [
       "Name                      object\n",
       "Birthday                  object\n",
       "Native Continent          object\n",
       "Marital Status            object\n",
       "Lives with                object\n",
       "Base Area                 object\n",
       "Education Level           object\n",
       "Years of Education         int64\n",
       "Employment Sector         object\n",
       "Role                      object\n",
       "Working Hours per week     int64\n",
       "Money Received             int64\n",
       "Ticket Price               int64\n",
       "Income                     int64\n",
       "dtype: object"
      ]
     },
     "execution_count": 14,
     "metadata": {},
     "output_type": "execute_result"
    }
   ],
   "source": [
    "training.dtypes"
   ]
  },
  {
   "cell_type": "code",
   "execution_count": 15,
   "id": "7e5eb940",
   "metadata": {},
   "outputs": [
    {
     "data": {
      "text/html": [
       "<div>\n",
       "<style scoped>\n",
       "    .dataframe tbody tr th:only-of-type {\n",
       "        vertical-align: middle;\n",
       "    }\n",
       "\n",
       "    .dataframe tbody tr th {\n",
       "        vertical-align: top;\n",
       "    }\n",
       "\n",
       "    .dataframe thead th {\n",
       "        text-align: right;\n",
       "    }\n",
       "</style>\n",
       "<table border=\"1\" class=\"dataframe\">\n",
       "  <thead>\n",
       "    <tr style=\"text-align: right;\">\n",
       "      <th></th>\n",
       "      <th>Years of Education</th>\n",
       "      <th>Working Hours per week</th>\n",
       "      <th>Money Received</th>\n",
       "      <th>Ticket Price</th>\n",
       "      <th>Income</th>\n",
       "    </tr>\n",
       "  </thead>\n",
       "  <tbody>\n",
       "    <tr>\n",
       "      <th>count</th>\n",
       "      <td>22400.000000</td>\n",
       "      <td>22400.000000</td>\n",
       "      <td>22400.000000</td>\n",
       "      <td>22400.000000</td>\n",
       "      <td>22400.000000</td>\n",
       "    </tr>\n",
       "    <tr>\n",
       "      <th>mean</th>\n",
       "      <td>13.173884</td>\n",
       "      <td>40.483795</td>\n",
       "      <td>1324.915357</td>\n",
       "      <td>109.145313</td>\n",
       "      <td>0.237098</td>\n",
       "    </tr>\n",
       "    <tr>\n",
       "      <th>std</th>\n",
       "      <td>2.512451</td>\n",
       "      <td>12.370921</td>\n",
       "      <td>9227.771813</td>\n",
       "      <td>500.208904</td>\n",
       "      <td>0.425313</td>\n",
       "    </tr>\n",
       "    <tr>\n",
       "      <th>min</th>\n",
       "      <td>2.000000</td>\n",
       "      <td>1.000000</td>\n",
       "      <td>0.000000</td>\n",
       "      <td>0.000000</td>\n",
       "      <td>0.000000</td>\n",
       "    </tr>\n",
       "    <tr>\n",
       "      <th>25%</th>\n",
       "      <td>12.000000</td>\n",
       "      <td>40.000000</td>\n",
       "      <td>0.000000</td>\n",
       "      <td>0.000000</td>\n",
       "      <td>0.000000</td>\n",
       "    </tr>\n",
       "    <tr>\n",
       "      <th>50%</th>\n",
       "      <td>13.000000</td>\n",
       "      <td>40.000000</td>\n",
       "      <td>0.000000</td>\n",
       "      <td>0.000000</td>\n",
       "      <td>0.000000</td>\n",
       "    </tr>\n",
       "    <tr>\n",
       "      <th>75%</th>\n",
       "      <td>15.000000</td>\n",
       "      <td>45.000000</td>\n",
       "      <td>0.000000</td>\n",
       "      <td>0.000000</td>\n",
       "      <td>0.000000</td>\n",
       "    </tr>\n",
       "    <tr>\n",
       "      <th>max</th>\n",
       "      <td>21.000000</td>\n",
       "      <td>99.000000</td>\n",
       "      <td>122999.000000</td>\n",
       "      <td>5358.000000</td>\n",
       "      <td>1.000000</td>\n",
       "    </tr>\n",
       "  </tbody>\n",
       "</table>\n",
       "</div>"
      ],
      "text/plain": [
       "       Years of Education  Working Hours per week  Money Received  \\\n",
       "count        22400.000000            22400.000000    22400.000000   \n",
       "mean            13.173884               40.483795     1324.915357   \n",
       "std              2.512451               12.370921     9227.771813   \n",
       "min              2.000000                1.000000        0.000000   \n",
       "25%             12.000000               40.000000        0.000000   \n",
       "50%             13.000000               40.000000        0.000000   \n",
       "75%             15.000000               45.000000        0.000000   \n",
       "max             21.000000               99.000000   122999.000000   \n",
       "\n",
       "       Ticket Price        Income  \n",
       "count  22400.000000  22400.000000  \n",
       "mean     109.145313      0.237098  \n",
       "std      500.208904      0.425313  \n",
       "min        0.000000      0.000000  \n",
       "25%        0.000000      0.000000  \n",
       "50%        0.000000      0.000000  \n",
       "75%        0.000000      0.000000  \n",
       "max     5358.000000      1.000000  "
      ]
     },
     "execution_count": 15,
     "metadata": {},
     "output_type": "execute_result"
    }
   ],
   "source": [
    "training.describe()"
   ]
  },
  {
   "cell_type": "markdown",
   "id": "92dd6a88",
   "metadata": {},
   "source": [
    "### Visual Exploration"
   ]
  },
  {
   "cell_type": "code",
   "execution_count": 16,
   "id": "cadafcb3",
   "metadata": {},
   "outputs": [
    {
     "data": {
      "image/png": "[encoded data removed]",
      "text/plain": [
       "<Figure size 432x288 with 1 Axes>"
      ]
     },
     "metadata": {
      "needs_background": "light"
     },
     "output_type": "display_data"
    },
    {
     "data": {
      "image/png": "[encoded data removed]",
      "text/plain": [
       "<Figure size 432x288 with 1 Axes>"
      ]
     },
     "metadata": {
      "needs_background": "light"
     },
     "output_type": "display_data"
    },
    {
     "data": {
      "image/png": "[encoded data removed]",
      "text/plain": [
       "<Figure size 432x288 with 1 Axes>"
      ]
     },
     "metadata": {
      "needs_background": "light"
     },
     "output_type": "display_data"
    },
    {
     "data": {
      "image/png": "[encoded data removed]",
      "text/plain": [
       "<Figure size 432x288 with 1 Axes>"
      ]
     },
     "metadata": {
      "needs_background": "light"
     },
     "output_type": "display_data"
    },
    {
     "data": {
      "image/png": "[encoded data removed]",
      "text/plain": [
       "<Figure size 432x288 with 1 Axes>"
      ]
     },
     "metadata": {
      "needs_background": "light"
     },
     "output_type": "display_data"
    }
   ],
   "source": [
    "# criar dataframes de dados numéricos e dados categóricos para depois poder analisar as distribuições\n",
    "numerical_df = training[['Years of Education','Working Hours per week','Money Received','Ticket Price', 'Income']]\n",
    "categorical_df = training[['Name','Birthday','Native Continent','Marital Status','Lives with','Base Area', 'Education Level', 'Employment Sector',\n",
    "                          'Role']]\n",
    "\n",
    "for i in numerical_df.columns:\n",
    "    plt.hist(numerical_df[i])\n",
    "    plt.title(i)\n",
    "    plt.show()"
   ]
  },
  {
   "cell_type": "markdown",
   "id": "cb70c454",
   "metadata": {},
   "source": [
    "Aqui temos uma representação visual das distribuições das variáveis numéricas"
   ]
  },
  {
   "cell_type": "code",
   "execution_count": 17,
   "id": "dcbd72fc",
   "metadata": {},
   "outputs": [
    {
     "data": {
      "text/plain": [
       "<AxesSubplot:>"
      ]
     },
     "execution_count": 17,
     "metadata": {},
     "output_type": "execute_result"
    },
    {
     "data": {
      "image/png": "[encoded data removed]",
      "text/plain": [
       "<Figure size 360x360 with 2 Axes>"
      ]
     },
     "metadata": {
      "needs_background": "light"
     },
     "output_type": "display_data"
    }
   ],
   "source": [
    "plt.figure(figsize=(5,5))\n",
    "sns.heatmap(training.corr(method='spearman'), annot=True, cmap=plt.cm.Reds)"
   ]
  },
  {
   "cell_type": "markdown",
   "id": "2e9f01e6",
   "metadata": {},
   "source": [
    "Aqui conseguimos ver o mapa de correlações Spearman entre as variáveis numéricas, em que a correlação com maior destaque é Income x Years of Education."
   ]
  },
  {
   "cell_type": "code",
   "execution_count": 18,
   "id": "66be2fd5",
   "metadata": {},
   "outputs": [
    {
     "data": {
      "text/plain": [
       "<AxesSubplot:>"
      ]
     },
     "execution_count": 18,
     "metadata": {},
     "output_type": "execute_result"
    },
    {
     "data": {
      "image/png": "[encoded data removed]",
      "text/plain": [
       "<Figure size 360x360 with 2 Axes>"
      ]
     },
     "metadata": {
      "needs_background": "light"
     },
     "output_type": "display_data"
    }
   ],
   "source": [
    "plt.figure(figsize=(5,5))\n",
    "sns.heatmap(training.corr(method='pearson'), annot=True, cmap=plt.cm.Reds)"
   ]
  },
  {
   "cell_type": "markdown",
   "id": "cc17cf91",
   "metadata": {},
   "source": [
    "Aqui conseguimos ver o mapa de correlações Pearson entre as variáveis numéricas, em que a correlação com maior destaque é Income x Years of Education tal como nas correlações Spearman, desta vez com uma correlação de 0,33."
   ]
  },
  {
   "cell_type": "markdown",
   "id": "64ea504b",
   "metadata": {},
   "source": [
    "## Data Preparation"
   ]
  },
  {
   "cell_type": "markdown",
   "id": "e09cff36",
   "metadata": {},
   "source": [
    "### Feature Engineering"
   ]
  },
  {
   "cell_type": "code",
   "execution_count": 19,
   "id": "b976cdc1",
   "metadata": {},
   "outputs": [
    {
     "data": {
      "text/plain": [
       "Private Sector    17743\n",
       "Self-Employed      2527\n",
       "Public Sector      2111\n",
       "Unemployed           19\n",
       "Name: Employment Sector, dtype: int64"
      ]
     },
     "execution_count": 19,
     "metadata": {},
     "output_type": "execute_result"
    }
   ],
   "source": [
    "training['Employment Sector'] = training['Employment Sector'].replace('?', training['Employment Sector'].value_counts().idxmax())\n",
    "training['Employment Sector'] = training['Employment Sector'].replace(['Private Sector - Services ', 'Private Sector - Others'], ['Private Sector','Private Sector'])\n",
    "training['Employment Sector'] = training['Employment Sector'].replace(['Public Sector - Others', 'Public Sector - Government'], ['Public Sector','Public Sector'])\n",
    "training['Employment Sector'] = training['Employment Sector'].replace(['Self-Employed (Individual)', 'Self-Employed (Company)'], ['Self-Employed','Self-Employed'])\n",
    "training['Employment Sector'] = training['Employment Sector'].replace(['Unemployed', 'Never Worked'], ['Unemployed', 'Unemployed'])\n",
    "\n",
    "training['Employment Sector'].value_counts()"
   ]
  },
  {
   "cell_type": "markdown",
   "id": "b6f25a2d",
   "metadata": {},
   "source": [
    "Para tratar do missing value \"?\" nesta variável, decidimos substituir esses valores pela moda, sendo uma abordagem fácil e segura pois não tem muito impacto nas frequências. De resto, agrupamos todos os Private Sector, todos os Public Sector, todos os Self-Employed e todos os Unemployed, uma vez que ao estarem em classes separadas se pudessem tornar redondantes."
   ]
  },
  {
   "cell_type": "code",
   "execution_count": 20,
   "id": "6e8d7633",
   "metadata": {},
   "outputs": [
    {
     "data": {
      "text/plain": [
       "Europe     19111\n",
       "Africa      2187\n",
       "Asia         699\n",
       "America      219\n",
       "Oceania      184\n",
       "Name: Native Continent, dtype: int64"
      ]
     },
     "execution_count": 20,
     "metadata": {},
     "output_type": "execute_result"
    }
   ],
   "source": [
    "training['Base Area'] = training['Base Area'].replace('?', training['Base Area'].value_counts().idxmax())\n",
    "\n",
    "training['Base Area'].value_counts()\n",
    "training['Native Continent'].value_counts()"
   ]
  },
  {
   "cell_type": "code",
   "execution_count": 21,
   "id": "666af35b",
   "metadata": {},
   "outputs": [
    {
     "data": {
      "text/plain": [
       "Superior Education       12257\n",
       "High School Education     8977\n",
       "Basic Education           1166\n",
       "Name: Education Level, dtype: int64"
      ]
     },
     "execution_count": 21,
     "metadata": {},
     "output_type": "execute_result"
    }
   ],
   "source": [
    "training.replace(['Middle School - 2nd Cycle', 'Middle School Complete', 'Middle School - 1st Cycle', 'Primary School', 'Preschool'], ['Basic Education']*5, inplace = True)\n",
    "training.replace(['Professional School', 'High School - 2nd Cycle','High School - 1st Cycle','High School Complete'], ['High School Education']*4, inplace = True)\n",
    "training.replace(['High School + PostGraduation', 'Bachelors + PostGraduation','Masters','Professional School + PostGraduation', 'Bachelors', 'Masters + PostGraduation', 'PhD'], ['Superior Education']*7, inplace = True)\n",
    "\n",
    "training['Education Level'].value_counts()"
   ]
  },
  {
   "cell_type": "markdown",
   "id": "cf64d9db",
   "metadata": {},
   "source": [
    "À semelhança da possível redondância vista anteriormente, agrupamos os diferentes níveis de educação de forma a concentrar apenas 3 níveis: Basic Education, High School Education e Superior Education"
   ]
  },
  {
   "cell_type": "code",
   "execution_count": 22,
   "id": "9b880fc7",
   "metadata": {},
   "outputs": [
    {
     "data": {
      "text/plain": [
       "Professor                         2849\n",
       "Management                        2797\n",
       "Repair & constructions            2795\n",
       "Administratives                   2608\n",
       "Sales                             2531\n",
       "Other services                    2287\n",
       "Machine Operators & Inspectors    1384\n",
       "Unknown                           1271\n",
       "Transports                        1071\n",
       "Cleaners & Handlers                922\n",
       "Agriculture and Fishing            702\n",
       "IT                                 626\n",
       "Security                           450\n",
       "Household Services                 102\n",
       "Army                                 5\n",
       "Name: Role, dtype: int64"
      ]
     },
     "execution_count": 22,
     "metadata": {},
     "output_type": "execute_result"
    }
   ],
   "source": [
    "training['Role'] = training['Role'].replace('?', 'Unknown')\n",
    "\n",
    "training['Role'].value_counts()"
   ]
  },
  {
   "cell_type": "code",
   "execution_count": 23,
   "id": "7b836f54",
   "metadata": {},
   "outputs": [
    {
     "data": {
      "text/plain": [
       "Married      10517\n",
       "Single        7416\n",
       "Divorced      3072\n",
       "Separated      699\n",
       "Widow          696\n",
       "Name: Marital Status, dtype: int64"
      ]
     },
     "execution_count": 23,
     "metadata": {},
     "output_type": "execute_result"
    }
   ],
   "source": [
    "training['Marital Status'] = training['Marital Status'].replace(['Married - Spouse in the Army', 'Married - Spouse Missing'], ['Married','Married'])\n",
    "\n",
    "training['Marital Status'].value_counts()"
   ]
  },
  {
   "cell_type": "code",
   "execution_count": 24,
   "id": "a1d75bf5",
   "metadata": {},
   "outputs": [
    {
     "data": {
      "text/plain": [
       "Partner     10061\n",
       "Family       6458\n",
       "Children     3519\n",
       "Alone        2362\n",
       "Name: Lives with, dtype: int64"
      ]
     },
     "execution_count": 24,
     "metadata": {},
     "output_type": "execute_result"
    }
   ],
   "source": [
    "training['Lives with'] = training['Lives with'].replace(['Wife', 'Husband'], ['Partner','Partner'])\n",
    "training['Lives with'] = training['Lives with'].replace(['Other Family', 'Other relatives'], ['Family','Family'])\n",
    "\n",
    "training['Lives with'].value_counts()"
   ]
  },
  {
   "cell_type": "markdown",
   "id": "4dd1e1b5",
   "metadata": {},
   "source": [
    "### Fix extreme outliers"
   ]
  },
  {
   "cell_type": "code",
   "execution_count": 25,
   "id": "9d2e6559",
   "metadata": {},
   "outputs": [
    {
     "data": {
      "text/plain": [
       "Name                      183\n",
       "Birthday                  183\n",
       "Native Continent          183\n",
       "Marital Status            183\n",
       "Lives with                183\n",
       "Base Area                 183\n",
       "Education Level           183\n",
       "Years of Education        183\n",
       "Employment Sector         183\n",
       "Role                      183\n",
       "Working Hours per week    183\n",
       "Money Received            183\n",
       "Ticket Price              183\n",
       "Income                    183\n",
       "dtype: int64"
      ]
     },
     "execution_count": 25,
     "metadata": {},
     "output_type": "execute_result"
    }
   ],
   "source": [
    "training[training['Working Hours per week'] < 7].count() # apagar 183 inferiores a 7 e 149 superiores a 80"
   ]
  },
  {
   "cell_type": "code",
   "execution_count": 26,
   "id": "28ff2840",
   "metadata": {},
   "outputs": [
    {
     "data": {
      "text/plain": [
       "Name                      149\n",
       "Birthday                  149\n",
       "Native Continent          149\n",
       "Marital Status            149\n",
       "Lives with                149\n",
       "Base Area                 149\n",
       "Education Level           149\n",
       "Years of Education        149\n",
       "Employment Sector         149\n",
       "Role                      149\n",
       "Working Hours per week    149\n",
       "Money Received            149\n",
       "Ticket Price              149\n",
       "Income                    149\n",
       "dtype: int64"
      ]
     },
     "execution_count": 26,
     "metadata": {},
     "output_type": "execute_result"
    }
   ],
   "source": [
    "training[training['Working Hours per week'] > 80].count()"
   ]
  },
  {
   "cell_type": "code",
   "execution_count": 27,
   "id": "a678deae",
   "metadata": {},
   "outputs": [
    {
     "data": {
      "text/plain": [
       "Name                      155\n",
       "Birthday                  155\n",
       "Native Continent          155\n",
       "Marital Status            155\n",
       "Lives with                155\n",
       "Base Area                 155\n",
       "Education Level           155\n",
       "Years of Education        155\n",
       "Employment Sector         155\n",
       "Role                      155\n",
       "Working Hours per week    155\n",
       "Money Received            155\n",
       "Ticket Price              155\n",
       "Income                    155\n",
       "dtype: int64"
      ]
     },
     "execution_count": 27,
     "metadata": {},
     "output_type": "execute_result"
    }
   ],
   "source": [
    "training[training['Years of Education'] < 5].count() # apagar 155 inferiores a 5"
   ]
  },
  {
   "cell_type": "code",
   "execution_count": 28,
   "id": "21ad80e8",
   "metadata": {},
   "outputs": [],
   "source": [
    "training.loc[training['Working Hours per week'] < 7,'Working Hours per week'] = np.nan\n",
    "training.loc[training['Working Hours per week'] > 80,'Working Hours per week'] = np.nan"
   ]
  },
  {
   "cell_type": "code",
   "execution_count": 29,
   "id": "fea169b4",
   "metadata": {},
   "outputs": [],
   "source": [
    "training.loc[training['Years of Education'] < 5,'Years of Education'] = np.nan"
   ]
  },
  {
   "cell_type": "markdown",
   "id": "264b4b04",
   "metadata": {},
   "source": [
    "Substituimos os outliers extremos por missing values, de forma a conseguir aplicar técnicas de imputação de dados."
   ]
  },
  {
   "cell_type": "code",
   "execution_count": 30,
   "id": "8a6cf435",
   "metadata": {},
   "outputs": [
    {
     "data": {
      "text/plain": [
       "Name                        0\n",
       "Birthday                    0\n",
       "Native Continent            0\n",
       "Marital Status              0\n",
       "Lives with                  0\n",
       "Base Area                   0\n",
       "Education Level             0\n",
       "Years of Education        155\n",
       "Employment Sector           0\n",
       "Role                        0\n",
       "Working Hours per week    332\n",
       "Money Received              0\n",
       "Ticket Price                0\n",
       "Income                      0\n",
       "dtype: int64"
      ]
     },
     "execution_count": 30,
     "metadata": {},
     "output_type": "execute_result"
    }
   ],
   "source": [
    "training.isnull().sum()\n",
    "# 487 nulos - 2.17% dos dados"
   ]
  },
  {
   "cell_type": "markdown",
   "id": "2b338f33",
   "metadata": {},
   "source": [
    "### KNN Imputation"
   ]
  },
  {
   "cell_type": "code",
   "execution_count": 31,
   "id": "0d27cb96",
   "metadata": {},
   "outputs": [
    {
     "data": {
      "text/plain": [
       "Name                      0\n",
       "Birthday                  0\n",
       "Native Continent          0\n",
       "Marital Status            0\n",
       "Lives with                0\n",
       "Base Area                 0\n",
       "Education Level           0\n",
       "Years of Education        0\n",
       "Employment Sector         0\n",
       "Role                      0\n",
       "Working Hours per week    0\n",
       "Money Received            0\n",
       "Ticket Price              0\n",
       "Income                    0\n",
       "dtype: int64"
      ]
     },
     "execution_count": 31,
     "metadata": {},
     "output_type": "execute_result"
    }
   ],
   "source": [
    "from sklearn.impute import KNNImputer\n",
    "train_knn = training.copy(deep=True)\n",
    "\n",
    "knn_imputer = KNNImputer(n_neighbors=2, weights=\"uniform\")\n",
    "train_knn['Years of Education'] = knn_imputer.fit_transform(train_knn[['Years of Education']])\n",
    "train_knn['Working Hours per week'] = knn_imputer.fit_transform(train_knn[['Working Hours per week']])\n",
    "train_knn.isnull().sum()"
   ]
  },
  {
   "cell_type": "code",
   "execution_count": 32,
   "id": "227305fc",
   "metadata": {},
   "outputs": [],
   "source": [
    "train_knn = train_knn.round(0)"
   ]
  },
  {
   "cell_type": "code",
   "execution_count": 33,
   "id": "6da0aa53",
   "metadata": {},
   "outputs": [
    {
     "data": {
      "text/html": [
       "<div>\n",
       "<style scoped>\n",
       "    .dataframe tbody tr th:only-of-type {\n",
       "        vertical-align: middle;\n",
       "    }\n",
       "\n",
       "    .dataframe tbody tr th {\n",
       "        vertical-align: top;\n",
       "    }\n",
       "\n",
       "    .dataframe thead th {\n",
       "        text-align: right;\n",
       "    }\n",
       "</style>\n",
       "<table border=\"1\" class=\"dataframe\">\n",
       "  <thead>\n",
       "    <tr style=\"text-align: right;\">\n",
       "      <th></th>\n",
       "      <th>Name</th>\n",
       "      <th>Birthday</th>\n",
       "      <th>Native Continent</th>\n",
       "      <th>Marital Status</th>\n",
       "      <th>Lives with</th>\n",
       "      <th>Base Area</th>\n",
       "      <th>Education Level</th>\n",
       "      <th>Years of Education</th>\n",
       "      <th>Employment Sector</th>\n",
       "      <th>Role</th>\n",
       "      <th>Working Hours per week</th>\n",
       "      <th>Money Received</th>\n",
       "      <th>Ticket Price</th>\n",
       "      <th>Income</th>\n",
       "    </tr>\n",
       "    <tr>\n",
       "      <th>CITIZEN_ID</th>\n",
       "      <th></th>\n",
       "      <th></th>\n",
       "      <th></th>\n",
       "      <th></th>\n",
       "      <th></th>\n",
       "      <th></th>\n",
       "      <th></th>\n",
       "      <th></th>\n",
       "      <th></th>\n",
       "      <th></th>\n",
       "      <th></th>\n",
       "      <th></th>\n",
       "      <th></th>\n",
       "      <th></th>\n",
       "    </tr>\n",
       "  </thead>\n",
       "  <tbody>\n",
       "    <tr>\n",
       "      <th>12486</th>\n",
       "      <td>Mr. Adam Glover</td>\n",
       "      <td>July 1,2003</td>\n",
       "      <td>Europe</td>\n",
       "      <td>Married</td>\n",
       "      <td>Partner</td>\n",
       "      <td>Northbury</td>\n",
       "      <td>Superior Education</td>\n",
       "      <td>13.0</td>\n",
       "      <td>Private Sector</td>\n",
       "      <td>Repair &amp; constructions</td>\n",
       "      <td>40.0</td>\n",
       "      <td>0</td>\n",
       "      <td>2273</td>\n",
       "      <td>1</td>\n",
       "    </tr>\n",
       "    <tr>\n",
       "      <th>12487</th>\n",
       "      <td>Mr. Cameron McDonald</td>\n",
       "      <td>January 25,2006</td>\n",
       "      <td>Europe</td>\n",
       "      <td>Married</td>\n",
       "      <td>Partner</td>\n",
       "      <td>Northbury</td>\n",
       "      <td>High School Education</td>\n",
       "      <td>12.0</td>\n",
       "      <td>Public Sector</td>\n",
       "      <td>Repair &amp; constructions</td>\n",
       "      <td>40.0</td>\n",
       "      <td>0</td>\n",
       "      <td>0</td>\n",
       "      <td>1</td>\n",
       "    </tr>\n",
       "    <tr>\n",
       "      <th>12488</th>\n",
       "      <td>Mr. Keith Davidson</td>\n",
       "      <td>May 10,2009</td>\n",
       "      <td>Europe</td>\n",
       "      <td>Married</td>\n",
       "      <td>Partner</td>\n",
       "      <td>Northbury</td>\n",
       "      <td>High School Education</td>\n",
       "      <td>12.0</td>\n",
       "      <td>Private Sector</td>\n",
       "      <td>Sales</td>\n",
       "      <td>46.0</td>\n",
       "      <td>0</td>\n",
       "      <td>2321</td>\n",
       "      <td>1</td>\n",
       "    </tr>\n",
       "    <tr>\n",
       "      <th>12489</th>\n",
       "      <td>Mr. Alexander Gill</td>\n",
       "      <td>March 25,1985</td>\n",
       "      <td>Europe</td>\n",
       "      <td>Married</td>\n",
       "      <td>Partner</td>\n",
       "      <td>Northbury</td>\n",
       "      <td>High School Education</td>\n",
       "      <td>11.0</td>\n",
       "      <td>Private Sector</td>\n",
       "      <td>Security</td>\n",
       "      <td>37.0</td>\n",
       "      <td>5395</td>\n",
       "      <td>0</td>\n",
       "      <td>1</td>\n",
       "    </tr>\n",
       "    <tr>\n",
       "      <th>12490</th>\n",
       "      <td>Mr. Neil Piper</td>\n",
       "      <td>May 29,2015</td>\n",
       "      <td>Europe</td>\n",
       "      <td>Single</td>\n",
       "      <td>Family</td>\n",
       "      <td>Northbury</td>\n",
       "      <td>Superior Education</td>\n",
       "      <td>21.0</td>\n",
       "      <td>Self-Employed</td>\n",
       "      <td>Professor</td>\n",
       "      <td>45.0</td>\n",
       "      <td>0</td>\n",
       "      <td>0</td>\n",
       "      <td>1</td>\n",
       "    </tr>\n",
       "    <tr>\n",
       "      <th>...</th>\n",
       "      <td>...</td>\n",
       "      <td>...</td>\n",
       "      <td>...</td>\n",
       "      <td>...</td>\n",
       "      <td>...</td>\n",
       "      <td>...</td>\n",
       "      <td>...</td>\n",
       "      <td>...</td>\n",
       "      <td>...</td>\n",
       "      <td>...</td>\n",
       "      <td>...</td>\n",
       "      <td>...</td>\n",
       "      <td>...</td>\n",
       "      <td>...</td>\n",
       "    </tr>\n",
       "    <tr>\n",
       "      <th>12676</th>\n",
       "      <td>Mr. Cameron Lawrence</td>\n",
       "      <td>September 17,2008</td>\n",
       "      <td>Europe</td>\n",
       "      <td>Married</td>\n",
       "      <td>Partner</td>\n",
       "      <td>Northbury</td>\n",
       "      <td>High School Education</td>\n",
       "      <td>12.0</td>\n",
       "      <td>Public Sector</td>\n",
       "      <td>Management</td>\n",
       "      <td>40.0</td>\n",
       "      <td>0</td>\n",
       "      <td>0</td>\n",
       "      <td>1</td>\n",
       "    </tr>\n",
       "    <tr>\n",
       "      <th>12677</th>\n",
       "      <td>Miss Lauren Duncan</td>\n",
       "      <td>May 24,2024</td>\n",
       "      <td>Europe</td>\n",
       "      <td>Single</td>\n",
       "      <td>Children</td>\n",
       "      <td>Northbury</td>\n",
       "      <td>Superior Education</td>\n",
       "      <td>13.0</td>\n",
       "      <td>Private Sector</td>\n",
       "      <td>Cleaners &amp; Handlers</td>\n",
       "      <td>30.0</td>\n",
       "      <td>0</td>\n",
       "      <td>0</td>\n",
       "      <td>0</td>\n",
       "    </tr>\n",
       "    <tr>\n",
       "      <th>12678</th>\n",
       "      <td>Mrs. Jessica Carr</td>\n",
       "      <td>September 13,2008</td>\n",
       "      <td>Europe</td>\n",
       "      <td>Divorced</td>\n",
       "      <td>Alone</td>\n",
       "      <td>Northbury</td>\n",
       "      <td>Superior Education</td>\n",
       "      <td>13.0</td>\n",
       "      <td>Private Sector</td>\n",
       "      <td>Administratives</td>\n",
       "      <td>40.0</td>\n",
       "      <td>1124</td>\n",
       "      <td>0</td>\n",
       "      <td>0</td>\n",
       "    </tr>\n",
       "    <tr>\n",
       "      <th>12679</th>\n",
       "      <td>Mr. Gavin Gill</td>\n",
       "      <td>June 26,1990</td>\n",
       "      <td>Europe</td>\n",
       "      <td>Married</td>\n",
       "      <td>Partner</td>\n",
       "      <td>Northbury</td>\n",
       "      <td>Basic Education</td>\n",
       "      <td>13.0</td>\n",
       "      <td>Private Sector</td>\n",
       "      <td>Agriculture and Fishing</td>\n",
       "      <td>40.0</td>\n",
       "      <td>0</td>\n",
       "      <td>0</td>\n",
       "      <td>0</td>\n",
       "    </tr>\n",
       "    <tr>\n",
       "      <th>12680</th>\n",
       "      <td>Miss Sally Mackay</td>\n",
       "      <td>August 1,2025</td>\n",
       "      <td>Europe</td>\n",
       "      <td>Single</td>\n",
       "      <td>Family</td>\n",
       "      <td>Northbury</td>\n",
       "      <td>Superior Education</td>\n",
       "      <td>16.0</td>\n",
       "      <td>Private Sector</td>\n",
       "      <td>Professor</td>\n",
       "      <td>25.0</td>\n",
       "      <td>0</td>\n",
       "      <td>0</td>\n",
       "      <td>0</td>\n",
       "    </tr>\n",
       "  </tbody>\n",
       "</table>\n",
       "<p>195 rows × 14 columns</p>\n",
       "</div>"
      ],
      "text/plain": [
       "                            Name            Birthday Native Continent  \\\n",
       "CITIZEN_ID                                                              \n",
       "12486            Mr. Adam Glover         July 1,2003           Europe   \n",
       "12487       Mr. Cameron McDonald     January 25,2006           Europe   \n",
       "12488         Mr. Keith Davidson         May 10,2009           Europe   \n",
       "12489         Mr. Alexander Gill       March 25,1985           Europe   \n",
       "12490             Mr. Neil Piper         May 29,2015           Europe   \n",
       "...                          ...                 ...              ...   \n",
       "12676       Mr. Cameron Lawrence   September 17,2008           Europe   \n",
       "12677         Miss Lauren Duncan         May 24,2024           Europe   \n",
       "12678          Mrs. Jessica Carr   September 13,2008           Europe   \n",
       "12679             Mr. Gavin Gill        June 26,1990           Europe   \n",
       "12680          Miss Sally Mackay       August 1,2025           Europe   \n",
       "\n",
       "           Marital Status Lives with  Base Area        Education Level  \\\n",
       "CITIZEN_ID                                                               \n",
       "12486             Married    Partner  Northbury     Superior Education   \n",
       "12487             Married    Partner  Northbury  High School Education   \n",
       "12488             Married    Partner  Northbury  High School Education   \n",
       "12489             Married    Partner  Northbury  High School Education   \n",
       "12490              Single     Family  Northbury     Superior Education   \n",
       "...                   ...        ...        ...                    ...   \n",
       "12676             Married    Partner  Northbury  High School Education   \n",
       "12677              Single   Children  Northbury     Superior Education   \n",
       "12678            Divorced      Alone  Northbury     Superior Education   \n",
       "12679             Married    Partner  Northbury        Basic Education   \n",
       "12680              Single     Family  Northbury     Superior Education   \n",
       "\n",
       "            Years of Education Employment Sector                     Role  \\\n",
       "CITIZEN_ID                                                                  \n",
       "12486                     13.0    Private Sector   Repair & constructions   \n",
       "12487                     12.0     Public Sector   Repair & constructions   \n",
       "12488                     12.0    Private Sector                    Sales   \n",
       "12489                     11.0    Private Sector                 Security   \n",
       "12490                     21.0     Self-Employed                Professor   \n",
       "...                        ...               ...                      ...   \n",
       "12676                     12.0     Public Sector               Management   \n",
       "12677                     13.0    Private Sector      Cleaners & Handlers   \n",
       "12678                     13.0    Private Sector          Administratives   \n",
       "12679                     13.0    Private Sector  Agriculture and Fishing   \n",
       "12680                     16.0    Private Sector                Professor   \n",
       "\n",
       "            Working Hours per week  Money Received  Ticket Price  Income  \n",
       "CITIZEN_ID                                                                \n",
       "12486                         40.0               0          2273       1  \n",
       "12487                         40.0               0             0       1  \n",
       "12488                         46.0               0          2321       1  \n",
       "12489                         37.0            5395             0       1  \n",
       "12490                         45.0               0             0       1  \n",
       "...                            ...             ...           ...     ...  \n",
       "12676                         40.0               0             0       1  \n",
       "12677                         30.0               0             0       0  \n",
       "12678                         40.0            1124             0       0  \n",
       "12679                         40.0               0             0       0  \n",
       "12680                         25.0               0             0       0  \n",
       "\n",
       "[195 rows x 14 columns]"
      ]
     },
     "execution_count": 33,
     "metadata": {},
     "output_type": "execute_result"
    }
   ],
   "source": [
    "train_knn.head(195)"
   ]
  },
  {
   "cell_type": "code",
   "execution_count": 34,
   "id": "0f9d899d",
   "metadata": {},
   "outputs": [],
   "source": [
    "training = train_knn"
   ]
  },
  {
   "cell_type": "markdown",
   "id": "2c4fe00e",
   "metadata": {},
   "source": [
    "### Create new features"
   ]
  },
  {
   "cell_type": "code",
   "execution_count": 35,
   "id": "8909a162",
   "metadata": {},
   "outputs": [
    {
     "data": {
      "text/html": [
       "<div>\n",
       "<style scoped>\n",
       "    .dataframe tbody tr th:only-of-type {\n",
       "        vertical-align: middle;\n",
       "    }\n",
       "\n",
       "    .dataframe tbody tr th {\n",
       "        vertical-align: top;\n",
       "    }\n",
       "\n",
       "    .dataframe thead th {\n",
       "        text-align: right;\n",
       "    }\n",
       "</style>\n",
       "<table border=\"1\" class=\"dataframe\">\n",
       "  <thead>\n",
       "    <tr style=\"text-align: right;\">\n",
       "      <th></th>\n",
       "      <th>Years of Education</th>\n",
       "      <th>Working Hours per week</th>\n",
       "      <th>Money Received</th>\n",
       "      <th>Ticket Price</th>\n",
       "      <th>Income</th>\n",
       "      <th>Age</th>\n",
       "    </tr>\n",
       "    <tr>\n",
       "      <th>CITIZEN_ID</th>\n",
       "      <th></th>\n",
       "      <th></th>\n",
       "      <th></th>\n",
       "      <th></th>\n",
       "      <th></th>\n",
       "      <th></th>\n",
       "    </tr>\n",
       "  </thead>\n",
       "  <tbody>\n",
       "    <tr>\n",
       "      <th>12486</th>\n",
       "      <td>13</td>\n",
       "      <td>40</td>\n",
       "      <td>0</td>\n",
       "      <td>2273</td>\n",
       "      <td>1</td>\n",
       "      <td>45</td>\n",
       "    </tr>\n",
       "    <tr>\n",
       "      <th>12487</th>\n",
       "      <td>12</td>\n",
       "      <td>40</td>\n",
       "      <td>0</td>\n",
       "      <td>0</td>\n",
       "      <td>1</td>\n",
       "      <td>42</td>\n",
       "    </tr>\n",
       "    <tr>\n",
       "      <th>12488</th>\n",
       "      <td>12</td>\n",
       "      <td>46</td>\n",
       "      <td>0</td>\n",
       "      <td>2321</td>\n",
       "      <td>1</td>\n",
       "      <td>39</td>\n",
       "    </tr>\n",
       "    <tr>\n",
       "      <th>12489</th>\n",
       "      <td>11</td>\n",
       "      <td>37</td>\n",
       "      <td>5395</td>\n",
       "      <td>0</td>\n",
       "      <td>1</td>\n",
       "      <td>63</td>\n",
       "    </tr>\n",
       "    <tr>\n",
       "      <th>12490</th>\n",
       "      <td>21</td>\n",
       "      <td>45</td>\n",
       "      <td>0</td>\n",
       "      <td>0</td>\n",
       "      <td>1</td>\n",
       "      <td>33</td>\n",
       "    </tr>\n",
       "    <tr>\n",
       "      <th>...</th>\n",
       "      <td>...</td>\n",
       "      <td>...</td>\n",
       "      <td>...</td>\n",
       "      <td>...</td>\n",
       "      <td>...</td>\n",
       "      <td>...</td>\n",
       "    </tr>\n",
       "    <tr>\n",
       "      <th>34881</th>\n",
       "      <td>12</td>\n",
       "      <td>40</td>\n",
       "      <td>0</td>\n",
       "      <td>0</td>\n",
       "      <td>0</td>\n",
       "      <td>25</td>\n",
       "    </tr>\n",
       "    <tr>\n",
       "      <th>34882</th>\n",
       "      <td>12</td>\n",
       "      <td>35</td>\n",
       "      <td>0</td>\n",
       "      <td>0</td>\n",
       "      <td>0</td>\n",
       "      <td>23</td>\n",
       "    </tr>\n",
       "    <tr>\n",
       "      <th>34883</th>\n",
       "      <td>17</td>\n",
       "      <td>40</td>\n",
       "      <td>2674</td>\n",
       "      <td>0</td>\n",
       "      <td>0</td>\n",
       "      <td>26</td>\n",
       "    </tr>\n",
       "    <tr>\n",
       "      <th>34884</th>\n",
       "      <td>16</td>\n",
       "      <td>90</td>\n",
       "      <td>0</td>\n",
       "      <td>0</td>\n",
       "      <td>1</td>\n",
       "      <td>37</td>\n",
       "    </tr>\n",
       "    <tr>\n",
       "      <th>34885</th>\n",
       "      <td>13</td>\n",
       "      <td>40</td>\n",
       "      <td>0</td>\n",
       "      <td>0</td>\n",
       "      <td>0</td>\n",
       "      <td>22</td>\n",
       "    </tr>\n",
       "  </tbody>\n",
       "</table>\n",
       "<p>22400 rows × 6 columns</p>\n",
       "</div>"
      ],
      "text/plain": [
       "            Years of Education  Working Hours per week  Money Received  \\\n",
       "CITIZEN_ID                                                               \n",
       "12486                       13                      40               0   \n",
       "12487                       12                      40               0   \n",
       "12488                       12                      46               0   \n",
       "12489                       11                      37            5395   \n",
       "12490                       21                      45               0   \n",
       "...                        ...                     ...             ...   \n",
       "34881                       12                      40               0   \n",
       "34882                       12                      35               0   \n",
       "34883                       17                      40            2674   \n",
       "34884                       16                      90               0   \n",
       "34885                       13                      40               0   \n",
       "\n",
       "            Ticket Price  Income  Age  \n",
       "CITIZEN_ID                             \n",
       "12486               2273       1   45  \n",
       "12487                  0       1   42  \n",
       "12488               2321       1   39  \n",
       "12489                  0       1   63  \n",
       "12490                  0       1   33  \n",
       "...                  ...     ...  ...  \n",
       "34881                  0       0   25  \n",
       "34882                  0       0   23  \n",
       "34883                  0       0   26  \n",
       "34884                  0       1   37  \n",
       "34885                  0       0   22  \n",
       "\n",
       "[22400 rows x 6 columns]"
      ]
     },
     "execution_count": 35,
     "metadata": {},
     "output_type": "execute_result"
    }
   ],
   "source": [
    "# criar variável age\n",
    "training['Age'] = 2048 - training['Birthday'].apply(lambda x: int(str(x).split(\",\")[1])) \n",
    "training = training.drop(\"Birthday\", axis=1)\n",
    "\n",
    "# adicionar a variável age ao dataframe de variáveis numéricas\n",
    "numerical_df.assign(Age = training['Age'])"
   ]
  },
  {
   "cell_type": "markdown",
   "id": "81ec56c0",
   "metadata": {},
   "source": [
    "Criação da variável Age através da transformação da variável Birthday. Como o ano de referência da criação do modelo preditivo é 2048, assumimos esse como o ano para calcular a idade dos cidadãos."
   ]
  },
  {
   "cell_type": "code",
   "execution_count": 36,
   "id": "b7c9da5c",
   "metadata": {},
   "outputs": [
    {
     "data": {
      "text/plain": [
       "False"
      ]
     },
     "execution_count": 36,
     "metadata": {},
     "output_type": "execute_result"
    }
   ],
   "source": [
    "(training['Years of Education'] > training['Age']).any()"
   ]
  },
  {
   "cell_type": "markdown",
   "id": "b035166e",
   "metadata": {},
   "source": [
    "Por questões de coerência dos dados, no código acima procuramos por observações em que Years of Education sejam superiores a Age. Como o resultado é Falso, confirmamos que não existe incoerência."
   ]
  },
  {
   "cell_type": "code",
   "execution_count": 37,
   "id": "cf1773ad",
   "metadata": {},
   "outputs": [
    {
     "data": {
      "text/plain": [
       "False"
      ]
     },
     "execution_count": 37,
     "metadata": {},
     "output_type": "execute_result"
    }
   ],
   "source": [
    "(training['Age'] < 0).any()"
   ]
  },
  {
   "cell_type": "markdown",
   "id": "d8595005",
   "metadata": {},
   "source": [
    "Por questões de coerência dos dados, no código acima procuramos por observações em que a variável Age seja inferior a 0. Como o resultado é Falso, confirmamos que não existe incoerência."
   ]
  },
  {
   "cell_type": "code",
   "execution_count": 38,
   "id": "a4b531ab",
   "metadata": {},
   "outputs": [],
   "source": [
    "# criar variável gender\n",
    "\n",
    "training['Gender'] = training.Name.apply(lambda x: x.split(' ')[0].strip())\n",
    "training['Gender'].replace(['Miss', 'Mrs.', 'Mr.'], ['F','F','M'],inplace=True)\n",
    "training = training.drop(\"Name\", axis=1)"
   ]
  },
  {
   "cell_type": "markdown",
   "id": "7ca22c51",
   "metadata": {},
   "source": [
    "Criação da variável Gender através da extração dos títulos pessoais presentes na variável Name e consequente drop desta mesma variável, uma vez que o nome não é relevante para um modelo preditivo."
   ]
  },
  {
   "cell_type": "markdown",
   "id": "f98fcf07",
   "metadata": {},
   "source": [
    "### Create dummy variables"
   ]
  },
  {
   "cell_type": "code",
   "execution_count": 39,
   "id": "6b73a425",
   "metadata": {},
   "outputs": [
    {
     "data": {
      "text/html": [
       "<div>\n",
       "<style scoped>\n",
       "    .dataframe tbody tr th:only-of-type {\n",
       "        vertical-align: middle;\n",
       "    }\n",
       "\n",
       "    .dataframe tbody tr th {\n",
       "        vertical-align: top;\n",
       "    }\n",
       "\n",
       "    .dataframe thead th {\n",
       "        text-align: right;\n",
       "    }\n",
       "</style>\n",
       "<table border=\"1\" class=\"dataframe\">\n",
       "  <thead>\n",
       "    <tr style=\"text-align: right;\">\n",
       "      <th></th>\n",
       "      <th>Years of Education</th>\n",
       "      <th>Working Hours per week</th>\n",
       "      <th>Money Received</th>\n",
       "      <th>Ticket Price</th>\n",
       "      <th>Income</th>\n",
       "      <th>Age</th>\n",
       "      <th>Native Continent_America</th>\n",
       "      <th>Native Continent_Asia</th>\n",
       "      <th>Native Continent_Europe</th>\n",
       "      <th>Native Continent_Oceania</th>\n",
       "      <th>...</th>\n",
       "      <th>Role_Machine Operators &amp; Inspectors</th>\n",
       "      <th>Role_Management</th>\n",
       "      <th>Role_Other services</th>\n",
       "      <th>Role_Professor</th>\n",
       "      <th>Role_Repair &amp; constructions</th>\n",
       "      <th>Role_Sales</th>\n",
       "      <th>Role_Security</th>\n",
       "      <th>Role_Transports</th>\n",
       "      <th>Role_Unknown</th>\n",
       "      <th>Gender_M</th>\n",
       "    </tr>\n",
       "    <tr>\n",
       "      <th>CITIZEN_ID</th>\n",
       "      <th></th>\n",
       "      <th></th>\n",
       "      <th></th>\n",
       "      <th></th>\n",
       "      <th></th>\n",
       "      <th></th>\n",
       "      <th></th>\n",
       "      <th></th>\n",
       "      <th></th>\n",
       "      <th></th>\n",
       "      <th></th>\n",
       "      <th></th>\n",
       "      <th></th>\n",
       "      <th></th>\n",
       "      <th></th>\n",
       "      <th></th>\n",
       "      <th></th>\n",
       "      <th></th>\n",
       "      <th></th>\n",
       "      <th></th>\n",
       "      <th></th>\n",
       "    </tr>\n",
       "  </thead>\n",
       "  <tbody>\n",
       "    <tr>\n",
       "      <th>12486</th>\n",
       "      <td>13.0</td>\n",
       "      <td>40.0</td>\n",
       "      <td>0</td>\n",
       "      <td>2273</td>\n",
       "      <td>1</td>\n",
       "      <td>45</td>\n",
       "      <td>0</td>\n",
       "      <td>0</td>\n",
       "      <td>1</td>\n",
       "      <td>0</td>\n",
       "      <td>...</td>\n",
       "      <td>0</td>\n",
       "      <td>0</td>\n",
       "      <td>0</td>\n",
       "      <td>0</td>\n",
       "      <td>1</td>\n",
       "      <td>0</td>\n",
       "      <td>0</td>\n",
       "      <td>0</td>\n",
       "      <td>0</td>\n",
       "      <td>1</td>\n",
       "    </tr>\n",
       "    <tr>\n",
       "      <th>12487</th>\n",
       "      <td>12.0</td>\n",
       "      <td>40.0</td>\n",
       "      <td>0</td>\n",
       "      <td>0</td>\n",
       "      <td>1</td>\n",
       "      <td>42</td>\n",
       "      <td>0</td>\n",
       "      <td>0</td>\n",
       "      <td>1</td>\n",
       "      <td>0</td>\n",
       "      <td>...</td>\n",
       "      <td>0</td>\n",
       "      <td>0</td>\n",
       "      <td>0</td>\n",
       "      <td>0</td>\n",
       "      <td>1</td>\n",
       "      <td>0</td>\n",
       "      <td>0</td>\n",
       "      <td>0</td>\n",
       "      <td>0</td>\n",
       "      <td>1</td>\n",
       "    </tr>\n",
       "    <tr>\n",
       "      <th>12488</th>\n",
       "      <td>12.0</td>\n",
       "      <td>46.0</td>\n",
       "      <td>0</td>\n",
       "      <td>2321</td>\n",
       "      <td>1</td>\n",
       "      <td>39</td>\n",
       "      <td>0</td>\n",
       "      <td>0</td>\n",
       "      <td>1</td>\n",
       "      <td>0</td>\n",
       "      <td>...</td>\n",
       "      <td>0</td>\n",
       "      <td>0</td>\n",
       "      <td>0</td>\n",
       "      <td>0</td>\n",
       "      <td>0</td>\n",
       "      <td>1</td>\n",
       "      <td>0</td>\n",
       "      <td>0</td>\n",
       "      <td>0</td>\n",
       "      <td>1</td>\n",
       "    </tr>\n",
       "    <tr>\n",
       "      <th>12489</th>\n",
       "      <td>11.0</td>\n",
       "      <td>37.0</td>\n",
       "      <td>5395</td>\n",
       "      <td>0</td>\n",
       "      <td>1</td>\n",
       "      <td>63</td>\n",
       "      <td>0</td>\n",
       "      <td>0</td>\n",
       "      <td>1</td>\n",
       "      <td>0</td>\n",
       "      <td>...</td>\n",
       "      <td>0</td>\n",
       "      <td>0</td>\n",
       "      <td>0</td>\n",
       "      <td>0</td>\n",
       "      <td>0</td>\n",
       "      <td>0</td>\n",
       "      <td>1</td>\n",
       "      <td>0</td>\n",
       "      <td>0</td>\n",
       "      <td>1</td>\n",
       "    </tr>\n",
       "    <tr>\n",
       "      <th>12490</th>\n",
       "      <td>21.0</td>\n",
       "      <td>45.0</td>\n",
       "      <td>0</td>\n",
       "      <td>0</td>\n",
       "      <td>1</td>\n",
       "      <td>33</td>\n",
       "      <td>0</td>\n",
       "      <td>0</td>\n",
       "      <td>1</td>\n",
       "      <td>0</td>\n",
       "      <td>...</td>\n",
       "      <td>0</td>\n",
       "      <td>0</td>\n",
       "      <td>0</td>\n",
       "      <td>1</td>\n",
       "      <td>0</td>\n",
       "      <td>0</td>\n",
       "      <td>0</td>\n",
       "      <td>0</td>\n",
       "      <td>0</td>\n",
       "      <td>1</td>\n",
       "    </tr>\n",
       "    <tr>\n",
       "      <th>12491</th>\n",
       "      <td>15.0</td>\n",
       "      <td>30.0</td>\n",
       "      <td>0</td>\n",
       "      <td>0</td>\n",
       "      <td>0</td>\n",
       "      <td>24</td>\n",
       "      <td>0</td>\n",
       "      <td>0</td>\n",
       "      <td>1</td>\n",
       "      <td>0</td>\n",
       "      <td>...</td>\n",
       "      <td>0</td>\n",
       "      <td>0</td>\n",
       "      <td>0</td>\n",
       "      <td>0</td>\n",
       "      <td>0</td>\n",
       "      <td>0</td>\n",
       "      <td>0</td>\n",
       "      <td>0</td>\n",
       "      <td>0</td>\n",
       "      <td>1</td>\n",
       "    </tr>\n",
       "    <tr>\n",
       "      <th>12492</th>\n",
       "      <td>12.0</td>\n",
       "      <td>40.0</td>\n",
       "      <td>6369</td>\n",
       "      <td>0</td>\n",
       "      <td>1</td>\n",
       "      <td>36</td>\n",
       "      <td>0</td>\n",
       "      <td>0</td>\n",
       "      <td>1</td>\n",
       "      <td>0</td>\n",
       "      <td>...</td>\n",
       "      <td>0</td>\n",
       "      <td>0</td>\n",
       "      <td>0</td>\n",
       "      <td>0</td>\n",
       "      <td>1</td>\n",
       "      <td>0</td>\n",
       "      <td>0</td>\n",
       "      <td>0</td>\n",
       "      <td>0</td>\n",
       "      <td>1</td>\n",
       "    </tr>\n",
       "    <tr>\n",
       "      <th>12493</th>\n",
       "      <td>11.0</td>\n",
       "      <td>40.0</td>\n",
       "      <td>0</td>\n",
       "      <td>0</td>\n",
       "      <td>0</td>\n",
       "      <td>37</td>\n",
       "      <td>0</td>\n",
       "      <td>0</td>\n",
       "      <td>1</td>\n",
       "      <td>0</td>\n",
       "      <td>...</td>\n",
       "      <td>0</td>\n",
       "      <td>0</td>\n",
       "      <td>1</td>\n",
       "      <td>0</td>\n",
       "      <td>0</td>\n",
       "      <td>0</td>\n",
       "      <td>0</td>\n",
       "      <td>0</td>\n",
       "      <td>0</td>\n",
       "      <td>1</td>\n",
       "    </tr>\n",
       "    <tr>\n",
       "      <th>12494</th>\n",
       "      <td>13.0</td>\n",
       "      <td>40.0</td>\n",
       "      <td>0</td>\n",
       "      <td>0</td>\n",
       "      <td>0</td>\n",
       "      <td>24</td>\n",
       "      <td>0</td>\n",
       "      <td>0</td>\n",
       "      <td>1</td>\n",
       "      <td>0</td>\n",
       "      <td>...</td>\n",
       "      <td>1</td>\n",
       "      <td>0</td>\n",
       "      <td>0</td>\n",
       "      <td>0</td>\n",
       "      <td>0</td>\n",
       "      <td>0</td>\n",
       "      <td>0</td>\n",
       "      <td>0</td>\n",
       "      <td>0</td>\n",
       "      <td>0</td>\n",
       "    </tr>\n",
       "  </tbody>\n",
       "</table>\n",
       "<p>9 rows × 75 columns</p>\n",
       "</div>"
      ],
      "text/plain": [
       "            Years of Education  Working Hours per week  Money Received  \\\n",
       "CITIZEN_ID                                                               \n",
       "12486                     13.0                    40.0               0   \n",
       "12487                     12.0                    40.0               0   \n",
       "12488                     12.0                    46.0               0   \n",
       "12489                     11.0                    37.0            5395   \n",
       "12490                     21.0                    45.0               0   \n",
       "12491                     15.0                    30.0               0   \n",
       "12492                     12.0                    40.0            6369   \n",
       "12493                     11.0                    40.0               0   \n",
       "12494                     13.0                    40.0               0   \n",
       "\n",
       "            Ticket Price  Income  Age  Native Continent_America  \\\n",
       "CITIZEN_ID                                                        \n",
       "12486               2273       1   45                         0   \n",
       "12487                  0       1   42                         0   \n",
       "12488               2321       1   39                         0   \n",
       "12489                  0       1   63                         0   \n",
       "12490                  0       1   33                         0   \n",
       "12491                  0       0   24                         0   \n",
       "12492                  0       1   36                         0   \n",
       "12493                  0       0   37                         0   \n",
       "12494                  0       0   24                         0   \n",
       "\n",
       "            Native Continent_Asia  Native Continent_Europe  \\\n",
       "CITIZEN_ID                                                   \n",
       "12486                           0                        1   \n",
       "12487                           0                        1   \n",
       "12488                           0                        1   \n",
       "12489                           0                        1   \n",
       "12490                           0                        1   \n",
       "12491                           0                        1   \n",
       "12492                           0                        1   \n",
       "12493                           0                        1   \n",
       "12494                           0                        1   \n",
       "\n",
       "            Native Continent_Oceania  ...  \\\n",
       "CITIZEN_ID                            ...   \n",
       "12486                              0  ...   \n",
       "12487                              0  ...   \n",
       "12488                              0  ...   \n",
       "12489                              0  ...   \n",
       "12490                              0  ...   \n",
       "12491                              0  ...   \n",
       "12492                              0  ...   \n",
       "12493                              0  ...   \n",
       "12494                              0  ...   \n",
       "\n",
       "            Role_Machine Operators & Inspectors  Role_Management  \\\n",
       "CITIZEN_ID                                                         \n",
       "12486                                         0                0   \n",
       "12487                                         0                0   \n",
       "12488                                         0                0   \n",
       "12489                                         0                0   \n",
       "12490                                         0                0   \n",
       "12491                                         0                0   \n",
       "12492                                         0                0   \n",
       "12493                                         0                0   \n",
       "12494                                         1                0   \n",
       "\n",
       "            Role_Other services  Role_Professor  Role_Repair & constructions  \\\n",
       "CITIZEN_ID                                                                     \n",
       "12486                         0               0                            1   \n",
       "12487                         0               0                            1   \n",
       "12488                         0               0                            0   \n",
       "12489                         0               0                            0   \n",
       "12490                         0               1                            0   \n",
       "12491                         0               0                            0   \n",
       "12492                         0               0                            1   \n",
       "12493                         1               0                            0   \n",
       "12494                         0               0                            0   \n",
       "\n",
       "            Role_Sales  Role_Security  Role_Transports  Role_Unknown  Gender_M  \n",
       "CITIZEN_ID                                                                      \n",
       "12486                0              0                0             0         1  \n",
       "12487                0              0                0             0         1  \n",
       "12488                1              0                0             0         1  \n",
       "12489                0              1                0             0         1  \n",
       "12490                0              0                0             0         1  \n",
       "12491                0              0                0             0         1  \n",
       "12492                0              0                0             0         1  \n",
       "12493                0              0                0             0         1  \n",
       "12494                0              0                0             0         0  \n",
       "\n",
       "[9 rows x 75 columns]"
      ]
     },
     "execution_count": 39,
     "metadata": {},
     "output_type": "execute_result"
    }
   ],
   "source": [
    "dummy = pd.get_dummies(training, drop_first = True)\n",
    "dummy.head(9)"
   ]
  },
  {
   "cell_type": "markdown",
   "id": "7ef1f5c2",
   "metadata": {},
   "source": [
    "### Scale Data"
   ]
  },
  {
   "cell_type": "code",
   "execution_count": 40,
   "id": "58eb7933",
   "metadata": {},
   "outputs": [],
   "source": [
    "from sklearn.preprocessing import MinMaxScaler\n",
    "\n",
    "finalData = dummy.copy()\n",
    "\n",
    "minmax_scaler = MinMaxScaler()"
   ]
  },
  {
   "cell_type": "code",
   "execution_count": 41,
   "id": "570fdd72",
   "metadata": {},
   "outputs": [],
   "source": [
    "scale = minmax_scaler.fit(finalData)"
   ]
  },
  {
   "cell_type": "code",
   "execution_count": 42,
   "id": "a1fb710c",
   "metadata": {},
   "outputs": [],
   "source": [
    "minmax_data = scale.transform(finalData)"
   ]
  },
  {
   "cell_type": "code",
   "execution_count": 43,
   "id": "4c3d120a",
   "metadata": {},
   "outputs": [
    {
     "data": {
      "text/html": [
       "<div>\n",
       "<style scoped>\n",
       "    .dataframe tbody tr th:only-of-type {\n",
       "        vertical-align: middle;\n",
       "    }\n",
       "\n",
       "    .dataframe tbody tr th {\n",
       "        vertical-align: top;\n",
       "    }\n",
       "\n",
       "    .dataframe thead th {\n",
       "        text-align: right;\n",
       "    }\n",
       "</style>\n",
       "<table border=\"1\" class=\"dataframe\">\n",
       "  <thead>\n",
       "    <tr style=\"text-align: right;\">\n",
       "      <th></th>\n",
       "      <th>Years of Education</th>\n",
       "      <th>Working Hours per week</th>\n",
       "      <th>Money Received</th>\n",
       "      <th>Ticket Price</th>\n",
       "      <th>Income</th>\n",
       "      <th>Age</th>\n",
       "      <th>Native Continent_America</th>\n",
       "      <th>Native Continent_Asia</th>\n",
       "      <th>Native Continent_Europe</th>\n",
       "      <th>Native Continent_Oceania</th>\n",
       "      <th>...</th>\n",
       "      <th>Role_Machine Operators &amp; Inspectors</th>\n",
       "      <th>Role_Management</th>\n",
       "      <th>Role_Other services</th>\n",
       "      <th>Role_Professor</th>\n",
       "      <th>Role_Repair &amp; constructions</th>\n",
       "      <th>Role_Sales</th>\n",
       "      <th>Role_Security</th>\n",
       "      <th>Role_Transports</th>\n",
       "      <th>Role_Unknown</th>\n",
       "      <th>Gender_M</th>\n",
       "    </tr>\n",
       "    <tr>\n",
       "      <th>CITIZEN_ID</th>\n",
       "      <th></th>\n",
       "      <th></th>\n",
       "      <th></th>\n",
       "      <th></th>\n",
       "      <th></th>\n",
       "      <th></th>\n",
       "      <th></th>\n",
       "      <th></th>\n",
       "      <th></th>\n",
       "      <th></th>\n",
       "      <th></th>\n",
       "      <th></th>\n",
       "      <th></th>\n",
       "      <th></th>\n",
       "      <th></th>\n",
       "      <th></th>\n",
       "      <th></th>\n",
       "      <th></th>\n",
       "      <th></th>\n",
       "      <th></th>\n",
       "      <th></th>\n",
       "    </tr>\n",
       "  </thead>\n",
       "  <tbody>\n",
       "    <tr>\n",
       "      <th>12486</th>\n",
       "      <td>0.466667</td>\n",
       "      <td>0.452055</td>\n",
       "      <td>0.000000</td>\n",
       "      <td>0.424225</td>\n",
       "      <td>1.0</td>\n",
       "      <td>0.383562</td>\n",
       "      <td>0.0</td>\n",
       "      <td>0.0</td>\n",
       "      <td>1.0</td>\n",
       "      <td>0.0</td>\n",
       "      <td>...</td>\n",
       "      <td>0.0</td>\n",
       "      <td>0.0</td>\n",
       "      <td>0.0</td>\n",
       "      <td>0.0</td>\n",
       "      <td>1.0</td>\n",
       "      <td>0.0</td>\n",
       "      <td>0.0</td>\n",
       "      <td>0.0</td>\n",
       "      <td>0.0</td>\n",
       "      <td>1.0</td>\n",
       "    </tr>\n",
       "    <tr>\n",
       "      <th>12487</th>\n",
       "      <td>0.400000</td>\n",
       "      <td>0.452055</td>\n",
       "      <td>0.000000</td>\n",
       "      <td>0.000000</td>\n",
       "      <td>1.0</td>\n",
       "      <td>0.342466</td>\n",
       "      <td>0.0</td>\n",
       "      <td>0.0</td>\n",
       "      <td>1.0</td>\n",
       "      <td>0.0</td>\n",
       "      <td>...</td>\n",
       "      <td>0.0</td>\n",
       "      <td>0.0</td>\n",
       "      <td>0.0</td>\n",
       "      <td>0.0</td>\n",
       "      <td>1.0</td>\n",
       "      <td>0.0</td>\n",
       "      <td>0.0</td>\n",
       "      <td>0.0</td>\n",
       "      <td>0.0</td>\n",
       "      <td>1.0</td>\n",
       "    </tr>\n",
       "    <tr>\n",
       "      <th>12488</th>\n",
       "      <td>0.400000</td>\n",
       "      <td>0.534247</td>\n",
       "      <td>0.000000</td>\n",
       "      <td>0.433184</td>\n",
       "      <td>1.0</td>\n",
       "      <td>0.301370</td>\n",
       "      <td>0.0</td>\n",
       "      <td>0.0</td>\n",
       "      <td>1.0</td>\n",
       "      <td>0.0</td>\n",
       "      <td>...</td>\n",
       "      <td>0.0</td>\n",
       "      <td>0.0</td>\n",
       "      <td>0.0</td>\n",
       "      <td>0.0</td>\n",
       "      <td>0.0</td>\n",
       "      <td>1.0</td>\n",
       "      <td>0.0</td>\n",
       "      <td>0.0</td>\n",
       "      <td>0.0</td>\n",
       "      <td>1.0</td>\n",
       "    </tr>\n",
       "    <tr>\n",
       "      <th>12489</th>\n",
       "      <td>0.333333</td>\n",
       "      <td>0.410959</td>\n",
       "      <td>0.043862</td>\n",
       "      <td>0.000000</td>\n",
       "      <td>1.0</td>\n",
       "      <td>0.630137</td>\n",
       "      <td>0.0</td>\n",
       "      <td>0.0</td>\n",
       "      <td>1.0</td>\n",
       "      <td>0.0</td>\n",
       "      <td>...</td>\n",
       "      <td>0.0</td>\n",
       "      <td>0.0</td>\n",
       "      <td>0.0</td>\n",
       "      <td>0.0</td>\n",
       "      <td>0.0</td>\n",
       "      <td>0.0</td>\n",
       "      <td>1.0</td>\n",
       "      <td>0.0</td>\n",
       "      <td>0.0</td>\n",
       "      <td>1.0</td>\n",
       "    </tr>\n",
       "    <tr>\n",
       "      <th>12490</th>\n",
       "      <td>1.000000</td>\n",
       "      <td>0.520548</td>\n",
       "      <td>0.000000</td>\n",
       "      <td>0.000000</td>\n",
       "      <td>1.0</td>\n",
       "      <td>0.219178</td>\n",
       "      <td>0.0</td>\n",
       "      <td>0.0</td>\n",
       "      <td>1.0</td>\n",
       "      <td>0.0</td>\n",
       "      <td>...</td>\n",
       "      <td>0.0</td>\n",
       "      <td>0.0</td>\n",
       "      <td>0.0</td>\n",
       "      <td>1.0</td>\n",
       "      <td>0.0</td>\n",
       "      <td>0.0</td>\n",
       "      <td>0.0</td>\n",
       "      <td>0.0</td>\n",
       "      <td>0.0</td>\n",
       "      <td>1.0</td>\n",
       "    </tr>\n",
       "    <tr>\n",
       "      <th>12491</th>\n",
       "      <td>0.600000</td>\n",
       "      <td>0.315068</td>\n",
       "      <td>0.000000</td>\n",
       "      <td>0.000000</td>\n",
       "      <td>0.0</td>\n",
       "      <td>0.095890</td>\n",
       "      <td>0.0</td>\n",
       "      <td>0.0</td>\n",
       "      <td>1.0</td>\n",
       "      <td>0.0</td>\n",
       "      <td>...</td>\n",
       "      <td>0.0</td>\n",
       "      <td>0.0</td>\n",
       "      <td>0.0</td>\n",
       "      <td>0.0</td>\n",
       "      <td>0.0</td>\n",
       "      <td>0.0</td>\n",
       "      <td>0.0</td>\n",
       "      <td>0.0</td>\n",
       "      <td>0.0</td>\n",
       "      <td>1.0</td>\n",
       "    </tr>\n",
       "    <tr>\n",
       "      <th>12492</th>\n",
       "      <td>0.400000</td>\n",
       "      <td>0.452055</td>\n",
       "      <td>0.051781</td>\n",
       "      <td>0.000000</td>\n",
       "      <td>1.0</td>\n",
       "      <td>0.260274</td>\n",
       "      <td>0.0</td>\n",
       "      <td>0.0</td>\n",
       "      <td>1.0</td>\n",
       "      <td>0.0</td>\n",
       "      <td>...</td>\n",
       "      <td>0.0</td>\n",
       "      <td>0.0</td>\n",
       "      <td>0.0</td>\n",
       "      <td>0.0</td>\n",
       "      <td>1.0</td>\n",
       "      <td>0.0</td>\n",
       "      <td>0.0</td>\n",
       "      <td>0.0</td>\n",
       "      <td>0.0</td>\n",
       "      <td>1.0</td>\n",
       "    </tr>\n",
       "    <tr>\n",
       "      <th>12493</th>\n",
       "      <td>0.333333</td>\n",
       "      <td>0.452055</td>\n",
       "      <td>0.000000</td>\n",
       "      <td>0.000000</td>\n",
       "      <td>0.0</td>\n",
       "      <td>0.273973</td>\n",
       "      <td>0.0</td>\n",
       "      <td>0.0</td>\n",
       "      <td>1.0</td>\n",
       "      <td>0.0</td>\n",
       "      <td>...</td>\n",
       "      <td>0.0</td>\n",
       "      <td>0.0</td>\n",
       "      <td>1.0</td>\n",
       "      <td>0.0</td>\n",
       "      <td>0.0</td>\n",
       "      <td>0.0</td>\n",
       "      <td>0.0</td>\n",
       "      <td>0.0</td>\n",
       "      <td>0.0</td>\n",
       "      <td>1.0</td>\n",
       "    </tr>\n",
       "    <tr>\n",
       "      <th>12494</th>\n",
       "      <td>0.466667</td>\n",
       "      <td>0.452055</td>\n",
       "      <td>0.000000</td>\n",
       "      <td>0.000000</td>\n",
       "      <td>0.0</td>\n",
       "      <td>0.095890</td>\n",
       "      <td>0.0</td>\n",
       "      <td>0.0</td>\n",
       "      <td>1.0</td>\n",
       "      <td>0.0</td>\n",
       "      <td>...</td>\n",
       "      <td>1.0</td>\n",
       "      <td>0.0</td>\n",
       "      <td>0.0</td>\n",
       "      <td>0.0</td>\n",
       "      <td>0.0</td>\n",
       "      <td>0.0</td>\n",
       "      <td>0.0</td>\n",
       "      <td>0.0</td>\n",
       "      <td>0.0</td>\n",
       "      <td>0.0</td>\n",
       "    </tr>\n",
       "    <tr>\n",
       "      <th>12495</th>\n",
       "      <td>0.666667</td>\n",
       "      <td>0.452055</td>\n",
       "      <td>0.000000</td>\n",
       "      <td>0.000000</td>\n",
       "      <td>0.0</td>\n",
       "      <td>0.164384</td>\n",
       "      <td>0.0</td>\n",
       "      <td>0.0</td>\n",
       "      <td>0.0</td>\n",
       "      <td>0.0</td>\n",
       "      <td>...</td>\n",
       "      <td>0.0</td>\n",
       "      <td>0.0</td>\n",
       "      <td>0.0</td>\n",
       "      <td>1.0</td>\n",
       "      <td>0.0</td>\n",
       "      <td>0.0</td>\n",
       "      <td>0.0</td>\n",
       "      <td>0.0</td>\n",
       "      <td>0.0</td>\n",
       "      <td>1.0</td>\n",
       "    </tr>\n",
       "  </tbody>\n",
       "</table>\n",
       "<p>10 rows × 75 columns</p>\n",
       "</div>"
      ],
      "text/plain": [
       "            Years of Education  Working Hours per week  Money Received  \\\n",
       "CITIZEN_ID                                                               \n",
       "12486                 0.466667                0.452055        0.000000   \n",
       "12487                 0.400000                0.452055        0.000000   \n",
       "12488                 0.400000                0.534247        0.000000   \n",
       "12489                 0.333333                0.410959        0.043862   \n",
       "12490                 1.000000                0.520548        0.000000   \n",
       "12491                 0.600000                0.315068        0.000000   \n",
       "12492                 0.400000                0.452055        0.051781   \n",
       "12493                 0.333333                0.452055        0.000000   \n",
       "12494                 0.466667                0.452055        0.000000   \n",
       "12495                 0.666667                0.452055        0.000000   \n",
       "\n",
       "            Ticket Price  Income       Age  Native Continent_America  \\\n",
       "CITIZEN_ID                                                             \n",
       "12486           0.424225     1.0  0.383562                       0.0   \n",
       "12487           0.000000     1.0  0.342466                       0.0   \n",
       "12488           0.433184     1.0  0.301370                       0.0   \n",
       "12489           0.000000     1.0  0.630137                       0.0   \n",
       "12490           0.000000     1.0  0.219178                       0.0   \n",
       "12491           0.000000     0.0  0.095890                       0.0   \n",
       "12492           0.000000     1.0  0.260274                       0.0   \n",
       "12493           0.000000     0.0  0.273973                       0.0   \n",
       "12494           0.000000     0.0  0.095890                       0.0   \n",
       "12495           0.000000     0.0  0.164384                       0.0   \n",
       "\n",
       "            Native Continent_Asia  Native Continent_Europe  \\\n",
       "CITIZEN_ID                                                   \n",
       "12486                         0.0                      1.0   \n",
       "12487                         0.0                      1.0   \n",
       "12488                         0.0                      1.0   \n",
       "12489                         0.0                      1.0   \n",
       "12490                         0.0                      1.0   \n",
       "12491                         0.0                      1.0   \n",
       "12492                         0.0                      1.0   \n",
       "12493                         0.0                      1.0   \n",
       "12494                         0.0                      1.0   \n",
       "12495                         0.0                      0.0   \n",
       "\n",
       "            Native Continent_Oceania  ...  \\\n",
       "CITIZEN_ID                            ...   \n",
       "12486                            0.0  ...   \n",
       "12487                            0.0  ...   \n",
       "12488                            0.0  ...   \n",
       "12489                            0.0  ...   \n",
       "12490                            0.0  ...   \n",
       "12491                            0.0  ...   \n",
       "12492                            0.0  ...   \n",
       "12493                            0.0  ...   \n",
       "12494                            0.0  ...   \n",
       "12495                            0.0  ...   \n",
       "\n",
       "            Role_Machine Operators & Inspectors  Role_Management  \\\n",
       "CITIZEN_ID                                                         \n",
       "12486                                       0.0              0.0   \n",
       "12487                                       0.0              0.0   \n",
       "12488                                       0.0              0.0   \n",
       "12489                                       0.0              0.0   \n",
       "12490                                       0.0              0.0   \n",
       "12491                                       0.0              0.0   \n",
       "12492                                       0.0              0.0   \n",
       "12493                                       0.0              0.0   \n",
       "12494                                       1.0              0.0   \n",
       "12495                                       0.0              0.0   \n",
       "\n",
       "            Role_Other services  Role_Professor  Role_Repair & constructions  \\\n",
       "CITIZEN_ID                                                                     \n",
       "12486                       0.0             0.0                          1.0   \n",
       "12487                       0.0             0.0                          1.0   \n",
       "12488                       0.0             0.0                          0.0   \n",
       "12489                       0.0             0.0                          0.0   \n",
       "12490                       0.0             1.0                          0.0   \n",
       "12491                       0.0             0.0                          0.0   \n",
       "12492                       0.0             0.0                          1.0   \n",
       "12493                       1.0             0.0                          0.0   \n",
       "12494                       0.0             0.0                          0.0   \n",
       "12495                       0.0             1.0                          0.0   \n",
       "\n",
       "            Role_Sales  Role_Security  Role_Transports  Role_Unknown  Gender_M  \n",
       "CITIZEN_ID                                                                      \n",
       "12486              0.0            0.0              0.0           0.0       1.0  \n",
       "12487              0.0            0.0              0.0           0.0       1.0  \n",
       "12488              1.0            0.0              0.0           0.0       1.0  \n",
       "12489              0.0            1.0              0.0           0.0       1.0  \n",
       "12490              0.0            0.0              0.0           0.0       1.0  \n",
       "12491              0.0            0.0              0.0           0.0       1.0  \n",
       "12492              0.0            0.0              0.0           0.0       1.0  \n",
       "12493              0.0            0.0              0.0           0.0       1.0  \n",
       "12494              0.0            0.0              0.0           0.0       0.0  \n",
       "12495              0.0            0.0              0.0           0.0       1.0  \n",
       "\n",
       "[10 rows x 75 columns]"
      ]
     },
     "execution_count": 43,
     "metadata": {},
     "output_type": "execute_result"
    }
   ],
   "source": [
    "minmax_data = pd.DataFrame(minmax_data, columns = finalData.columns, index=dummy.index)\n",
    "minmax_data.head(10)"
   ]
  },
  {
   "cell_type": "markdown",
   "id": "e73dd5ed",
   "metadata": {},
   "source": [
    "## Feature Selection"
   ]
  },
  {
   "cell_type": "markdown",
   "id": "aca39fae",
   "metadata": {},
   "source": [
    "### Chi-Square - Important predictors (before dummies and without name+birthday)"
   ]
  },
  {
   "cell_type": "code",
   "execution_count": 44,
   "id": "4471d8de",
   "metadata": {},
   "outputs": [
    {
     "name": "stdout",
     "output_type": "stream",
     "text": [
      "Native Continent is IMPORTANT for Prediction\n",
      "Marital Status is IMPORTANT for Prediction\n",
      "Lives with is IMPORTANT for Prediction\n",
      "Base Area is IMPORTANT for Prediction\n",
      "Education Level is IMPORTANT for Prediction\n",
      "Years of Education is IMPORTANT for Prediction\n",
      "Employment Sector is IMPORTANT for Prediction\n",
      "Role is IMPORTANT for Prediction\n",
      "Working Hours per week is IMPORTANT for Prediction\n",
      "Money Received is IMPORTANT for Prediction\n"
     ]
    }
   ],
   "source": [
    "import scipy.stats as stats\n",
    "from scipy.stats import chi2_contingency\n",
    "class ChiSquare:\n",
    "    def __init__(self, dataframe):\n",
    "        self.df = dataframe\n",
    "        self.p = None #P-Value\n",
    "        self.chi2 = None #Chi Test Statistic\n",
    "        self.dof = None\n",
    "        \n",
    "        self.dfObserved = None\n",
    "        self.dfExpected = None\n",
    "        \n",
    "    def _print_chisquare_result(self, colX, alpha):\n",
    "        result = \"\"\n",
    "        if self.p<alpha:\n",
    "            result=\"{0} is IMPORTANT for Prediction\".format(colX)\n",
    "        else:\n",
    "            result=\"{0} is NOT an important predictor. (Discard {0} from model)\".format(colX)\n",
    "        print(result)\n",
    "        \n",
    "    def TestIndependence(self,colX,colY, alpha=0.05):\n",
    "        X = self.df[colX].astype(str)\n",
    "        Y = self.df[colY].astype(str)\n",
    "        \n",
    "        self.dfObserved = pd.crosstab(Y,X) \n",
    "        chi2, p, dof, expected = stats.chi2_contingency(self.dfObserved.values)\n",
    "        self.p = p\n",
    "        self.chi2 = chi2\n",
    "        self.dof = dof \n",
    "        \n",
    "        self.dfExpected = pd.DataFrame(expected, columns=self.dfObserved.columns, index = self.dfObserved.index)\n",
    "        \n",
    "        self._print_chisquare_result(colX,alpha)\n",
    "        \n",
    "        \n",
    "df = training.copy()\n",
    "\n",
    "\n",
    "#Initialize ChiSquare Class\n",
    "cT = ChiSquare(df)\n",
    "\n",
    "\n",
    "#Feature Selection\n",
    "testColumns = ['Native Continent','Marital Status','Lives with','Base Area','Education Level', 'Years of Education','Employment Sector','Role', 'Working Hours per week','Money Received']\n",
    "for var in testColumns:\n",
    "    cT.TestIndependence(colX=var,colY=\"Income\" ) "
   ]
  },
  {
   "cell_type": "markdown",
   "id": "26c25fd5",
   "metadata": {},
   "source": [
    "### Chi-Square - Important predictors (after dummies)"
   ]
  },
  {
   "cell_type": "code",
   "execution_count": 45,
   "id": "5386a437",
   "metadata": {},
   "outputs": [
    {
     "name": "stdout",
     "output_type": "stream",
     "text": [
      "Years of Education is IMPORTANT for Prediction\n",
      "Working Hours per week is IMPORTANT for Prediction\n",
      "Money Received is IMPORTANT for Prediction\n",
      "Ticket Price is IMPORTANT for Prediction\n",
      "Income is IMPORTANT for Prediction\n",
      "Age is IMPORTANT for Prediction\n",
      "Native Continent_America is IMPORTANT for Prediction\n",
      "Native Continent_Asia is NOT an important predictor. (Discard Native Continent_Asia from model)\n",
      "Native Continent_Europe is IMPORTANT for Prediction\n",
      "Native Continent_Oceania is IMPORTANT for Prediction\n",
      "Marital Status_Married is IMPORTANT for Prediction\n",
      "Marital Status_Separated is IMPORTANT for Prediction\n",
      "Marital Status_Single is IMPORTANT for Prediction\n",
      "Marital Status_Widow is IMPORTANT for Prediction\n",
      "Lives with_Children is IMPORTANT for Prediction\n",
      "Lives with_Family is IMPORTANT for Prediction\n",
      "Lives with_Partner is IMPORTANT for Prediction\n",
      "Base Area_Aerilon is NOT an important predictor. (Discard Base Area_Aerilon from model)\n",
      "Base Area_Alverton is IMPORTANT for Prediction\n",
      "Base Area_Aroonshire is NOT an important predictor. (Discard Base Area_Aroonshire from model)\n",
      "Base Area_Auchenshuggle is IMPORTANT for Prediction\n",
      "Base Area_Bellenau is NOT an important predictor. (Discard Base Area_Bellenau from model)\n",
      "Base Area_Bellmoral is IMPORTANT for Prediction\n",
      "Base Area_Butterpond is NOT an important predictor. (Discard Base Area_Butterpond from model)\n",
      "Base Area_Carlisle is NOT an important predictor. (Discard Base Area_Carlisle from model)\n",
      "Base Area_Cherrytown is IMPORTANT for Prediction\n",
      "Base Area_Conriston is NOT an important predictor. (Discard Base Area_Conriston from model)\n",
      "Base Area_Drumchapel is NOT an important predictor. (Discard Base Area_Drumchapel from model)\n",
      "Base Area_Eelry is IMPORTANT for Prediction\n",
      "Base Area_Fanfoss is IMPORTANT for Prediction\n",
      "Base Area_Fool's March is NOT an important predictor. (Discard Base Area_Fool's March from model)\n",
      "Base Area_Ironforge is NOT an important predictor. (Discard Base Area_Ironforge from model)\n",
      "Base Area_Kald is IMPORTANT for Prediction\n",
      "Base Area_King's Watch is IMPORTANT for Prediction\n",
      "Base Area_Kirkwall is NOT an important predictor. (Discard Base Area_Kirkwall from model)\n",
      "Base Area_Knife's Edge is IMPORTANT for Prediction\n",
      "Base Area_Laenteglos is IMPORTANT for Prediction\n",
      "Base Area_Laewaes is IMPORTANT for Prediction\n",
      "Base Area_Lanercost is IMPORTANT for Prediction\n",
      "Base Area_Lewes is NOT an important predictor. (Discard Base Area_Lewes from model)\n",
      "Base Area_Marnmouth is NOT an important predictor. (Discard Base Area_Marnmouth from model)\n",
      "Base Area_Mensfield is NOT an important predictor. (Discard Base Area_Mensfield from model)\n",
      "Base Area_Middlesbrough is NOT an important predictor. (Discard Base Area_Middlesbrough from model)\n",
      "Base Area_MillerVille is NOT an important predictor. (Discard Base Area_MillerVille from model)\n",
      "Base Area_Northbury is IMPORTANT for Prediction\n",
      "Base Area_Orilon is NOT an important predictor. (Discard Base Area_Orilon from model)\n",
      "Base Area_Pran is IMPORTANT for Prediction\n",
      "Base Area_Redwick Bush is NOT an important predictor. (Discard Base Area_Redwick Bush from model)\n",
      "Base Area_Sharnwick is IMPORTANT for Prediction\n",
      "Base Area_Sharpton is NOT an important predictor. (Discard Base Area_Sharpton from model)\n",
      "Base Area_Tranmere is NOT an important predictor. (Discard Base Area_Tranmere from model)\n",
      "Base Area_Watford is NOT an important predictor. (Discard Base Area_Watford from model)\n",
      "Base Area_Wigston is NOT an important predictor. (Discard Base Area_Wigston from model)\n",
      "Base Area_Willesden is NOT an important predictor. (Discard Base Area_Willesden from model)\n",
      "Base Area_Woodpine is NOT an important predictor. (Discard Base Area_Woodpine from model)\n",
      "Education Level_High School Education is IMPORTANT for Prediction\n",
      "Education Level_Superior Education is IMPORTANT for Prediction\n",
      "Employment Sector_Public Sector is IMPORTANT for Prediction\n",
      "Employment Sector_Self-Employed is IMPORTANT for Prediction\n",
      "Employment Sector_Unemployed is IMPORTANT for Prediction\n",
      "Role_Agriculture and Fishing is IMPORTANT for Prediction\n",
      "Role_Army is NOT an important predictor. (Discard Role_Army from model)\n",
      "Role_Cleaners & Handlers is IMPORTANT for Prediction\n",
      "Role_Household Services is IMPORTANT for Prediction\n",
      "Role_IT is IMPORTANT for Prediction\n",
      "Role_Machine Operators & Inspectors is IMPORTANT for Prediction\n",
      "Role_Management is IMPORTANT for Prediction\n",
      "Role_Other services is IMPORTANT for Prediction\n",
      "Role_Professor is IMPORTANT for Prediction\n",
      "Role_Repair & constructions is IMPORTANT for Prediction\n",
      "Role_Sales is IMPORTANT for Prediction\n",
      "Role_Security is IMPORTANT for Prediction\n",
      "Role_Transports is IMPORTANT for Prediction\n",
      "Role_Unknown is IMPORTANT for Prediction\n",
      "Gender_M is IMPORTANT for Prediction\n"
     ]
    }
   ],
   "source": [
    "import scipy.stats as stats\n",
    "from scipy.stats import chi2_contingency\n",
    "class ChiSquare:\n",
    "    def __init__(self, dataframe):\n",
    "        self.df = dataframe\n",
    "        self.p = None #P-Value\n",
    "        self.chi2 = None #Chi Test Statistic\n",
    "        self.dof = None\n",
    "        \n",
    "        self.dfObserved = None\n",
    "        self.dfExpected = None\n",
    "        \n",
    "    def _print_chisquare_result(self, colX, alpha):\n",
    "        result = \"\"\n",
    "        if self.p<alpha:\n",
    "            result=\"{0} is IMPORTANT for Prediction\".format(colX)\n",
    "        else:\n",
    "            result=\"{0} is NOT an important predictor. (Discard {0} from model)\".format(colX)\n",
    "        print(result)\n",
    "        \n",
    "    def TestIndependence(self,colX,colY, alpha=0.05):\n",
    "        X = self.df[colX].astype(str)\n",
    "        Y = self.df[colY].astype(str)\n",
    "        \n",
    "        self.dfObserved = pd.crosstab(Y,X) \n",
    "        chi2, p, dof, expected = stats.chi2_contingency(self.dfObserved.values)\n",
    "        self.p = p\n",
    "        self.chi2 = chi2\n",
    "        self.dof = dof \n",
    "        \n",
    "        self.dfExpected = pd.DataFrame(expected, columns=self.dfObserved.columns, index = self.dfObserved.index)\n",
    "        \n",
    "        self._print_chisquare_result(colX,alpha)\n",
    "        \n",
    "        \n",
    "df = minmax_data.copy()\n",
    "\n",
    "\n",
    "#Initialize ChiSquare Class\n",
    "cT = ChiSquare(df)\n",
    "\n",
    "\n",
    "#Feature Selection\n",
    "testColumns = minmax_data.columns\n",
    "for var in testColumns:\n",
    "    cT.TestIndependence(colX=var,colY=\"Income\" ) "
   ]
  },
  {
   "cell_type": "markdown",
   "id": "7dca0b56",
   "metadata": {},
   "source": [
    "#### Drop not important variables (Chi2)"
   ]
  },
  {
   "cell_type": "code",
   "execution_count": 46,
   "id": "2be04a82",
   "metadata": {},
   "outputs": [
    {
     "data": {
      "text/html": [
       "<div>\n",
       "<style scoped>\n",
       "    .dataframe tbody tr th:only-of-type {\n",
       "        vertical-align: middle;\n",
       "    }\n",
       "\n",
       "    .dataframe tbody tr th {\n",
       "        vertical-align: top;\n",
       "    }\n",
       "\n",
       "    .dataframe thead th {\n",
       "        text-align: right;\n",
       "    }\n",
       "</style>\n",
       "<table border=\"1\" class=\"dataframe\">\n",
       "  <thead>\n",
       "    <tr style=\"text-align: right;\">\n",
       "      <th></th>\n",
       "      <th>Years of Education</th>\n",
       "      <th>Working Hours per week</th>\n",
       "      <th>Money Received</th>\n",
       "      <th>Ticket Price</th>\n",
       "      <th>Income</th>\n",
       "      <th>Age</th>\n",
       "      <th>Native Continent_America</th>\n",
       "      <th>Native Continent_Europe</th>\n",
       "      <th>Native Continent_Oceania</th>\n",
       "      <th>Marital Status_Married</th>\n",
       "      <th>...</th>\n",
       "      <th>Role_Machine Operators &amp; Inspectors</th>\n",
       "      <th>Role_Management</th>\n",
       "      <th>Role_Other services</th>\n",
       "      <th>Role_Professor</th>\n",
       "      <th>Role_Repair &amp; constructions</th>\n",
       "      <th>Role_Sales</th>\n",
       "      <th>Role_Security</th>\n",
       "      <th>Role_Transports</th>\n",
       "      <th>Role_Unknown</th>\n",
       "      <th>Gender_M</th>\n",
       "    </tr>\n",
       "    <tr>\n",
       "      <th>CITIZEN_ID</th>\n",
       "      <th></th>\n",
       "      <th></th>\n",
       "      <th></th>\n",
       "      <th></th>\n",
       "      <th></th>\n",
       "      <th></th>\n",
       "      <th></th>\n",
       "      <th></th>\n",
       "      <th></th>\n",
       "      <th></th>\n",
       "      <th></th>\n",
       "      <th></th>\n",
       "      <th></th>\n",
       "      <th></th>\n",
       "      <th></th>\n",
       "      <th></th>\n",
       "      <th></th>\n",
       "      <th></th>\n",
       "      <th></th>\n",
       "      <th></th>\n",
       "      <th></th>\n",
       "    </tr>\n",
       "  </thead>\n",
       "  <tbody>\n",
       "    <tr>\n",
       "      <th>12486</th>\n",
       "      <td>0.466667</td>\n",
       "      <td>0.452055</td>\n",
       "      <td>0.000000</td>\n",
       "      <td>0.424225</td>\n",
       "      <td>1.0</td>\n",
       "      <td>0.383562</td>\n",
       "      <td>0.0</td>\n",
       "      <td>1.0</td>\n",
       "      <td>0.0</td>\n",
       "      <td>1.0</td>\n",
       "      <td>...</td>\n",
       "      <td>0.0</td>\n",
       "      <td>0.0</td>\n",
       "      <td>0.0</td>\n",
       "      <td>0.0</td>\n",
       "      <td>1.0</td>\n",
       "      <td>0.0</td>\n",
       "      <td>0.0</td>\n",
       "      <td>0.0</td>\n",
       "      <td>0.0</td>\n",
       "      <td>1.0</td>\n",
       "    </tr>\n",
       "    <tr>\n",
       "      <th>12487</th>\n",
       "      <td>0.400000</td>\n",
       "      <td>0.452055</td>\n",
       "      <td>0.000000</td>\n",
       "      <td>0.000000</td>\n",
       "      <td>1.0</td>\n",
       "      <td>0.342466</td>\n",
       "      <td>0.0</td>\n",
       "      <td>1.0</td>\n",
       "      <td>0.0</td>\n",
       "      <td>1.0</td>\n",
       "      <td>...</td>\n",
       "      <td>0.0</td>\n",
       "      <td>0.0</td>\n",
       "      <td>0.0</td>\n",
       "      <td>0.0</td>\n",
       "      <td>1.0</td>\n",
       "      <td>0.0</td>\n",
       "      <td>0.0</td>\n",
       "      <td>0.0</td>\n",
       "      <td>0.0</td>\n",
       "      <td>1.0</td>\n",
       "    </tr>\n",
       "    <tr>\n",
       "      <th>12488</th>\n",
       "      <td>0.400000</td>\n",
       "      <td>0.534247</td>\n",
       "      <td>0.000000</td>\n",
       "      <td>0.433184</td>\n",
       "      <td>1.0</td>\n",
       "      <td>0.301370</td>\n",
       "      <td>0.0</td>\n",
       "      <td>1.0</td>\n",
       "      <td>0.0</td>\n",
       "      <td>1.0</td>\n",
       "      <td>...</td>\n",
       "      <td>0.0</td>\n",
       "      <td>0.0</td>\n",
       "      <td>0.0</td>\n",
       "      <td>0.0</td>\n",
       "      <td>0.0</td>\n",
       "      <td>1.0</td>\n",
       "      <td>0.0</td>\n",
       "      <td>0.0</td>\n",
       "      <td>0.0</td>\n",
       "      <td>1.0</td>\n",
       "    </tr>\n",
       "    <tr>\n",
       "      <th>12489</th>\n",
       "      <td>0.333333</td>\n",
       "      <td>0.410959</td>\n",
       "      <td>0.043862</td>\n",
       "      <td>0.000000</td>\n",
       "      <td>1.0</td>\n",
       "      <td>0.630137</td>\n",
       "      <td>0.0</td>\n",
       "      <td>1.0</td>\n",
       "      <td>0.0</td>\n",
       "      <td>1.0</td>\n",
       "      <td>...</td>\n",
       "      <td>0.0</td>\n",
       "      <td>0.0</td>\n",
       "      <td>0.0</td>\n",
       "      <td>0.0</td>\n",
       "      <td>0.0</td>\n",
       "      <td>0.0</td>\n",
       "      <td>1.0</td>\n",
       "      <td>0.0</td>\n",
       "      <td>0.0</td>\n",
       "      <td>1.0</td>\n",
       "    </tr>\n",
       "    <tr>\n",
       "      <th>12490</th>\n",
       "      <td>1.000000</td>\n",
       "      <td>0.520548</td>\n",
       "      <td>0.000000</td>\n",
       "      <td>0.000000</td>\n",
       "      <td>1.0</td>\n",
       "      <td>0.219178</td>\n",
       "      <td>0.0</td>\n",
       "      <td>1.0</td>\n",
       "      <td>0.0</td>\n",
       "      <td>0.0</td>\n",
       "      <td>...</td>\n",
       "      <td>0.0</td>\n",
       "      <td>0.0</td>\n",
       "      <td>0.0</td>\n",
       "      <td>1.0</td>\n",
       "      <td>0.0</td>\n",
       "      <td>0.0</td>\n",
       "      <td>0.0</td>\n",
       "      <td>0.0</td>\n",
       "      <td>0.0</td>\n",
       "      <td>1.0</td>\n",
       "    </tr>\n",
       "  </tbody>\n",
       "</table>\n",
       "<p>5 rows × 50 columns</p>\n",
       "</div>"
      ],
      "text/plain": [
       "            Years of Education  Working Hours per week  Money Received  \\\n",
       "CITIZEN_ID                                                               \n",
       "12486                 0.466667                0.452055        0.000000   \n",
       "12487                 0.400000                0.452055        0.000000   \n",
       "12488                 0.400000                0.534247        0.000000   \n",
       "12489                 0.333333                0.410959        0.043862   \n",
       "12490                 1.000000                0.520548        0.000000   \n",
       "\n",
       "            Ticket Price  Income       Age  Native Continent_America  \\\n",
       "CITIZEN_ID                                                             \n",
       "12486           0.424225     1.0  0.383562                       0.0   \n",
       "12487           0.000000     1.0  0.342466                       0.0   \n",
       "12488           0.433184     1.0  0.301370                       0.0   \n",
       "12489           0.000000     1.0  0.630137                       0.0   \n",
       "12490           0.000000     1.0  0.219178                       0.0   \n",
       "\n",
       "            Native Continent_Europe  Native Continent_Oceania  \\\n",
       "CITIZEN_ID                                                      \n",
       "12486                           1.0                       0.0   \n",
       "12487                           1.0                       0.0   \n",
       "12488                           1.0                       0.0   \n",
       "12489                           1.0                       0.0   \n",
       "12490                           1.0                       0.0   \n",
       "\n",
       "            Marital Status_Married  ...  Role_Machine Operators & Inspectors  \\\n",
       "CITIZEN_ID                          ...                                        \n",
       "12486                          1.0  ...                                  0.0   \n",
       "12487                          1.0  ...                                  0.0   \n",
       "12488                          1.0  ...                                  0.0   \n",
       "12489                          1.0  ...                                  0.0   \n",
       "12490                          0.0  ...                                  0.0   \n",
       "\n",
       "            Role_Management  Role_Other services  Role_Professor  \\\n",
       "CITIZEN_ID                                                         \n",
       "12486                   0.0                  0.0             0.0   \n",
       "12487                   0.0                  0.0             0.0   \n",
       "12488                   0.0                  0.0             0.0   \n",
       "12489                   0.0                  0.0             0.0   \n",
       "12490                   0.0                  0.0             1.0   \n",
       "\n",
       "            Role_Repair & constructions  Role_Sales  Role_Security  \\\n",
       "CITIZEN_ID                                                           \n",
       "12486                               1.0         0.0            0.0   \n",
       "12487                               1.0         0.0            0.0   \n",
       "12488                               0.0         1.0            0.0   \n",
       "12489                               0.0         0.0            1.0   \n",
       "12490                               0.0         0.0            0.0   \n",
       "\n",
       "            Role_Transports  Role_Unknown  Gender_M  \n",
       "CITIZEN_ID                                           \n",
       "12486                   0.0           0.0       1.0  \n",
       "12487                   0.0           0.0       1.0  \n",
       "12488                   0.0           0.0       1.0  \n",
       "12489                   0.0           0.0       1.0  \n",
       "12490                   0.0           0.0       1.0  \n",
       "\n",
       "[5 rows x 50 columns]"
      ]
     },
     "execution_count": 46,
     "metadata": {},
     "output_type": "execute_result"
    }
   ],
   "source": [
    "reduced_d = minmax_data.copy()\n",
    "reduced_data = reduced_d.drop([\"Native Continent_Asia\", \"Base Area_Aerilon\", \"Base Area_Aroonshire\", \"Base Area_Bellenau\", \"Base Area_Butterpond\", \"Base Area_Carlisle\", \"Base Area_Conriston\", \"Base Area_Drumchapel\", \"Base Area_Fool's March\", \"Base Area_Ironforge\", \"Base Area_Kirkwall\", \"Base Area_Lewes\", \"Base Area_Marnmouth\", \"Base Area_Mensfield\", \"Base Area_Middlesbrough\",\"Base Area_MillerVille\", 'Base Area_Orilon', \"Base Area_Redwick Bush\", \"Base Area_Sharpton\", \"Base Area_Tranmere\", \"Base Area_Watford\", \"Base Area_Wigston\", \"Base Area_Willesden\", \"Base Area_Woodpine\",\"Role_Army\"], axis=1)\n",
    "reduced_data.head() #dropped 24 variables"
   ]
  },
  {
   "cell_type": "markdown",
   "id": "e79cb5ba",
   "metadata": {},
   "source": [
    "Como estas 24 variáveis se revelaram como não sendo importantes para o modelo preditivo através do Chi-Quadrado, acabamos por dar drop nelas."
   ]
  },
  {
   "cell_type": "markdown",
   "id": "c9f54fb5",
   "metadata": {},
   "source": [
    "### RFE\n",
    "#### Data Partition\n",
    "Esta partição é apenas feita para podermos aplicar o Recursive Feature Elimination. Não é a mesma partição que é feita para testar os modelos."
   ]
  },
  {
   "cell_type": "code",
   "execution_count": 47,
   "id": "a9d48610",
   "metadata": {},
   "outputs": [],
   "source": [
    "#indep = minmax_data.drop('Income', axis = 1)\n",
    "#target = minmax_data['Income']"
   ]
  },
  {
   "cell_type": "code",
   "execution_count": 48,
   "id": "d2abeace",
   "metadata": {},
   "outputs": [],
   "source": [
    "#from sklearn.model_selection import train_test_split\n",
    "\n",
    "#X_train_val, X_test, y_train_val, y_test = train_test_split(indep, \n",
    "#                                                    target, \n",
    "#                                                   test_size=0.2, \n",
    "#                                                    random_state=15, \n",
    "#                                                    shuffle=True, \n",
    "#                                                    stratify=target\n",
    "#                                                   )"
   ]
  },
  {
   "cell_type": "code",
   "execution_count": 49,
   "id": "f3b675f1",
   "metadata": {},
   "outputs": [],
   "source": [
    "#X_train, X_val, y_train, y_val = train_test_split(X_train_val,\n",
    "#                                                  y_train_val,\n",
    "#                                                  test_size = 0.25,\n",
    "#                                                  random_state = 15,\n",
    "#                                                  shuffle=True,\n",
    "#                                                  stratify=y_train_val\n",
    "#)"
   ]
  },
  {
   "cell_type": "code",
   "execution_count": 50,
   "id": "a8a23dd9",
   "metadata": {},
   "outputs": [],
   "source": [
    "#from sklearn.linear_model import LogisticRegression\n",
    "#from sklearn.feature_selection import RFE\n",
    "#model = LogisticRegression(max_iter=500)"
   ]
  },
  {
   "cell_type": "code",
   "execution_count": 51,
   "id": "ff8392d8",
   "metadata": {},
   "outputs": [],
   "source": [
    "#rfe = RFE(estimator = model, n_features_to_select = 1) #correr primeiro com 1, depois correr de novo com o nº otimo de variaveis que resulta do for loop"
   ]
  },
  {
   "cell_type": "code",
   "execution_count": 52,
   "id": "1f3d1033",
   "metadata": {},
   "outputs": [],
   "source": [
    "#X_rfe = rfe.fit_transform(X = indep, y = target)"
   ]
  },
  {
   "cell_type": "code",
   "execution_count": 53,
   "id": "e06d4ea7",
   "metadata": {},
   "outputs": [],
   "source": [
    "#nof_list=np.arange(1,74) # Number of features\n",
    "#high_score=0 # Variable to store the optimum features\n",
    "#nof=0           \n",
    "#score_list =[]\n",
    "#for n in range(len(nof_list)):\n",
    "#    model = LogisticRegression(max_iter=500)\n",
    "#    rfe = RFE(model,nof_list[n])\n",
    "#    X_train_rfe = rfe.fit_transform(indep,target)\n",
    "#    X_val_rfe = rfe.transform(X_test)\n",
    "#    model.fit(X_train_rfe,target)\n",
    "    \n",
    "#    score = model.score(X_val_rfe,y_test)\n",
    "#    score_list.append(score)\n",
    "    \n",
    "#    if(score>high_score):\n",
    "#        high_score = score\n",
    "#        nof = nof_list[n]\n",
    "#print(\"Optimum number of features: %d\" %nof)\n",
    "#print(\"Score with %d features: %f\" % (nof, high_score))"
   ]
  },
  {
   "cell_type": "code",
   "execution_count": 54,
   "id": "3c15926a",
   "metadata": {},
   "outputs": [],
   "source": [
    "#selected_features = pd.Series(rfe.support_, index = indep.columns)\n",
    "#selected_features.loc[selected_features == False] # TRUE: manter FALSE: sair"
   ]
  },
  {
   "cell_type": "markdown",
   "id": "b2170b0b",
   "metadata": {},
   "source": [
    "#### Drop not important variables (RFE)"
   ]
  },
  {
   "cell_type": "code",
   "execution_count": 55,
   "id": "cd068cb8",
   "metadata": {},
   "outputs": [],
   "source": [
    "#reduced_d = minmax_data.copy()\n",
    "#reduced_data = reduced_d.drop([\"Native Continent_Asia\", \"Native Continent_Europe\", \"Marital Status_Separated\", \"Marital Status_Widow\", \"Lives with_Family\", \"Base Area_Aerilon\", \"Base Area_Auchenshuggle\", \"Base Area_Bellenau\", \"Base Area_Carlisle\", \"Base Area_Conriston\", \"Base Area_Drumchapel\", \"Base Area_Fool's March\", \"Base Area_Ironforge\", \"Base Area_King's Watch\", \"Base Area_Knife's Edge\", \"Base Area_Laenteglos\", \"Base Area_Lanercost\", \"Base Area_Lewes\", \"Base Area_Marnmouth\", \"Base Area_MillerVille\", \"Base Area_Redwick Bush\", \"Base Area_Sharnwick\", \"Base Area_Tranmere\", \"Base Area_Woodpine\", \"Education Level_High School Education\", \"Education Level_Superior Education\", \"Employment Sector_Public Sector\", \"Employment Sector_Self-Employed\", \"Role_Army\", \"Role_Repair & constructions\", \"Role_Sales\", \"Role_Security\", \"Role_Transports\", \"Gender_M\"], axis=1)\n",
    "#reduced_data.head()"
   ]
  },
  {
   "cell_type": "markdown",
   "id": "0996f9b7",
   "metadata": {},
   "source": [
    "## Data Partition"
   ]
  },
  {
   "cell_type": "code",
   "execution_count": 56,
   "id": "103a7db3",
   "metadata": {},
   "outputs": [],
   "source": [
    "indep = reduced_data.drop('Income', axis = 1)\n",
    "target = reduced_data['Income']"
   ]
  },
  {
   "cell_type": "code",
   "execution_count": 57,
   "id": "d7f33291",
   "metadata": {},
   "outputs": [],
   "source": [
    "from sklearn.model_selection import train_test_split\n",
    "\n",
    "X_train_val, X_test, y_train_val, y_test = train_test_split(indep, \n",
    "                                                    target, \n",
    "                                                    test_size=0.2, \n",
    "                                                    random_state=15, \n",
    "                                                    shuffle=True, \n",
    "                                                    stratify=target\n",
    "                                                   )"
   ]
  },
  {
   "cell_type": "code",
   "execution_count": 58,
   "id": "145e118a",
   "metadata": {},
   "outputs": [],
   "source": [
    "X_train, X_val, y_train, y_val = train_test_split(X_train_val,\n",
    "                                                  y_train_val,\n",
    "                                                  test_size = 0.25,\n",
    "                                                  random_state = 15,\n",
    "                                                  shuffle=True,\n",
    "                                                  stratify=y_train_val\n",
    ")"
   ]
  },
  {
   "cell_type": "code",
   "execution_count": 59,
   "id": "3179624d",
   "metadata": {},
   "outputs": [
    {
     "name": "stdout",
     "output_type": "stream",
     "text": [
      "train:0.6% | validation:0.2% | test:0.2%\n"
     ]
    }
   ],
   "source": [
    "print('train:{}% | validation:{}% | test:{}%'.format(round(len(y_train)/len(target),2),\n",
    "                                                     round(len(y_val)/len(target),2),\n",
    "                                                     round(len(y_test)/len(target),2)\n",
    "                                                    ))"
   ]
  },
  {
   "cell_type": "markdown",
   "id": "6f74767e",
   "metadata": {},
   "source": [
    "Aqui repartimos em 3 datasets, onde no Training temos 60% dos dados de forma a conseguirmos recolher comportamentos para construir o modelo, no Validation temos 20% dos dados de forma a permitir melhorias no modelo e explorar se o modelo está a fazer overfitting (comportar-se notoriamente melhor no dataset Training), e no Test temos 20% dos dados que nos irão permitir avaliar a performance do modelo final"
   ]
  },
  {
   "cell_type": "markdown",
   "id": "87a6d11d",
   "metadata": {},
   "source": [
    "## ---------------------------------------------------------------------------------------------------------------------------------"
   ]
  },
  {
   "cell_type": "markdown",
   "id": "a36afa9e",
   "metadata": {},
   "source": [
    "## Performance Measures"
   ]
  },
  {
   "cell_type": "code",
   "execution_count": 60,
   "id": "7d6fabe3",
   "metadata": {},
   "outputs": [],
   "source": [
    "from sklearn.linear_model import LinearRegression\n",
    "\n",
    "lr = LinearRegression().fit(X_train,y_train)"
   ]
  },
  {
   "cell_type": "code",
   "execution_count": 61,
   "id": "aeff059d",
   "metadata": {},
   "outputs": [
    {
     "data": {
      "text/plain": [
       "array([ 0.25820965, -0.01459343,  0.21334907, ..., -0.01808563,\n",
       "        0.48223107,  0.07696275])"
      ]
     },
     "execution_count": 61,
     "metadata": {},
     "output_type": "execute_result"
    }
   ],
   "source": [
    "y_pred = lr.predict(X_val)\n",
    "y_pred"
   ]
  },
  {
   "cell_type": "markdown",
   "id": "2fd3d00d",
   "metadata": {},
   "source": [
    "#### R^2"
   ]
  },
  {
   "cell_type": "code",
   "execution_count": 62,
   "id": "3a29375f",
   "metadata": {},
   "outputs": [],
   "source": [
    "from sklearn.metrics import r2_score, mean_absolute_error, mean_squared_error, median_absolute_error"
   ]
  },
  {
   "cell_type": "code",
   "execution_count": 63,
   "id": "1f4dc025",
   "metadata": {},
   "outputs": [
    {
     "data": {
      "text/plain": [
       "0.3341631667499575"
      ]
     },
     "execution_count": 63,
     "metadata": {},
     "output_type": "execute_result"
    }
   ],
   "source": [
    "r2_score(y_val, y_pred)"
   ]
  },
  {
   "cell_type": "markdown",
   "id": "4c442557",
   "metadata": {},
   "source": [
    "#### Adjusted R^2"
   ]
  },
  {
   "cell_type": "code",
   "execution_count": 64,
   "id": "6ecebaa3",
   "metadata": {},
   "outputs": [
    {
     "data": {
      "text/plain": [
       "0.3267983801067855"
      ]
     },
     "execution_count": 64,
     "metadata": {},
     "output_type": "execute_result"
    }
   ],
   "source": [
    "r2 = r2_score(y_val, y_pred)\n",
    "n = len(y_val)\n",
    "p = len(X_train.columns)\n",
    "\n",
    "def adj_r2 (r2,n,p):\n",
    "    return 1-(1-r2)*(n-1)/(n-p-1)\n",
    "\n",
    "adj_r2(r2,n,p)"
   ]
  },
  {
   "cell_type": "markdown",
   "id": "fbb9c64a",
   "metadata": {},
   "source": [
    "#### Mean Absolute Error"
   ]
  },
  {
   "cell_type": "code",
   "execution_count": 65,
   "id": "35cccf8e",
   "metadata": {},
   "outputs": [
    {
     "data": {
      "text/plain": [
       "0.2703543530216204"
      ]
     },
     "execution_count": 65,
     "metadata": {},
     "output_type": "execute_result"
    }
   ],
   "source": [
    "mean_absolute_error(y_val, y_pred)"
   ]
  },
  {
   "cell_type": "markdown",
   "id": "01fb4533",
   "metadata": {},
   "source": [
    "#### Root Mean Squared Error"
   ]
  },
  {
   "cell_type": "code",
   "execution_count": 66,
   "id": "38f7ea00",
   "metadata": {},
   "outputs": [
    {
     "data": {
      "text/plain": [
       "0.12042270081332015"
      ]
     },
     "execution_count": 66,
     "metadata": {},
     "output_type": "execute_result"
    }
   ],
   "source": [
    "mean_squared_error(y_val, y_pred, squared = True)"
   ]
  },
  {
   "cell_type": "markdown",
   "id": "984a1677",
   "metadata": {},
   "source": [
    "#### Median Absolute Error"
   ]
  },
  {
   "cell_type": "code",
   "execution_count": 67,
   "id": "adfabb00",
   "metadata": {},
   "outputs": [
    {
     "data": {
      "text/plain": [
       "0.2351370391716175"
      ]
     },
     "execution_count": 67,
     "metadata": {},
     "output_type": "execute_result"
    }
   ],
   "source": [
    "median_absolute_error(y_val, y_pred)"
   ]
  },
  {
   "cell_type": "markdown",
   "id": "c6019297",
   "metadata": {},
   "source": [
    "## Classification Problems"
   ]
  },
  {
   "cell_type": "markdown",
   "id": "2afd4920",
   "metadata": {},
   "source": [
    "### Logistic Regression"
   ]
  },
  {
   "cell_type": "code",
   "execution_count": 68,
   "id": "dbcf8d24",
   "metadata": {},
   "outputs": [],
   "source": [
    "#from sklearn.linear_model import LogisticRegression\n",
    "#from sklearn.metrics import confusion_matrix, accuracy_score, precision_score, recall_score, f1_score"
   ]
  },
  {
   "cell_type": "code",
   "execution_count": 69,
   "id": "9974f2a8",
   "metadata": {},
   "outputs": [],
   "source": [
    "#log_model = LogisticRegression()"
   ]
  },
  {
   "cell_type": "code",
   "execution_count": 70,
   "id": "b30a1e01",
   "metadata": {
    "scrolled": true
   },
   "outputs": [],
   "source": [
    "#log_model.fit(X_train, y_train)"
   ]
  },
  {
   "cell_type": "code",
   "execution_count": 71,
   "id": "349da25d",
   "metadata": {},
   "outputs": [],
   "source": [
    "#y_pred = log_model.predict(X_val)\n",
    "#y_pred"
   ]
  },
  {
   "cell_type": "code",
   "execution_count": 72,
   "id": "8accf7b8",
   "metadata": {},
   "outputs": [],
   "source": [
    "#f1_score(y_val, y_pred)"
   ]
  },
  {
   "cell_type": "markdown",
   "id": "c75fc1ac",
   "metadata": {},
   "source": [
    "### Bayesian Classifiers"
   ]
  },
  {
   "cell_type": "code",
   "execution_count": 73,
   "id": "dec5ae66",
   "metadata": {},
   "outputs": [],
   "source": [
    "#from sklearn.naive_bayes import GaussianNB"
   ]
  },
  {
   "cell_type": "code",
   "execution_count": 74,
   "id": "a7ae7a9c",
   "metadata": {},
   "outputs": [],
   "source": [
    "#model_bayes = GaussianNB().fit(X_train, y_train)"
   ]
  },
  {
   "cell_type": "code",
   "execution_count": 75,
   "id": "37d5900f",
   "metadata": {},
   "outputs": [],
   "source": [
    "#labels_train_bayes = model_bayes.predict(X_train)\n",
    "#labels_val_bayes = model_bayes.predict(X_val)"
   ]
  },
  {
   "cell_type": "code",
   "execution_count": 76,
   "id": "23d337a4",
   "metadata": {},
   "outputs": [],
   "source": [
    "#model_bayes.predict_proba(X_val)"
   ]
  },
  {
   "cell_type": "code",
   "execution_count": 77,
   "id": "47fd4c62",
   "metadata": {
    "scrolled": true
   },
   "outputs": [],
   "source": [
    "#from sklearn.metrics import f1_score\n",
    "\n",
    "#print('Train:', f1_score(y_train, labels_train_bayes))\n",
    "#print('Validation:', f1_score(y_val, labels_val_bayes))"
   ]
  },
  {
   "cell_type": "markdown",
   "id": "ed94096f",
   "metadata": {},
   "source": [
    "### KNN"
   ]
  },
  {
   "cell_type": "code",
   "execution_count": 78,
   "id": "c03d0277",
   "metadata": {},
   "outputs": [],
   "source": [
    "#from sklearn.neighbors import KNeighborsClassifier"
   ]
  },
  {
   "cell_type": "code",
   "execution_count": 79,
   "id": "10f59c20",
   "metadata": {},
   "outputs": [],
   "source": [
    "#model_knn = KNeighborsClassifier().fit(X_train, y_train)"
   ]
  },
  {
   "cell_type": "code",
   "execution_count": 80,
   "id": "02fb328e",
   "metadata": {},
   "outputs": [],
   "source": [
    "#labels_train_knn = model_knn.predict(X_train)\n",
    "#labels_val_knn = model_knn.predict(X_val)"
   ]
  },
  {
   "cell_type": "code",
   "execution_count": 81,
   "id": "4aa545d4",
   "metadata": {},
   "outputs": [],
   "source": [
    "#model_knn.predict_proba(X_val)"
   ]
  },
  {
   "cell_type": "code",
   "execution_count": 82,
   "id": "b51cf79e",
   "metadata": {},
   "outputs": [],
   "source": [
    "#print('Train:', f1_score(y_train, labels_train_knn))\n",
    "#print('Validation:', f1_score(y_val, labels_val_knn))"
   ]
  },
  {
   "cell_type": "markdown",
   "id": "75376280",
   "metadata": {},
   "source": [
    "#### - Changing number of neighbours"
   ]
  },
  {
   "cell_type": "code",
   "execution_count": 83,
   "id": "f5f6e0d4",
   "metadata": {},
   "outputs": [],
   "source": [
    "#model_knn_k1 = KNeighborsClassifier(n_neighbors = 1).fit(X_train, y_train)\n",
    "\n",
    "#labels_train_knn_k1 = model_knn_k1.predict(X_train)\n",
    "#labels_val_knn_k1 = model_knn_k1.predict(X_val)\n",
    "\n",
    "#print(\"For a KNN with 1 neighbor, the f1_score for train is \" + str(f1_score(y_train, labels_train_knn_k1)) + \n",
    "#      \" and for validation is \" + str(f1_score(y_val, labels_val_knn_k1)))"
   ]
  },
  {
   "cell_type": "code",
   "execution_count": 84,
   "id": "f0277b6c",
   "metadata": {},
   "outputs": [],
   "source": [
    "\n",
    "#import numpy as np\n",
    "#numberK_list=np.arange(1,20)\n",
    "#high_f1score=0\n",
    "#nof=0           \n",
    "#score_list_train =[]\n",
    "#score_list_val =[]\n",
    "#for n in numberK_list:\n",
    "#    model = KNeighborsClassifier(n_neighbors = n).fit(X_train, y_train)\n",
    "#    labels_train_knn = model.predict(X_train)\n",
    "#    labels_val_knn = model.predict(X_val)\n",
    "    \n",
    "#    score_train = f1_score(y_train, labels_train_knn)\n",
    "#    score_val = f1_score(y_val, labels_val_knn)\n",
    "#    score_list_train.append(score_train)\n",
    "#    score_list_val.append(score_val)\n",
    "    \n",
    "#    if(score_val>high_f1score):\n",
    "#        high_f1score = score_val\n",
    "#        nof = numberK_list[n]\n",
    "#print(\"Best number of neighbors: %d\" %nof)\n",
    "#print(\"F1 Score in validation with %d neighbors: %f\" % (nof, high_f1score)) "
   ]
  },
  {
   "cell_type": "code",
   "execution_count": 85,
   "id": "22be14c0",
   "metadata": {},
   "outputs": [],
   "source": [
    "#model_knn_distance = KNeighborsClassifier(n_neighbors=10, weights = 'distance').fit(X_train, y_train)\n",
    "\n",
    "#labels_train_knn_distance = model_knn_distance.predict(X_train)\n",
    "#labels_val_knn_distance = model_knn_distance.predict(X_val)\n",
    "#print(\"For a KNN with 10 neighbors and using weights = 'distance', the f1_score for train is \" + str(f1_score(y_train, labels_train_knn_distance)) + \n",
    "#      \" and for validation is \" + str(f1_score(y_val, labels_val_knn_distance)))"
   ]
  },
  {
   "cell_type": "code",
   "execution_count": 86,
   "id": "2912992e",
   "metadata": {},
   "outputs": [],
   "source": [
    "#model_knn_manhattan = KNeighborsClassifier(n_neighbors=10, metric = 'manhattan').fit(X_train, y_train)\n",
    "\n",
    "#labels_train_knn_manhattan = model_knn_manhattan.predict(X_train)\n",
    "#labels_val_knn_manhattan = model_knn_manhattan.predict(X_val)\n",
    "#print(\"For a KNN with 10 neighbors, and using the manhattan distance, the f1_score for train is \" + str(f1_score(y_train, labels_train_knn_manhattan)) + \n",
    "#      \" and for validation is \" + str(f1_score(y_val, labels_val_knn_manhattan)))"
   ]
  },
  {
   "cell_type": "code",
   "execution_count": 87,
   "id": "0fca7df6",
   "metadata": {},
   "outputs": [],
   "source": [
    "#model_knn_hamming = KNeighborsClassifier(n_neighbors=10, metric = 'hamming').fit(X_train, y_train)\n",
    "\n",
    "#labels_train_knn_hamming = model_knn_hamming.predict(X_train)\n",
    "#labels_val_knn_hamming = model_knn_hamming.predict(X_val)\n",
    "#print(\"For a KNN with 10 neighbors, and using the hamming distance, the f1_score for train is \" + str(f1_score(y_train, labels_train_knn_hamming)) + \n",
    "#      \" and for validation is \" + str(f1_score(y_val, labels_val_knn_hamming)))"
   ]
  },
  {
   "cell_type": "code",
   "execution_count": 88,
   "id": "ef11c4b5",
   "metadata": {},
   "outputs": [],
   "source": [
    "#model_knn_minkowski = KNeighborsClassifier(n_neighbors=8, metric = 'minkowski').fit(X_train, y_train)\n",
    "\n",
    "#labels_train_knn_minkowski = model_knn_minkowski.predict(X_train)\n",
    "#labels_val_knn_minkowski = model_knn_minkowski.predict(X_val)\n",
    "#print(\"For a KNN with 10 neighbors, and using the minkowski distance, the f1_score for train is \" + str(f1_score(y_train, labels_train_knn_minkowski)) + \n",
    "#      \" and for validation is \" + str(f1_score(y_val, labels_val_knn_minkowski)))"
   ]
  },
  {
   "cell_type": "markdown",
   "id": "bb70e618",
   "metadata": {},
   "source": [
    "### Decision Tree"
   ]
  },
  {
   "cell_type": "code",
   "execution_count": 89,
   "id": "07a443ad",
   "metadata": {},
   "outputs": [],
   "source": [
    "#from sklearn.tree import DecisionTreeClassifier\n",
    "#modelDT = DecisionTreeClassifier()"
   ]
  },
  {
   "cell_type": "code",
   "execution_count": 90,
   "id": "5696e881",
   "metadata": {},
   "outputs": [],
   "source": [
    "#modelDT.fit(X_train, y_train)"
   ]
  },
  {
   "cell_type": "code",
   "execution_count": 91,
   "id": "3e9dcb73",
   "metadata": {},
   "outputs": [],
   "source": [
    "#from sklearn import tree\n",
    "#from sklearn.tree import export_graphviz\n",
    "#import graphviz\n",
    "#import pydotplus"
   ]
  },
  {
   "cell_type": "code",
   "execution_count": 92,
   "id": "dd846633",
   "metadata": {},
   "outputs": [],
   "source": [
    "#y_pred = modelDT.predict(X_val)"
   ]
  },
  {
   "cell_type": "code",
   "execution_count": 93,
   "id": "15df9151",
   "metadata": {},
   "outputs": [],
   "source": [
    "#print('The defined three has a depth of ' + str(modelDT.get_depth()) + ', ' + str(modelDT.tree_.node_count) + \n",
    "#      ' nodes and a total of ' + str(modelDT.get_n_leaves()) + ' leaves.')"
   ]
  },
  {
   "cell_type": "code",
   "execution_count": 94,
   "id": "723fae90",
   "metadata": {},
   "outputs": [],
   "source": [
    "#modelDT.predict_proba(X_val)"
   ]
  },
  {
   "cell_type": "code",
   "execution_count": 95,
   "id": "fe86ec79",
   "metadata": {},
   "outputs": [],
   "source": [
    "#modelDT.score(X_train, y_train)"
   ]
  },
  {
   "cell_type": "code",
   "execution_count": 96,
   "id": "bca54274",
   "metadata": {
    "scrolled": true
   },
   "outputs": [],
   "source": [
    "#modelDT.score(X_val, y_val)"
   ]
  },
  {
   "cell_type": "code",
   "execution_count": 97,
   "id": "9d684319",
   "metadata": {
    "scrolled": true
   },
   "outputs": [],
   "source": [
    "#f1_score(modelDT.predict(X_train),y_train)"
   ]
  },
  {
   "cell_type": "code",
   "execution_count": 98,
   "id": "895ae268",
   "metadata": {},
   "outputs": [],
   "source": [
    "#f1_score(modelDT.predict(X_val),y_val)"
   ]
  },
  {
   "cell_type": "code",
   "execution_count": 99,
   "id": "fc24ad70",
   "metadata": {},
   "outputs": [],
   "source": [
    "#modelDT.feature_importances_"
   ]
  },
  {
   "cell_type": "code",
   "execution_count": 100,
   "id": "ad2c9abb",
   "metadata": {},
   "outputs": [],
   "source": [
    "#import numpy as np\n",
    "#import matplotlib.pyplot as plt\n",
    "#def plot_feature_importances(model):\n",
    "#    n_features = X_train.shape[1]\n",
    "#    plt.figure(figsize=(50,30))\n",
    "#    plt.barh(range(n_features), model.feature_importances_, align='center')\n",
    "#    plt.yticks(np.arange(n_features), X_train.columns)\n",
    "#    plt.xlabel(\"Feature importance\")\n",
    "#    plt.ylabel(\"Feature\")\n",
    "#    plt.show()"
   ]
  },
  {
   "cell_type": "code",
   "execution_count": 101,
   "id": "08e8e094",
   "metadata": {},
   "outputs": [],
   "source": [
    "#plot_feature_importances(modelDT)"
   ]
  },
  {
   "cell_type": "code",
   "execution_count": 102,
   "id": "ebfe4433",
   "metadata": {},
   "outputs": [],
   "source": [
    "#modelDT_entropy = DecisionTreeClassifier(criterion='entropy')"
   ]
  },
  {
   "cell_type": "code",
   "execution_count": 103,
   "id": "7ad7c242",
   "metadata": {},
   "outputs": [],
   "source": [
    "#modelDT_entropy.fit(X_train, y_train)"
   ]
  },
  {
   "cell_type": "code",
   "execution_count": 104,
   "id": "15d5b83e",
   "metadata": {},
   "outputs": [],
   "source": [
    "#modelDT_entropy.score(X_val, y_val)"
   ]
  },
  {
   "cell_type": "markdown",
   "id": "6af265c2",
   "metadata": {},
   "source": [
    "#### - Change tree's depth"
   ]
  },
  {
   "cell_type": "code",
   "execution_count": 105,
   "id": "e3e14c0a",
   "metadata": {},
   "outputs": [],
   "source": [
    "#modelDT_maxdepth3 = DecisionTreeClassifier(max_depth=5)"
   ]
  },
  {
   "cell_type": "code",
   "execution_count": 106,
   "id": "87d27167",
   "metadata": {},
   "outputs": [],
   "source": [
    "#modelDT_maxdepth3.fit(X_train, y_train)"
   ]
  },
  {
   "cell_type": "code",
   "execution_count": 107,
   "id": "4e7f9783",
   "metadata": {},
   "outputs": [],
   "source": [
    "#modelDT_maxdepth3.score(X_val, y_val)"
   ]
  },
  {
   "cell_type": "code",
   "execution_count": 108,
   "id": "fbeeb85a",
   "metadata": {},
   "outputs": [],
   "source": [
    "#modelDT_maxdepth3.score(X_train, y_train)"
   ]
  },
  {
   "cell_type": "code",
   "execution_count": 109,
   "id": "280bc105",
   "metadata": {},
   "outputs": [],
   "source": [
    "#modelDT_maxdepth3.predict_proba(X_val)"
   ]
  },
  {
   "cell_type": "code",
   "execution_count": 110,
   "id": "418e34d1",
   "metadata": {},
   "outputs": [],
   "source": [
    "#f1_score(modelDT_maxdepth3.predict(X_train),y_train)"
   ]
  },
  {
   "cell_type": "code",
   "execution_count": 111,
   "id": "495dea5c",
   "metadata": {},
   "outputs": [],
   "source": [
    "#f1_score(modelDT_maxdepth3.predict(X_val),y_val)"
   ]
  },
  {
   "cell_type": "markdown",
   "id": "c23432b8",
   "metadata": {},
   "source": [
    "#### - Change number of leaf nodes"
   ]
  },
  {
   "cell_type": "code",
   "execution_count": 112,
   "id": "88dcd897",
   "metadata": {},
   "outputs": [],
   "source": [
    "#modelDT_leafs8 = DecisionTreeClassifier(max_leaf_nodes=8)"
   ]
  },
  {
   "cell_type": "code",
   "execution_count": 113,
   "id": "f5db11b3",
   "metadata": {},
   "outputs": [],
   "source": [
    "#modelDT_leafs8.fit(X_train, y_train)"
   ]
  },
  {
   "cell_type": "code",
   "execution_count": 114,
   "id": "a459d093",
   "metadata": {},
   "outputs": [],
   "source": [
    "#modelDT_leafs8.score(X_val, y_val)"
   ]
  },
  {
   "cell_type": "code",
   "execution_count": 115,
   "id": "be990575",
   "metadata": {},
   "outputs": [],
   "source": [
    "#modelDT_leafs8.score(X_train, y_train)"
   ]
  },
  {
   "cell_type": "code",
   "execution_count": 116,
   "id": "a2b3e39b",
   "metadata": {},
   "outputs": [],
   "source": [
    "#f1_score(modelDT_leafs8.predict(X_train),y_train)"
   ]
  },
  {
   "cell_type": "code",
   "execution_count": 117,
   "id": "bce6055e",
   "metadata": {},
   "outputs": [],
   "source": [
    "#f1_score(modelDT_leafs8.predict(X_val),y_val)"
   ]
  },
  {
   "cell_type": "markdown",
   "id": "08ff0ce4",
   "metadata": {},
   "source": [
    "## Gradient Boosting"
   ]
  },
  {
   "cell_type": "code",
   "execution_count": 118,
   "id": "8b15acab",
   "metadata": {},
   "outputs": [],
   "source": [
    "import pandas as pd\n",
    "from sklearn.preprocessing import MinMaxScaler\n",
    "from sklearn.model_selection import train_test_split\n",
    "from sklearn.metrics import classification_report, confusion_matrix, accuracy_score, precision_score, recall_score, f1_score\n",
    "from sklearn.ensemble import GradientBoostingClassifier\n",
    "from sklearn.metrics import roc_curve, auc"
   ]
  },
  {
   "cell_type": "code",
   "execution_count": 119,
   "id": "7e99e9fa",
   "metadata": {},
   "outputs": [
    {
     "data": {
      "text/plain": [
       "0.8611607142857143"
      ]
     },
     "execution_count": 119,
     "metadata": {},
     "output_type": "execute_result"
    }
   ],
   "source": [
    "# GB Default - Without parameter tuning\n",
    "gb_clf2 = GradientBoostingClassifier()\n",
    "gb_clf2.fit(X_train, y_train)\n",
    "y_pred = gb_clf2.predict(X_val)\n",
    "gb_clf2.score(X_val, y_val)"
   ]
  },
  {
   "cell_type": "code",
   "execution_count": 120,
   "id": "16346a14",
   "metadata": {},
   "outputs": [
    {
     "data": {
      "text/plain": [
       "0.667379679144385"
      ]
     },
     "execution_count": 120,
     "metadata": {},
     "output_type": "execute_result"
    }
   ],
   "source": [
    "f1_score(y_val, y_pred)"
   ]
  },
  {
   "cell_type": "markdown",
   "id": "73587902",
   "metadata": {},
   "source": [
    "#### Parameter Tuning"
   ]
  },
  {
   "cell_type": "code",
   "execution_count": 121,
   "id": "dcd8625d",
   "metadata": {},
   "outputs": [
    {
     "name": "stdout",
     "output_type": "stream",
     "text": [
      "Learning rate:  0.05\n",
      "Accuracy score (training): 0.851\n",
      "Accuracy score (validation): 0.842\n",
      "Learning rate:  0.075\n",
      "Accuracy score (training): 0.859\n",
      "Accuracy score (validation): 0.846\n",
      "Learning rate:  0.1\n",
      "Accuracy score (training): 0.861\n",
      "Accuracy score (validation): 0.850\n",
      "Learning rate:  0.25\n",
      "Accuracy score (training): 0.864\n",
      "Accuracy score (validation): 0.852\n",
      "Learning rate:  0.5\n",
      "Accuracy score (training): 0.868\n",
      "Accuracy score (validation): 0.855\n",
      "Learning rate:  0.75\n",
      "Accuracy score (training): 0.871\n",
      "Accuracy score (validation): 0.858\n",
      "Learning rate:  1\n",
      "Accuracy score (training): 0.873\n",
      "Accuracy score (validation): 0.852\n"
     ]
    }
   ],
   "source": [
    "# Tuning learning_rate\n",
    "lr_list = [0.05, 0.075, 0.1, 0.25, 0.5, 0.75, 1]\n",
    "\n",
    "for learning_rate in lr_list:\n",
    "    gb_clf = GradientBoostingClassifier(n_estimators=200, learning_rate=learning_rate, max_features=2, max_depth=2, random_state=0)\n",
    "    gb_clf.fit(X_train, y_train)\n",
    "\n",
    "    print(\"Learning rate: \", learning_rate)\n",
    "    print(\"Accuracy score (training): {0:.3f}\".format(gb_clf.score(X_train, y_train)))\n",
    "    print(\"Accuracy score (validation): {0:.3f}\".format(gb_clf.score(X_val, y_val)))"
   ]
  },
  {
   "cell_type": "markdown",
   "id": "5dc1094a",
   "metadata": {},
   "source": [
    "learning_Rate: shrinks the contribution of each tree\n",
    "\n",
    "Podemos ver que o learning rate mais satisfatório é o de 0.75, uma vez que permite uma boa precisão tanto no modelo training como no de validação, sem overfit."
   ]
  },
  {
   "cell_type": "code",
   "execution_count": 122,
   "id": "f6a1983c",
   "metadata": {},
   "outputs": [
    {
     "data": {
      "image/png": "[encoded data removed]",
      "text/plain": [
       "<Figure size 432x288 with 1 Axes>"
      ]
     },
     "metadata": {
      "needs_background": "light"
     },
     "output_type": "display_data"
    }
   ],
   "source": [
    "# Tuning n_estimators\n",
    "n_estimators = [1, 2, 4, 8, 16, 32, 64, 100, 200]\n",
    "train_results = []\n",
    "test_results = []\n",
    "for estimator in n_estimators:\n",
    "   model = GradientBoostingClassifier(n_estimators=estimator)\n",
    "   model.fit(X_train, y_train)\n",
    "   train_pred = model.predict(X_train)\n",
    "   false_positive_rate, true_positive_rate, thresholds = roc_curve(y_train, train_pred)\n",
    "   roc_auc = auc(false_positive_rate, true_positive_rate)\n",
    "   train_results.append(roc_auc)\n",
    "   y_pred = model.predict(X_test)\n",
    "   false_positive_rate, true_positive_rate, thresholds = roc_curve(y_test, y_pred)\n",
    "   roc_auc = auc(false_positive_rate, true_positive_rate)\n",
    "   test_results.append(roc_auc)\n",
    "from matplotlib.legend_handler import HandlerLine2D\n",
    "line1, = plt.plot(n_estimators, train_results, 'b', label='Train AUC')\n",
    "line2, = plt.plot(n_estimators, test_results, 'r', label='Test AUC')\n",
    "plt.legend(handler_map={line1: HandlerLine2D(numpoints=2)})\n",
    "plt.ylabel('AUC score')\n",
    "plt.xlabel('n_estimators')\n",
    "plt.show()"
   ]
  },
  {
   "cell_type": "markdown",
   "id": "1a154dc2",
   "metadata": {},
   "source": [
    "n_estimators: the number of boosting stages to perform (number of trees). Usually, the higher the number of trees, the better to learn the data\n",
    "\n",
    "Conseguimos ver que à medida que o número de estimadores aumenta, não existe overfit. O valor ótimo será um valor grande, como 200, que revela fazer uma boa modelação dos dados."
   ]
  },
  {
   "cell_type": "code",
   "execution_count": 123,
   "id": "1b47d7a4",
   "metadata": {},
   "outputs": [
    {
     "data": {
      "image/png": "[encoded data removed]",
      "text/plain": [
       "<Figure size 432x288 with 1 Axes>"
      ]
     },
     "metadata": {
      "needs_background": "light"
     },
     "output_type": "display_data"
    }
   ],
   "source": [
    "# Tuning max_depth\n",
    "max_depths = np.linspace(1, 32, 32, endpoint=True)\n",
    "train_results = []\n",
    "test_results = []\n",
    "for max_depth in max_depths:\n",
    "   model = GradientBoostingClassifier(max_depth=max_depth)\n",
    "   model.fit(X_train, y_train)\n",
    "   train_pred = model.predict(X_train)\n",
    "   false_positive_rate, true_positive_rate, thresholds = roc_curve(y_train, train_pred)\n",
    "   roc_auc = auc(false_positive_rate, true_positive_rate)\n",
    "   train_results.append(roc_auc)\n",
    "   y_pred = model.predict(X_test)\n",
    "   false_positive_rate, true_positive_rate, thresholds = roc_curve(y_test, y_pred)\n",
    "   roc_auc = auc(false_positive_rate, true_positive_rate)\n",
    "   test_results.append(roc_auc)\n",
    "from matplotlib.legend_handler import HandlerLine2D\n",
    "line1, = plt.plot(max_depths, train_results, 'b', label='Train AUC')\n",
    "line2, = plt.plot(max_depths, test_results, 'r', label='Test AUC')\n",
    "plt.legend(handler_map={line1: HandlerLine2D(numpoints=2)})\n",
    "plt.ylabel('AUC score')\n",
    "plt.xlabel('Tree depth')\n",
    "plt.show()"
   ]
  },
  {
   "cell_type": "markdown",
   "id": "8eb2069e",
   "metadata": {},
   "source": [
    "max_depth: limits the number of nodes in the tree and indicates how deep the built tree can be\n",
    "\n",
    "Podemos ver que quanto maior o tree depth, mais o nosso modelo falha em prever novos valores. Ou seja, modela bastante bem a training data, o que não é o caso com a test data, resultando num overfit com grandes valores de tree depth. O valor ótimo aqui será um valor entre 2-5."
   ]
  },
  {
   "cell_type": "code",
   "execution_count": 124,
   "id": "c576df0a",
   "metadata": {},
   "outputs": [
    {
     "data": {
      "image/png": "[encoded data removed]",
      "text/plain": [
       "<Figure size 432x288 with 1 Axes>"
      ]
     },
     "metadata": {
      "needs_background": "light"
     },
     "output_type": "display_data"
    }
   ],
   "source": [
    "# Tuning min_samples_split\n",
    "min_samples_splits = np.linspace(0.1, 1.0, 10, endpoint=True)\n",
    "train_results = []\n",
    "test_results = []\n",
    "for min_samples_split in min_samples_splits:\n",
    "   model = GradientBoostingClassifier(min_samples_split=min_samples_split)\n",
    "   model.fit(X_train, y_train)\n",
    "   train_pred = model.predict(X_train)\n",
    "   false_positive_rate, true_positive_rate, thresholds = roc_curve(y_train, train_pred)\n",
    "   roc_auc = auc(false_positive_rate, true_positive_rate)\n",
    "   train_results.append(roc_auc)\n",
    "   y_pred = model.predict(X_test)\n",
    "   false_positive_rate, true_positive_rate, thresholds = roc_curve(y_test, y_pred)\n",
    "   roc_auc = auc(false_positive_rate, true_positive_rate)\n",
    "   test_results.append(roc_auc)\n",
    "from matplotlib.legend_handler import HandlerLine2D\n",
    "line1, = plt.plot(min_samples_splits, train_results, 'b', label='Train AUC')\n",
    "line2, = plt.plot(min_samples_splits, test_results, 'r', label='Test AUC')\n",
    "plt.legend(handler_map={line1: HandlerLine2D(numpoints=2)})\n",
    "plt.ylabel('AUC score')\n",
    "plt.xlabel('min samples split')\n",
    "plt.show()"
   ]
  },
  {
   "cell_type": "markdown",
   "id": "a4654e1d",
   "metadata": {},
   "source": [
    "min_samples_split: minimum number of samples required to split an internal node. A higher value means that the tree becomes more constrained\n",
    "\n",
    "À medida que o modelo requer um maior número mínimo de amostras, vai obtendo menores valores da precisão ao modelar a training data e a test data. Aqui podemos optar por um min_samples_split igual a 0.4 para tentar manter a precisão elevada."
   ]
  },
  {
   "cell_type": "code",
   "execution_count": 125,
   "id": "c29c3096",
   "metadata": {},
   "outputs": [
    {
     "data": {
      "image/png": "[encoded data removed]",
      "text/plain": [
       "<Figure size 432x288 with 1 Axes>"
      ]
     },
     "metadata": {
      "needs_background": "light"
     },
     "output_type": "display_data"
    }
   ],
   "source": [
    "# Tuning max_features\n",
    "max_features = list(range(1,indep.shape[1]))\n",
    "train_results = []\n",
    "test_results = []\n",
    "for max_feature in max_features:\n",
    "   model = GradientBoostingClassifier(max_features=max_feature)\n",
    "   model.fit(X_train, y_train)\n",
    "   train_pred = model.predict(X_train)\n",
    "   false_positive_rate, true_positive_rate, thresholds = roc_curve(y_train, train_pred)\n",
    "   roc_auc = auc(false_positive_rate, true_positive_rate)\n",
    "   train_results.append(roc_auc)\n",
    "   y_pred = model.predict(X_test)\n",
    "   false_positive_rate, true_positive_rate, thresholds = roc_curve(y_test, y_pred)\n",
    "   roc_auc = auc(false_positive_rate, true_positive_rate)\n",
    "   test_results.append(roc_auc)\n",
    "from matplotlib.legend_handler import HandlerLine2D\n",
    "line1, = plt.plot(max_features, train_results, 'b', label='Train AUC')\n",
    "line2, = plt.plot(max_features, test_results, 'r', label='Test AUC')\n",
    "plt.legend(handler_map={line1: HandlerLine2D(numpoints=2)})\n",
    "plt.ylabel('AUC score')\n",
    "plt.xlabel('max features')\n",
    "plt.show()"
   ]
  },
  {
   "cell_type": "markdown",
   "id": "1bcbb9a3",
   "metadata": {},
   "source": [
    "max_features: represents the number of features to consider when looking for the best split\n",
    "\n",
    "Podemos ver que a performance tende a melhorar com incremento de max_features. Quantas mais variáveis incluirmos, melhor será a performance logo. No entanto, existe uma regra que se pode aplicar, em que o número máximo de features é a raíz quadrada do número de features do dataframe. Seguindo a regra, o valor ótimo será igual a 7. Podemos também utilizar max_features='sqrt'."
   ]
  },
  {
   "cell_type": "code",
   "execution_count": 126,
   "id": "79851199",
   "metadata": {},
   "outputs": [],
   "source": [
    "gb_clf2 = GradientBoostingClassifier(learning_rate=0.75, n_estimators=200, max_features='sqrt', max_depth=3, random_state=0, min_samples_split=0.4)\n",
    "gb_clf2.fit(X_train, y_train)\n",
    "y_pred = gb_clf2.predict(X_val)"
   ]
  },
  {
   "cell_type": "markdown",
   "id": "9f250aab",
   "metadata": {},
   "source": [
    "#### Confusion Matrix\n",
    "\n",
    "confusion_matrix(y_val, y_pred)\n",
    "\n",
    "The confusion matrix in sklearn is presented in the following format: <br>\n",
    "[ [ TN  FP  ] <br>\n",
    "    [ FN  TP ] ]"
   ]
  },
  {
   "cell_type": "markdown",
   "id": "5657f52b",
   "metadata": {},
   "source": [
    "#### Accuracy Score"
   ]
  },
  {
   "cell_type": "code",
   "execution_count": 127,
   "id": "1725ffc4",
   "metadata": {},
   "outputs": [
    {
     "data": {
      "text/plain": [
       "0.8616071428571429"
      ]
     },
     "execution_count": 127,
     "metadata": {},
     "output_type": "execute_result"
    }
   ],
   "source": [
    "accuracy_score(y_val, y_pred)"
   ]
  },
  {
   "cell_type": "markdown",
   "id": "556dde8d",
   "metadata": {},
   "source": [
    "#### Precision Score"
   ]
  },
  {
   "cell_type": "code",
   "execution_count": 128,
   "id": "c7cfa319",
   "metadata": {},
   "outputs": [
    {
     "data": {
      "text/plain": [
       "0.7433920704845814"
      ]
     },
     "execution_count": 128,
     "metadata": {},
     "output_type": "execute_result"
    }
   ],
   "source": [
    "precision_score(y_val, y_pred)"
   ]
  },
  {
   "cell_type": "markdown",
   "id": "eef7105f",
   "metadata": {},
   "source": [
    "#### Recall Score"
   ]
  },
  {
   "cell_type": "code",
   "execution_count": 129,
   "id": "45538b99",
   "metadata": {},
   "outputs": [
    {
     "data": {
      "text/plain": [
       "0.635593220338983"
      ]
     },
     "execution_count": 129,
     "metadata": {},
     "output_type": "execute_result"
    }
   ],
   "source": [
    "recall_score(y_val, y_pred)"
   ]
  },
  {
   "cell_type": "markdown",
   "id": "0b078a25",
   "metadata": {},
   "source": [
    "#### F1 Score"
   ]
  },
  {
   "cell_type": "code",
   "execution_count": 130,
   "id": "c3490be3",
   "metadata": {},
   "outputs": [
    {
     "data": {
      "text/plain": [
       "0.6852791878172588"
      ]
     },
     "execution_count": 130,
     "metadata": {},
     "output_type": "execute_result"
    }
   ],
   "source": [
    "f1_score(y_val, y_pred)"
   ]
  },
  {
   "cell_type": "markdown",
   "id": "b06bd3bb",
   "metadata": {},
   "source": [
    "#### Classification Report"
   ]
  },
  {
   "cell_type": "code",
   "execution_count": 132,
   "id": "a1d7fa9b",
   "metadata": {},
   "outputs": [
    {
     "name": "stdout",
     "output_type": "stream",
     "text": [
      "___________________________________________________________________________________________________________\n",
      "                                                     TRAIN                                                 \n",
      "-----------------------------------------------------------------------------------------------------------\n",
      "              precision    recall  f1-score   support\n",
      "\n",
      "         0.0       0.90      0.94      0.92     10253\n",
      "         1.0       0.78      0.67      0.72      3187\n",
      "\n",
      "    accuracy                           0.88     13440\n",
      "   macro avg       0.84      0.80      0.82     13440\n",
      "weighted avg       0.87      0.88      0.87     13440\n",
      "\n",
      "[[9667  586]\n",
      " [1065 2122]]\n",
      "___________________________________________________________________________________________________________\n",
      "                                                VALIDATION                                                 \n",
      "-----------------------------------------------------------------------------------------------------------\n",
      "              precision    recall  f1-score   support\n",
      "\n",
      "         0.0       0.89      0.93      0.91      3418\n",
      "         1.0       0.74      0.64      0.69      1062\n",
      "\n",
      "    accuracy                           0.86      4480\n",
      "   macro avg       0.82      0.78      0.80      4480\n",
      "weighted avg       0.86      0.86      0.86      4480\n",
      "\n",
      "[[3185  233]\n",
      " [ 387  675]]\n"
     ]
    }
   ],
   "source": [
    "from sklearn.metrics import classification_report\n",
    "\n",
    "def metrics(y_train, pred_train , y_val, pred_val):\n",
    "    print('___________________________________________________________________________________________________________')\n",
    "    print('                                                     TRAIN                                                 ')\n",
    "    print('-----------------------------------------------------------------------------------------------------------')\n",
    "    print(classification_report(y_train, pred_train))\n",
    "    print(confusion_matrix(y_train, pred_train))\n",
    "\n",
    "\n",
    "    print('___________________________________________________________________________________________________________')\n",
    "    print('                                                VALIDATION                                                 ')\n",
    "    print('-----------------------------------------------------------------------------------------------------------')\n",
    "    print(classification_report(y_val, pred_val))\n",
    "    print(confusion_matrix(y_val, pred_val))\n",
    "\n",
    "labels_train = gb_clf2.predict(X_train)\n",
    "labels_val = gb_clf2.predict(X_val)\n",
    "\n",
    "metrics(y_train = y_train, pred_train = labels_train, y_val = y_val, pred_val = labels_val)"
   ]
  },
  {
   "cell_type": "markdown",
   "id": "ac5221e0",
   "metadata": {},
   "source": [
    "## Neural Networks"
   ]
  },
  {
   "cell_type": "code",
   "execution_count": null,
   "id": "6b62f278",
   "metadata": {},
   "outputs": [],
   "source": [
    "#from sklearn.model_selection import train_test_split\n",
    "#import time\n",
    "#import warnings\n",
    "#warnings.filterwarnings('ignore')\n",
    "\n",
    "#def avg_score(model):\n",
    "#    score_train = []\n",
    "#    score_val = []\n",
    "#    timer = []\n",
    "    \n",
    "#    for i in range(10):\n",
    "#        X_train, X_val, y_train, y_val = train_test_split(indep, target, train_size = 0.8, \n",
    "#                                                      shuffle = True, stratify = target)\n",
    "#        begin = time.perf_counter() # start counting time\n",
    "#        model.fit(X_train, y_train) # fit your model to your training data\n",
    "#        end = time.perf_counter() # stop counting time\n",
    "        \n",
    "#        value_train = model.score(X_train, y_train) # mean accuracy for train\n",
    "#        value_val = model.score(X_val, y_val) # mean accuracy for validation\n",
    "#        score_train.append(value_train) # append the mean accuracy in train to your list score_train\n",
    "#        score_val.append(value_val) # append the mean accuracy in validation to your list score_val\n",
    "#        timer.append(end-begin) # append the time to your list timer\n",
    "    \n",
    "#    avg_time = round(np.mean(timer),3) # check the mean value of training time for your 10 models \n",
    "#    avg_train = round(np.mean(score_train),3) # check the mean accuracy in train for your 10 models\n",
    "#    avg_val = round(np.mean(score_val),3) # check the mean accuracy in validation for your 10 models\n",
    "#    std_time = round(np.std(timer),2) # check the standard deviation of training time for your 10 models\n",
    "#    std_train = round(np.std(score_train),2) # check the standard deviation of the mean accuracy in train for your 10 models\n",
    "#   std_val = round(np.std(score_val),2) # check the standard deviation of the mean accuracy in validation for your 10 models\n",
    "    \n",
    "#    return str(avg_time) + '+/-' + str(std_time), str(avg_train) + '+/-' + str(std_train),\\\n",
    "#str(avg_val) + '+/-' + str(std_val)"
   ]
  },
  {
   "cell_type": "code",
   "execution_count": null,
   "id": "6f3f4d90",
   "metadata": {},
   "outputs": [],
   "source": [
    "#def show_results(df, *args):\n",
    "#    \"\"\"\n",
    "#    Receive an empty dataframe and the different models and call the function avg_score\n",
    "#    \"\"\"\n",
    "#    count = 0\n",
    "    # for each model passed as argument\n",
    "#    for arg in args:\n",
    "        # obtain the results provided by avg_score\n",
    "#        time, avg_train, avg_val = avg_score(arg)\n",
    "        # store the results in the right row\n",
    "#        df.iloc[count] = time, avg_train, avg_val\n",
    "#        count+=1\n",
    "#    return df"
   ]
  },
  {
   "cell_type": "code",
   "execution_count": null,
   "id": "f888b3b3",
   "metadata": {},
   "outputs": [],
   "source": [
    "#from sklearn.neural_network import MLPClassifier\n",
    "#model = MLPClassifier()"
   ]
  },
  {
   "cell_type": "code",
   "execution_count": null,
   "id": "ec0d80af",
   "metadata": {},
   "outputs": [],
   "source": [
    "#df = pd.DataFrame(columns = ['Time','Train','Validation'], index = ['Raw'])\n",
    "#show_results(df, model)"
   ]
  },
  {
   "cell_type": "markdown",
   "id": "83f05e20",
   "metadata": {},
   "source": [
    "#### Hidden layer size"
   ]
  },
  {
   "cell_type": "code",
   "execution_count": null,
   "id": "a32e2cb9",
   "metadata": {},
   "outputs": [],
   "source": [
    "#model_simple = MLPClassifier(hidden_layer_sizes=(1))"
   ]
  },
  {
   "cell_type": "code",
   "execution_count": null,
   "id": "dae485c0",
   "metadata": {},
   "outputs": [],
   "source": [
    "#model_medium = MLPClassifier(hidden_layer_sizes=(10,10))"
   ]
  },
  {
   "cell_type": "code",
   "execution_count": null,
   "id": "76b88440",
   "metadata": {},
   "outputs": [],
   "source": [
    "#model_complex = MLPClassifier(hidden_layer_sizes=(100,100,100,100))"
   ]
  },
  {
   "cell_type": "code",
   "execution_count": null,
   "id": "f5aa8d26",
   "metadata": {},
   "outputs": [],
   "source": [
    "#df = pd.DataFrame(columns = ['Time','Train','Validation'], index = ['Simple','Medium','Complex'])\n",
    "#show_results(df, model_simple, model_medium, model_complex)"
   ]
  },
  {
   "cell_type": "markdown",
   "id": "a1096b53",
   "metadata": {},
   "source": [
    "#### The activation function"
   ]
  },
  {
   "cell_type": "code",
   "execution_count": null,
   "id": "343b7e72",
   "metadata": {},
   "outputs": [],
   "source": [
    "#model_logistic = MLPClassifier(activation = 'logistic')"
   ]
  },
  {
   "cell_type": "code",
   "execution_count": null,
   "id": "f5b721ba",
   "metadata": {},
   "outputs": [],
   "source": [
    "#model_tanh = MLPClassifier(activation = 'tanh')"
   ]
  },
  {
   "cell_type": "code",
   "execution_count": null,
   "id": "901f5be6",
   "metadata": {},
   "outputs": [],
   "source": [
    "#df = pd.DataFrame(columns = ['Time','Train','Validation'], index = ['logistic','tanh'])\n",
    "#show_results(df, model_logistic, model_tanh)"
   ]
  },
  {
   "cell_type": "markdown",
   "id": "831b47f6",
   "metadata": {},
   "source": [
    "#### The Solver"
   ]
  },
  {
   "cell_type": "code",
   "execution_count": null,
   "id": "82b582c0",
   "metadata": {},
   "outputs": [],
   "source": [
    "#model_sgd = MLPClassifier(solver = 'sgd')"
   ]
  },
  {
   "cell_type": "code",
   "execution_count": null,
   "id": "bab3de39",
   "metadata": {},
   "outputs": [],
   "source": [
    "#model_adam = MLPClassifier(solver = 'adam')"
   ]
  },
  {
   "cell_type": "code",
   "execution_count": null,
   "id": "396f8b44",
   "metadata": {},
   "outputs": [],
   "source": [
    "#df = pd.DataFrame(columns = ['Time','Train','Validation'], index = ['sgd','adam'])\n",
    "#show_results(df, model_sgd, model_adam)"
   ]
  },
  {
   "cell_type": "markdown",
   "id": "04bf7db9",
   "metadata": {},
   "source": [
    "#### The learning rate"
   ]
  },
  {
   "cell_type": "code",
   "execution_count": null,
   "id": "1e3960e1",
   "metadata": {},
   "outputs": [],
   "source": [
    "#model_constant = MLPClassifier(solver = 'sgd', learning_rate = 'constant')"
   ]
  },
  {
   "cell_type": "code",
   "execution_count": null,
   "id": "c67b1a8f",
   "metadata": {},
   "outputs": [],
   "source": [
    "#model_invscaling = MLPClassifier(solver = 'sgd', learning_rate = 'invscaling')"
   ]
  },
  {
   "cell_type": "code",
   "execution_count": null,
   "id": "64333535",
   "metadata": {},
   "outputs": [],
   "source": [
    "#df = pd.DataFrame(columns = ['Time','Train','Validation'], index = ['constant','invscaling'])\n",
    "#show_results(df, model_constant, model_invscaling)"
   ]
  },
  {
   "cell_type": "markdown",
   "id": "eb148932",
   "metadata": {},
   "source": [
    "####  The learning rate initialization"
   ]
  },
  {
   "cell_type": "code",
   "execution_count": null,
   "id": "683dd9cd",
   "metadata": {},
   "outputs": [],
   "source": [
    "#model_lr_big = MLPClassifier(learning_rate_init = 0.5)"
   ]
  },
  {
   "cell_type": "code",
   "execution_count": null,
   "id": "14474895",
   "metadata": {},
   "outputs": [],
   "source": [
    "#model_lr_medium = MLPClassifier(learning_rate_init = 0.001)"
   ]
  },
  {
   "cell_type": "code",
   "execution_count": null,
   "id": "2a3d6cd3",
   "metadata": {},
   "outputs": [],
   "source": [
    "#model_lr_small = MLPClassifier(learning_rate_init = 0.000001)"
   ]
  },
  {
   "cell_type": "code",
   "execution_count": null,
   "id": "e9b3467a",
   "metadata": {},
   "outputs": [],
   "source": [
    "#df = pd.DataFrame(columns = ['Time','Train','Validation'], index = ['big','medium','small'])\n",
    "#show_results(df, model_lr_big, model_lr_medium, model_lr_small)"
   ]
  },
  {
   "cell_type": "markdown",
   "id": "435f637c",
   "metadata": {},
   "source": [
    "#### Grid Search"
   ]
  },
  {
   "cell_type": "code",
   "execution_count": null,
   "id": "cf76ed4b",
   "metadata": {},
   "outputs": [],
   "source": [
    "#from sklearn.model_selection import GridSearchCV"
   ]
  },
  {
   "cell_type": "code",
   "execution_count": null,
   "id": "58558d23",
   "metadata": {},
   "outputs": [],
   "source": [
    "#parameter_space = {\n",
    "#    'hidden_layer_sizes': [(10), (10,10), (20,20)],\n",
    "#    'activation': ['tanh', 'logistic'],\n",
    "#    'solver': ['sgd', 'adam'],\n",
    "#    'learning_rate_init': [0.00001, 0.0001, 0.001, 0.01, 0.1],\n",
    "#    'learning_rate': ['constant','invscaling']\n",
    "#}"
   ]
  },
  {
   "cell_type": "code",
   "execution_count": null,
   "id": "47562005",
   "metadata": {},
   "outputs": [],
   "source": [
    "#clf = GridSearchCV(model, parameter_space)"
   ]
  },
  {
   "cell_type": "code",
   "execution_count": null,
   "id": "4c9d331d",
   "metadata": {},
   "outputs": [],
   "source": [
    "#clf.fit(indep, target) "
   ]
  },
  {
   "cell_type": "code",
   "execution_count": null,
   "id": "109ae387",
   "metadata": {},
   "outputs": [],
   "source": [
    "#clf.best_params_"
   ]
  },
  {
   "cell_type": "code",
   "execution_count": null,
   "id": "7f7b1efe",
   "metadata": {},
   "outputs": [],
   "source": [
    "#final_model = clf.best_estimator_"
   ]
  },
  {
   "cell_type": "code",
   "execution_count": null,
   "id": "bd14b081",
   "metadata": {},
   "outputs": [],
   "source": [
    "#df = pd.DataFrame(columns = ['Time','Train','Validation'], index = ['final_model'])\n",
    "#show_results(df, final_model)"
   ]
  },
  {
   "cell_type": "code",
   "execution_count": null,
   "id": "cb03836b",
   "metadata": {},
   "outputs": [],
   "source": [
    "#X_train, X_val, y_train, y_val = train_test_split(indep, target, \n",
    "#                                                  train_size = 0.8, shuffle = True, \n",
    "#                                                  stratify = target, random_state = 20)"
   ]
  },
  {
   "cell_type": "code",
   "execution_count": null,
   "id": "1abdae93",
   "metadata": {},
   "outputs": [],
   "source": [
    "#final_model.fit(X_train, y_train)"
   ]
  },
  {
   "cell_type": "code",
   "execution_count": null,
   "id": "b16e358f",
   "metadata": {},
   "outputs": [],
   "source": [
    "#print(final_model.predict(X_val))"
   ]
  },
  {
   "cell_type": "code",
   "execution_count": null,
   "id": "ea096d08",
   "metadata": {},
   "outputs": [],
   "source": [
    "#final_model.score(X_train, y_train)"
   ]
  },
  {
   "cell_type": "code",
   "execution_count": null,
   "id": "0207c76d",
   "metadata": {},
   "outputs": [],
   "source": [
    "#final_model.score(X_val, y_val)"
   ]
  },
  {
   "cell_type": "markdown",
   "id": "6cf264de",
   "metadata": {},
   "source": [
    "## Random Forest"
   ]
  },
  {
   "cell_type": "code",
   "execution_count": null,
   "id": "b2b8c54f",
   "metadata": {},
   "outputs": [],
   "source": [
    "#from sklearn.ensemble import RandomForestClassifier\n",
    "\n",
    "#rfc = RandomForestClassifier()\n",
    "#rfc.fit(X_train, y_train)\n",
    "#pred_rfc = rfc.predict(X_test)"
   ]
  },
  {
   "cell_type": "code",
   "execution_count": null,
   "id": "478fc57d",
   "metadata": {},
   "outputs": [],
   "source": [
    "#from sklearn.metrics import confusion_matrix, classification_report\n",
    "#print(classification_report(y_test, pred_rfc))"
   ]
  },
  {
   "cell_type": "code",
   "execution_count": null,
   "id": "efa6285e",
   "metadata": {},
   "outputs": [],
   "source": [
    "#print(confusion_matrix(y_test, pred_rfc))"
   ]
  },
  {
   "cell_type": "code",
   "execution_count": null,
   "id": "a812d55e",
   "metadata": {},
   "outputs": [],
   "source": [
    "#f1_score(rfc.predict(X_val),y_val)"
   ]
  },
  {
   "cell_type": "markdown",
   "id": "250dfd81",
   "metadata": {},
   "source": [
    "## Support Vector Machine"
   ]
  },
  {
   "cell_type": "code",
   "execution_count": null,
   "id": "54834b5d",
   "metadata": {},
   "outputs": [],
   "source": [
    "#from sklearn.svm import SVC\n",
    "#svc = SVC()\n",
    "#svc.fit(X_train, y_train)\n",
    "#pred_svc = svc.predict(X_test)\n",
    "#print(classification_report(y_test, pred_svc))"
   ]
  },
  {
   "cell_type": "code",
   "execution_count": null,
   "id": "dc15e5dc",
   "metadata": {},
   "outputs": [],
   "source": [
    "#f1_score(svc.predict(X_val),y_val)"
   ]
  },
  {
   "cell_type": "markdown",
   "id": "55b1cda3",
   "metadata": {},
   "source": [
    "## Deploy"
   ]
  },
  {
   "cell_type": "code",
   "execution_count": 133,
   "id": "0a108328",
   "metadata": {},
   "outputs": [
    {
     "data": {
      "text/html": [
       "<div>\n",
       "<style scoped>\n",
       "    .dataframe tbody tr th:only-of-type {\n",
       "        vertical-align: middle;\n",
       "    }\n",
       "\n",
       "    .dataframe tbody tr th {\n",
       "        vertical-align: top;\n",
       "    }\n",
       "\n",
       "    .dataframe thead th {\n",
       "        text-align: right;\n",
       "    }\n",
       "</style>\n",
       "<table border=\"1\" class=\"dataframe\">\n",
       "  <thead>\n",
       "    <tr style=\"text-align: right;\">\n",
       "      <th></th>\n",
       "      <th>CITIZEN_ID</th>\n",
       "      <th>Name</th>\n",
       "      <th>Birthday</th>\n",
       "      <th>Native Continent</th>\n",
       "      <th>Marital Status</th>\n",
       "      <th>Lives with</th>\n",
       "      <th>Base Area</th>\n",
       "      <th>Education Level</th>\n",
       "      <th>Years of Education</th>\n",
       "      <th>Employment Sector</th>\n",
       "      <th>Role</th>\n",
       "      <th>Working Hours per week</th>\n",
       "      <th>Money Received</th>\n",
       "      <th>Ticket Price</th>\n",
       "    </tr>\n",
       "  </thead>\n",
       "  <tbody>\n",
       "    <tr>\n",
       "      <th>0</th>\n",
       "      <td>34886</td>\n",
       "      <td>Mr. Dan Kerr</td>\n",
       "      <td>May 13,2012</td>\n",
       "      <td>Europe</td>\n",
       "      <td>Married</td>\n",
       "      <td>Wife</td>\n",
       "      <td>Northbury</td>\n",
       "      <td>Bachelors + PostGraduation</td>\n",
       "      <td>16</td>\n",
       "      <td>Private Sector - Services</td>\n",
       "      <td>Sales</td>\n",
       "      <td>40</td>\n",
       "      <td>0</td>\n",
       "      <td>0</td>\n",
       "    </tr>\n",
       "    <tr>\n",
       "      <th>1</th>\n",
       "      <td>34887</td>\n",
       "      <td>Miss Olivia Grant</td>\n",
       "      <td>August 9,2014</td>\n",
       "      <td>Europe</td>\n",
       "      <td>Single</td>\n",
       "      <td>Other Family</td>\n",
       "      <td>Northbury</td>\n",
       "      <td>Bachelors + PostGraduation</td>\n",
       "      <td>16</td>\n",
       "      <td>Private Sector - Services</td>\n",
       "      <td>Professor</td>\n",
       "      <td>36</td>\n",
       "      <td>0</td>\n",
       "      <td>0</td>\n",
       "    </tr>\n",
       "  </tbody>\n",
       "</table>\n",
       "</div>"
      ],
      "text/plain": [
       "   CITIZEN_ID               Name        Birthday Native Continent  \\\n",
       "0       34886       Mr. Dan Kerr     May 13,2012           Europe   \n",
       "1       34887  Miss Olivia Grant   August 9,2014           Europe   \n",
       "\n",
       "  Marital Status    Lives with  Base Area             Education Level  \\\n",
       "0        Married          Wife  Northbury  Bachelors + PostGraduation   \n",
       "1         Single  Other Family  Northbury  Bachelors + PostGraduation   \n",
       "\n",
       "   Years of Education           Employment Sector       Role  \\\n",
       "0                  16  Private Sector - Services       Sales   \n",
       "1                  16  Private Sector - Services   Professor   \n",
       "\n",
       "   Working Hours per week  Money Received  Ticket Price  \n",
       "0                      40               0             0  \n",
       "1                      36               0             0  "
      ]
     },
     "execution_count": 133,
     "metadata": {},
     "output_type": "execute_result"
    }
   ],
   "source": [
    "test = pd.read_csv('Test.csv')\n",
    "test.head(2)"
   ]
  },
  {
   "cell_type": "code",
   "execution_count": 134,
   "id": "2f50ffe8",
   "metadata": {},
   "outputs": [
    {
     "data": {
      "text/html": [
       "<div>\n",
       "<style scoped>\n",
       "    .dataframe tbody tr th:only-of-type {\n",
       "        vertical-align: middle;\n",
       "    }\n",
       "\n",
       "    .dataframe tbody tr th {\n",
       "        vertical-align: top;\n",
       "    }\n",
       "\n",
       "    .dataframe thead th {\n",
       "        text-align: right;\n",
       "    }\n",
       "</style>\n",
       "<table border=\"1\" class=\"dataframe\">\n",
       "  <thead>\n",
       "    <tr style=\"text-align: right;\">\n",
       "      <th></th>\n",
       "      <th>Name</th>\n",
       "      <th>Birthday</th>\n",
       "      <th>Native Continent</th>\n",
       "      <th>Marital Status</th>\n",
       "      <th>Lives with</th>\n",
       "      <th>Base Area</th>\n",
       "      <th>Education Level</th>\n",
       "      <th>Years of Education</th>\n",
       "      <th>Employment Sector</th>\n",
       "      <th>Role</th>\n",
       "      <th>Working Hours per week</th>\n",
       "      <th>Money Received</th>\n",
       "      <th>Ticket Price</th>\n",
       "    </tr>\n",
       "    <tr>\n",
       "      <th>CITIZEN_ID</th>\n",
       "      <th></th>\n",
       "      <th></th>\n",
       "      <th></th>\n",
       "      <th></th>\n",
       "      <th></th>\n",
       "      <th></th>\n",
       "      <th></th>\n",
       "      <th></th>\n",
       "      <th></th>\n",
       "      <th></th>\n",
       "      <th></th>\n",
       "      <th></th>\n",
       "      <th></th>\n",
       "    </tr>\n",
       "  </thead>\n",
       "  <tbody>\n",
       "    <tr>\n",
       "      <th>34886</th>\n",
       "      <td>Mr. Dan Kerr</td>\n",
       "      <td>May 13,2012</td>\n",
       "      <td>Europe</td>\n",
       "      <td>Married</td>\n",
       "      <td>Wife</td>\n",
       "      <td>Northbury</td>\n",
       "      <td>Bachelors + PostGraduation</td>\n",
       "      <td>16</td>\n",
       "      <td>Private Sector - Services</td>\n",
       "      <td>Sales</td>\n",
       "      <td>40</td>\n",
       "      <td>0</td>\n",
       "      <td>0</td>\n",
       "    </tr>\n",
       "    <tr>\n",
       "      <th>34887</th>\n",
       "      <td>Miss Olivia Grant</td>\n",
       "      <td>August 9,2014</td>\n",
       "      <td>Europe</td>\n",
       "      <td>Single</td>\n",
       "      <td>Other Family</td>\n",
       "      <td>Northbury</td>\n",
       "      <td>Bachelors + PostGraduation</td>\n",
       "      <td>16</td>\n",
       "      <td>Private Sector - Services</td>\n",
       "      <td>Professor</td>\n",
       "      <td>36</td>\n",
       "      <td>0</td>\n",
       "      <td>0</td>\n",
       "    </tr>\n",
       "    <tr>\n",
       "      <th>34888</th>\n",
       "      <td>Mr. Trevor Simpson</td>\n",
       "      <td>May 23,2020</td>\n",
       "      <td>Europe</td>\n",
       "      <td>Divorced</td>\n",
       "      <td>Other Family</td>\n",
       "      <td>Northbury</td>\n",
       "      <td>Professional School + PostGraduation</td>\n",
       "      <td>13</td>\n",
       "      <td>Private Sector - Services</td>\n",
       "      <td>Management</td>\n",
       "      <td>50</td>\n",
       "      <td>12940</td>\n",
       "      <td>0</td>\n",
       "    </tr>\n",
       "    <tr>\n",
       "      <th>34889</th>\n",
       "      <td>Mr. David Clark</td>\n",
       "      <td>April 15,2016</td>\n",
       "      <td>Europe</td>\n",
       "      <td>Married</td>\n",
       "      <td>Wife</td>\n",
       "      <td>Northbury</td>\n",
       "      <td>Professional School</td>\n",
       "      <td>12</td>\n",
       "      <td>Private Sector - Services</td>\n",
       "      <td>Professor</td>\n",
       "      <td>48</td>\n",
       "      <td>0</td>\n",
       "      <td>1827</td>\n",
       "    </tr>\n",
       "    <tr>\n",
       "      <th>34890</th>\n",
       "      <td>Mr. Gavin Lambert</td>\n",
       "      <td>April 22,2011</td>\n",
       "      <td>Europe</td>\n",
       "      <td>Married</td>\n",
       "      <td>Wife</td>\n",
       "      <td>Watford</td>\n",
       "      <td>Bachelors</td>\n",
       "      <td>15</td>\n",
       "      <td>Public Sector - Others</td>\n",
       "      <td>Professor</td>\n",
       "      <td>45</td>\n",
       "      <td>0</td>\n",
       "      <td>0</td>\n",
       "    </tr>\n",
       "    <tr>\n",
       "      <th>34891</th>\n",
       "      <td>Mr. Jack Johnston</td>\n",
       "      <td>June 21,2028</td>\n",
       "      <td>Europe</td>\n",
       "      <td>Single</td>\n",
       "      <td>Other Family</td>\n",
       "      <td>Northbury</td>\n",
       "      <td>Professional School</td>\n",
       "      <td>12</td>\n",
       "      <td>Private Sector - Services</td>\n",
       "      <td>Machine Operators &amp; Inspectors</td>\n",
       "      <td>40</td>\n",
       "      <td>0</td>\n",
       "      <td>0</td>\n",
       "    </tr>\n",
       "    <tr>\n",
       "      <th>34892</th>\n",
       "      <td>Mrs. Joan Bond</td>\n",
       "      <td>July 10,2012</td>\n",
       "      <td>Europe</td>\n",
       "      <td>Married</td>\n",
       "      <td>Husband</td>\n",
       "      <td>Northbury</td>\n",
       "      <td>Masters</td>\n",
       "      <td>17</td>\n",
       "      <td>Private Sector - Services</td>\n",
       "      <td>Professor</td>\n",
       "      <td>44</td>\n",
       "      <td>0</td>\n",
       "      <td>2432</td>\n",
       "    </tr>\n",
       "    <tr>\n",
       "      <th>34893</th>\n",
       "      <td>Miss Joanne Ogden</td>\n",
       "      <td>May 31,2022</td>\n",
       "      <td>Europe</td>\n",
       "      <td>Single</td>\n",
       "      <td>Other Family</td>\n",
       "      <td>Northbury</td>\n",
       "      <td>Bachelors + PostGraduation</td>\n",
       "      <td>16</td>\n",
       "      <td>Private Sector - Services</td>\n",
       "      <td>Management</td>\n",
       "      <td>50</td>\n",
       "      <td>0</td>\n",
       "      <td>0</td>\n",
       "    </tr>\n",
       "    <tr>\n",
       "      <th>34894</th>\n",
       "      <td>Miss Carol Newman</td>\n",
       "      <td>March 8,2013</td>\n",
       "      <td>Africa</td>\n",
       "      <td>Single</td>\n",
       "      <td>Other Family</td>\n",
       "      <td>Northbury</td>\n",
       "      <td>High School + PostGraduation</td>\n",
       "      <td>13</td>\n",
       "      <td>Private Sector - Services</td>\n",
       "      <td>Machine Operators &amp; Inspectors</td>\n",
       "      <td>30</td>\n",
       "      <td>0</td>\n",
       "      <td>0</td>\n",
       "    </tr>\n",
       "    <tr>\n",
       "      <th>34895</th>\n",
       "      <td>Miss Gabrielle Smith</td>\n",
       "      <td>August 9,2008</td>\n",
       "      <td>Europe</td>\n",
       "      <td>Single</td>\n",
       "      <td>Alone</td>\n",
       "      <td>Northbury</td>\n",
       "      <td>Bachelors + PostGraduation</td>\n",
       "      <td>16</td>\n",
       "      <td>Public Sector - Others</td>\n",
       "      <td>Professor</td>\n",
       "      <td>45</td>\n",
       "      <td>0</td>\n",
       "      <td>0</td>\n",
       "    </tr>\n",
       "  </tbody>\n",
       "</table>\n",
       "</div>"
      ],
      "text/plain": [
       "                            Name        Birthday Native Continent  \\\n",
       "CITIZEN_ID                                                          \n",
       "34886               Mr. Dan Kerr     May 13,2012           Europe   \n",
       "34887          Miss Olivia Grant   August 9,2014           Europe   \n",
       "34888         Mr. Trevor Simpson     May 23,2020           Europe   \n",
       "34889            Mr. David Clark   April 15,2016           Europe   \n",
       "34890          Mr. Gavin Lambert   April 22,2011           Europe   \n",
       "34891          Mr. Jack Johnston    June 21,2028           Europe   \n",
       "34892             Mrs. Joan Bond    July 10,2012           Europe   \n",
       "34893          Miss Joanne Ogden     May 31,2022           Europe   \n",
       "34894          Miss Carol Newman    March 8,2013           Africa   \n",
       "34895       Miss Gabrielle Smith   August 9,2008           Europe   \n",
       "\n",
       "           Marital Status    Lives with  Base Area  \\\n",
       "CITIZEN_ID                                           \n",
       "34886             Married          Wife  Northbury   \n",
       "34887              Single  Other Family  Northbury   \n",
       "34888            Divorced  Other Family  Northbury   \n",
       "34889             Married          Wife  Northbury   \n",
       "34890             Married          Wife    Watford   \n",
       "34891              Single  Other Family  Northbury   \n",
       "34892             Married       Husband  Northbury   \n",
       "34893              Single  Other Family  Northbury   \n",
       "34894              Single  Other Family  Northbury   \n",
       "34895              Single         Alone  Northbury   \n",
       "\n",
       "                                 Education Level  Years of Education  \\\n",
       "CITIZEN_ID                                                             \n",
       "34886                 Bachelors + PostGraduation                  16   \n",
       "34887                 Bachelors + PostGraduation                  16   \n",
       "34888       Professional School + PostGraduation                  13   \n",
       "34889                        Professional School                  12   \n",
       "34890                                  Bachelors                  15   \n",
       "34891                        Professional School                  12   \n",
       "34892                                    Masters                  17   \n",
       "34893                 Bachelors + PostGraduation                  16   \n",
       "34894               High School + PostGraduation                  13   \n",
       "34895                 Bachelors + PostGraduation                  16   \n",
       "\n",
       "                     Employment Sector                            Role  \\\n",
       "CITIZEN_ID                                                               \n",
       "34886       Private Sector - Services                            Sales   \n",
       "34887       Private Sector - Services                        Professor   \n",
       "34888       Private Sector - Services                       Management   \n",
       "34889       Private Sector - Services                        Professor   \n",
       "34890           Public Sector - Others                       Professor   \n",
       "34891       Private Sector - Services   Machine Operators & Inspectors   \n",
       "34892       Private Sector - Services                        Professor   \n",
       "34893       Private Sector - Services                       Management   \n",
       "34894       Private Sector - Services   Machine Operators & Inspectors   \n",
       "34895           Public Sector - Others                       Professor   \n",
       "\n",
       "            Working Hours per week  Money Received  Ticket Price  \n",
       "CITIZEN_ID                                                        \n",
       "34886                           40               0             0  \n",
       "34887                           36               0             0  \n",
       "34888                           50           12940             0  \n",
       "34889                           48               0          1827  \n",
       "34890                           45               0             0  \n",
       "34891                           40               0             0  \n",
       "34892                           44               0          2432  \n",
       "34893                           50               0             0  \n",
       "34894                           30               0             0  \n",
       "34895                           45               0             0  "
      ]
     },
     "execution_count": 134,
     "metadata": {},
     "output_type": "execute_result"
    }
   ],
   "source": [
    "test.set_index('CITIZEN_ID', inplace = True)\n",
    "test.head(10)"
   ]
  },
  {
   "cell_type": "code",
   "execution_count": 135,
   "id": "b2a44bc2",
   "metadata": {},
   "outputs": [
    {
     "data": {
      "text/plain": [
       "Private Sector    8039\n",
       "Self-Employed     1121\n",
       "Public Sector      938\n",
       "Unemployed           2\n",
       "Name: Employment Sector, dtype: int64"
      ]
     },
     "execution_count": 135,
     "metadata": {},
     "output_type": "execute_result"
    }
   ],
   "source": [
    "test['Employment Sector'] = test['Employment Sector'].replace('?', test['Employment Sector'].value_counts().idxmax())\n",
    "test['Employment Sector'] = test['Employment Sector'].replace(['Private Sector - Services ', 'Private Sector - Others'], ['Private Sector','Private Sector'])\n",
    "test['Employment Sector'] = test['Employment Sector'].replace(['Private Sector - Services ', 'Private Sector - Others'], ['Private Sector','Private Sector'])\n",
    "test['Employment Sector'] = test['Employment Sector'].replace(['Public Sector - Others', 'Public Sector - Government'], ['Public Sector','Public Sector'])\n",
    "test['Employment Sector'] = test['Employment Sector'].replace(['Self-Employed (Individual)', 'Self-Employed (Company)'], ['Self-Employed','Self-Employed'])\n",
    "test['Employment Sector'] = test['Employment Sector'].replace(['Unemployed', 'Never Worked'], ['Unemployed', 'Unemployed'])\n",
    "\n",
    "test['Employment Sector'].value_counts()"
   ]
  },
  {
   "cell_type": "code",
   "execution_count": 136,
   "id": "c4dcd0d1",
   "metadata": {},
   "outputs": [
    {
     "data": {
      "text/plain": [
       "Europe     8651\n",
       "Africa      930\n",
       "Asia        340\n",
       "America      92\n",
       "Oceania      87\n",
       "Name: Native Continent, dtype: int64"
      ]
     },
     "execution_count": 136,
     "metadata": {},
     "output_type": "execute_result"
    }
   ],
   "source": [
    "test['Base Area'] = test['Base Area'].replace('?', test['Base Area'].value_counts().idxmax())\n",
    "\n",
    "test['Base Area'].value_counts()\n",
    "test['Native Continent'].value_counts()"
   ]
  },
  {
   "cell_type": "code",
   "execution_count": 137,
   "id": "855bebcf",
   "metadata": {},
   "outputs": [
    {
     "data": {
      "text/plain": [
       "Superior Education       5518\n",
       "High School Education    4040\n",
       "Basic Education           542\n",
       "Name: Education Level, dtype: int64"
      ]
     },
     "execution_count": 137,
     "metadata": {},
     "output_type": "execute_result"
    }
   ],
   "source": [
    "test.replace(['Middle School - 2nd Cycle', 'Middle School Complete', 'Middle School - 1st Cycle', 'Primary School', 'Preschool'], ['Basic Education']*5, inplace = True)\n",
    "test.replace(['Professional School', 'High School - 2nd Cycle','High School - 1st Cycle','High School Complete'], ['High School Education']*4, inplace = True)\n",
    "test.replace(['High School + PostGraduation', 'Bachelors + PostGraduation','Masters','Professional School + PostGraduation', 'Bachelors', 'Masters + PostGraduation', 'PhD'], ['Superior Education']*7, inplace = True)\n",
    "\n",
    "test['Education Level'].value_counts()"
   ]
  },
  {
   "cell_type": "code",
   "execution_count": 138,
   "id": "ae2651e3",
   "metadata": {},
   "outputs": [
    {
     "data": {
      "text/plain": [
       "Repair & constructions            1292\n",
       "Professor                         1288\n",
       "Management                        1257\n",
       "Administratives                   1160\n",
       "Sales                             1110\n",
       "Other services                    1001\n",
       "Machine Operators & Inspectors     616\n",
       "Unknown                            570\n",
       "Transports                         523\n",
       "Cleaners & Handlers                446\n",
       "IT                                 299\n",
       "Agriculture and Fishing            290\n",
       "Security                           197\n",
       "Household Services                  47\n",
       "Army                                 4\n",
       "Name: Role, dtype: int64"
      ]
     },
     "execution_count": 138,
     "metadata": {},
     "output_type": "execute_result"
    }
   ],
   "source": [
    "test['Role'] = test['Role'].replace('?', 'Unknown')\n",
    "\n",
    "test['Role'].value_counts()"
   ]
  },
  {
   "cell_type": "code",
   "execution_count": 139,
   "id": "8e24cefb",
   "metadata": {},
   "outputs": [
    {
     "data": {
      "text/plain": [
       "Married      4872\n",
       "Single       3249\n",
       "Divorced     1359\n",
       "Separated     325\n",
       "Widow         295\n",
       "Name: Marital Status, dtype: int64"
      ]
     },
     "execution_count": 139,
     "metadata": {},
     "output_type": "execute_result"
    }
   ],
   "source": [
    "test['Marital Status'] = test['Marital Status'].replace(['Married - Spouse in the Army', 'Married - Spouse Missing'], ['Married','Married'])\n",
    "\n",
    "test['Marital Status'].value_counts()"
   ]
  },
  {
   "cell_type": "code",
   "execution_count": 140,
   "id": "255d5a6d",
   "metadata": {},
   "outputs": [
    {
     "data": {
      "text/plain": [
       "Partner     4674\n",
       "Family      2809\n",
       "Children    1540\n",
       "Alone       1077\n",
       "Name: Lives with, dtype: int64"
      ]
     },
     "execution_count": 140,
     "metadata": {},
     "output_type": "execute_result"
    }
   ],
   "source": [
    "test['Lives with'] = test['Lives with'].replace(['Wife', 'Husband'], ['Partner','Partner'])\n",
    "test['Lives with'] = test['Lives with'].replace(['Other Family', 'Other relatives'], ['Family','Family'])\n",
    "\n",
    "test['Lives with'].value_counts()"
   ]
  },
  {
   "cell_type": "code",
   "execution_count": 141,
   "id": "2bde123a",
   "metadata": {},
   "outputs": [],
   "source": [
    "test.loc[test['Working Hours per week'] < 7,'Working Hours per week'] = np.nan\n",
    "test.loc[test['Working Hours per week'] > 80,'Working Hours per week'] = np.nan\n",
    "test.loc[test['Years of Education'] < 5,'Years of Education'] = np.nan"
   ]
  },
  {
   "cell_type": "code",
   "execution_count": 142,
   "id": "4a0dadc7",
   "metadata": {},
   "outputs": [
    {
     "data": {
      "text/plain": [
       "Name                      0\n",
       "Birthday                  0\n",
       "Native Continent          0\n",
       "Marital Status            0\n",
       "Lives with                0\n",
       "Base Area                 0\n",
       "Education Level           0\n",
       "Years of Education        0\n",
       "Employment Sector         0\n",
       "Role                      0\n",
       "Working Hours per week    0\n",
       "Money Received            0\n",
       "Ticket Price              0\n",
       "dtype: int64"
      ]
     },
     "execution_count": 142,
     "metadata": {},
     "output_type": "execute_result"
    }
   ],
   "source": [
    "from sklearn.impute import KNNImputer\n",
    "train_knn = test.copy(deep=True)\n",
    "\n",
    "knn_imputer = KNNImputer(n_neighbors=2, weights=\"uniform\")\n",
    "train_knn['Years of Education'] = knn_imputer.fit_transform(train_knn[['Years of Education']])\n",
    "train_knn['Working Hours per week'] = knn_imputer.fit_transform(train_knn[['Working Hours per week']])\n",
    "train_knn.isnull().sum()"
   ]
  },
  {
   "cell_type": "code",
   "execution_count": 143,
   "id": "cea5f3a1",
   "metadata": {},
   "outputs": [],
   "source": [
    "test = train_knn"
   ]
  },
  {
   "cell_type": "code",
   "execution_count": 144,
   "id": "040684a4",
   "metadata": {},
   "outputs": [
    {
     "data": {
      "text/html": [
       "<div>\n",
       "<style scoped>\n",
       "    .dataframe tbody tr th:only-of-type {\n",
       "        vertical-align: middle;\n",
       "    }\n",
       "\n",
       "    .dataframe tbody tr th {\n",
       "        vertical-align: top;\n",
       "    }\n",
       "\n",
       "    .dataframe thead th {\n",
       "        text-align: right;\n",
       "    }\n",
       "</style>\n",
       "<table border=\"1\" class=\"dataframe\">\n",
       "  <thead>\n",
       "    <tr style=\"text-align: right;\">\n",
       "      <th></th>\n",
       "      <th>Years of Education</th>\n",
       "      <th>Working Hours per week</th>\n",
       "      <th>Money Received</th>\n",
       "      <th>Ticket Price</th>\n",
       "      <th>Age</th>\n",
       "    </tr>\n",
       "    <tr>\n",
       "      <th>CITIZEN_ID</th>\n",
       "      <th></th>\n",
       "      <th></th>\n",
       "      <th></th>\n",
       "      <th></th>\n",
       "      <th></th>\n",
       "    </tr>\n",
       "  </thead>\n",
       "  <tbody>\n",
       "    <tr>\n",
       "      <th>34886</th>\n",
       "      <td>16.0</td>\n",
       "      <td>40.0</td>\n",
       "      <td>0</td>\n",
       "      <td>0</td>\n",
       "      <td>36</td>\n",
       "    </tr>\n",
       "    <tr>\n",
       "      <th>34887</th>\n",
       "      <td>16.0</td>\n",
       "      <td>36.0</td>\n",
       "      <td>0</td>\n",
       "      <td>0</td>\n",
       "      <td>34</td>\n",
       "    </tr>\n",
       "    <tr>\n",
       "      <th>34888</th>\n",
       "      <td>13.0</td>\n",
       "      <td>50.0</td>\n",
       "      <td>12940</td>\n",
       "      <td>0</td>\n",
       "      <td>28</td>\n",
       "    </tr>\n",
       "    <tr>\n",
       "      <th>34889</th>\n",
       "      <td>12.0</td>\n",
       "      <td>48.0</td>\n",
       "      <td>0</td>\n",
       "      <td>1827</td>\n",
       "      <td>32</td>\n",
       "    </tr>\n",
       "    <tr>\n",
       "      <th>34890</th>\n",
       "      <td>15.0</td>\n",
       "      <td>45.0</td>\n",
       "      <td>0</td>\n",
       "      <td>0</td>\n",
       "      <td>37</td>\n",
       "    </tr>\n",
       "    <tr>\n",
       "      <th>...</th>\n",
       "      <td>...</td>\n",
       "      <td>...</td>\n",
       "      <td>...</td>\n",
       "      <td>...</td>\n",
       "      <td>...</td>\n",
       "    </tr>\n",
       "    <tr>\n",
       "      <th>44981</th>\n",
       "      <td>17.0</td>\n",
       "      <td>60.0</td>\n",
       "      <td>0</td>\n",
       "      <td>2432</td>\n",
       "      <td>36</td>\n",
       "    </tr>\n",
       "    <tr>\n",
       "      <th>44982</th>\n",
       "      <td>17.0</td>\n",
       "      <td>50.0</td>\n",
       "      <td>122999</td>\n",
       "      <td>0</td>\n",
       "      <td>48</td>\n",
       "    </tr>\n",
       "    <tr>\n",
       "      <th>44983</th>\n",
       "      <td>13.0</td>\n",
       "      <td>15.0</td>\n",
       "      <td>0</td>\n",
       "      <td>0</td>\n",
       "      <td>26</td>\n",
       "    </tr>\n",
       "    <tr>\n",
       "      <th>44984</th>\n",
       "      <td>16.0</td>\n",
       "      <td>40.0</td>\n",
       "      <td>0</td>\n",
       "      <td>0</td>\n",
       "      <td>24</td>\n",
       "    </tr>\n",
       "    <tr>\n",
       "      <th>44985</th>\n",
       "      <td>8.0</td>\n",
       "      <td>50.0</td>\n",
       "      <td>0</td>\n",
       "      <td>0</td>\n",
       "      <td>55</td>\n",
       "    </tr>\n",
       "  </tbody>\n",
       "</table>\n",
       "<p>10100 rows × 5 columns</p>\n",
       "</div>"
      ],
      "text/plain": [
       "            Years of Education  Working Hours per week  Money Received  \\\n",
       "CITIZEN_ID                                                               \n",
       "34886                     16.0                    40.0               0   \n",
       "34887                     16.0                    36.0               0   \n",
       "34888                     13.0                    50.0           12940   \n",
       "34889                     12.0                    48.0               0   \n",
       "34890                     15.0                    45.0               0   \n",
       "...                        ...                     ...             ...   \n",
       "44981                     17.0                    60.0               0   \n",
       "44982                     17.0                    50.0          122999   \n",
       "44983                     13.0                    15.0               0   \n",
       "44984                     16.0                    40.0               0   \n",
       "44985                      8.0                    50.0               0   \n",
       "\n",
       "            Ticket Price  Age  \n",
       "CITIZEN_ID                     \n",
       "34886                  0   36  \n",
       "34887                  0   34  \n",
       "34888                  0   28  \n",
       "34889               1827   32  \n",
       "34890                  0   37  \n",
       "...                  ...  ...  \n",
       "44981               2432   36  \n",
       "44982                  0   48  \n",
       "44983                  0   26  \n",
       "44984                  0   24  \n",
       "44985                  0   55  \n",
       "\n",
       "[10100 rows x 5 columns]"
      ]
     },
     "execution_count": 144,
     "metadata": {},
     "output_type": "execute_result"
    }
   ],
   "source": [
    "numerical_df = test[['Years of Education','Working Hours per week','Money Received','Ticket Price']]\n",
    "categorical_df = test[['Name','Birthday','Native Continent','Marital Status','Lives with','Base Area', 'Education Level', 'Employment Sector',\n",
    "                          'Role']]\n",
    "# criar variável age\n",
    "test['Age'] = 2048 - test['Birthday'].apply(lambda x: int(str(x).split(\",\")[1])) \n",
    "test = test.drop(\"Birthday\", axis=1)\n",
    "\n",
    "# adicionar a variável age ao dataframe de variáveis numéricas\n",
    "numerical_df.assign(Age = test['Age'])"
   ]
  },
  {
   "cell_type": "code",
   "execution_count": 145,
   "id": "2575f894",
   "metadata": {},
   "outputs": [],
   "source": [
    "# criar variável gender\n",
    "\n",
    "test['Gender'] = test.Name.apply(lambda x: x.split(' ')[0].strip())\n",
    "test['Gender'].replace(['Miss', 'Mrs.', 'Mr.'], ['F','F','M'],inplace=True)\n",
    "test = test.drop(\"Name\", axis=1)"
   ]
  },
  {
   "cell_type": "code",
   "execution_count": 146,
   "id": "93605750",
   "metadata": {},
   "outputs": [
    {
     "data": {
      "text/html": [
       "<div>\n",
       "<style scoped>\n",
       "    .dataframe tbody tr th:only-of-type {\n",
       "        vertical-align: middle;\n",
       "    }\n",
       "\n",
       "    .dataframe tbody tr th {\n",
       "        vertical-align: top;\n",
       "    }\n",
       "\n",
       "    .dataframe thead th {\n",
       "        text-align: right;\n",
       "    }\n",
       "</style>\n",
       "<table border=\"1\" class=\"dataframe\">\n",
       "  <thead>\n",
       "    <tr style=\"text-align: right;\">\n",
       "      <th></th>\n",
       "      <th>Years of Education</th>\n",
       "      <th>Working Hours per week</th>\n",
       "      <th>Money Received</th>\n",
       "      <th>Ticket Price</th>\n",
       "      <th>Age</th>\n",
       "      <th>Native Continent_America</th>\n",
       "      <th>Native Continent_Asia</th>\n",
       "      <th>Native Continent_Europe</th>\n",
       "      <th>Native Continent_Oceania</th>\n",
       "      <th>Marital Status_Married</th>\n",
       "      <th>...</th>\n",
       "      <th>Role_Machine Operators &amp; Inspectors</th>\n",
       "      <th>Role_Management</th>\n",
       "      <th>Role_Other services</th>\n",
       "      <th>Role_Professor</th>\n",
       "      <th>Role_Repair &amp; constructions</th>\n",
       "      <th>Role_Sales</th>\n",
       "      <th>Role_Security</th>\n",
       "      <th>Role_Transports</th>\n",
       "      <th>Role_Unknown</th>\n",
       "      <th>Gender_M</th>\n",
       "    </tr>\n",
       "    <tr>\n",
       "      <th>CITIZEN_ID</th>\n",
       "      <th></th>\n",
       "      <th></th>\n",
       "      <th></th>\n",
       "      <th></th>\n",
       "      <th></th>\n",
       "      <th></th>\n",
       "      <th></th>\n",
       "      <th></th>\n",
       "      <th></th>\n",
       "      <th></th>\n",
       "      <th></th>\n",
       "      <th></th>\n",
       "      <th></th>\n",
       "      <th></th>\n",
       "      <th></th>\n",
       "      <th></th>\n",
       "      <th></th>\n",
       "      <th></th>\n",
       "      <th></th>\n",
       "      <th></th>\n",
       "      <th></th>\n",
       "    </tr>\n",
       "  </thead>\n",
       "  <tbody>\n",
       "    <tr>\n",
       "      <th>34886</th>\n",
       "      <td>16.0</td>\n",
       "      <td>40.0</td>\n",
       "      <td>0</td>\n",
       "      <td>0</td>\n",
       "      <td>36</td>\n",
       "      <td>0</td>\n",
       "      <td>0</td>\n",
       "      <td>1</td>\n",
       "      <td>0</td>\n",
       "      <td>1</td>\n",
       "      <td>...</td>\n",
       "      <td>0</td>\n",
       "      <td>0</td>\n",
       "      <td>0</td>\n",
       "      <td>0</td>\n",
       "      <td>0</td>\n",
       "      <td>1</td>\n",
       "      <td>0</td>\n",
       "      <td>0</td>\n",
       "      <td>0</td>\n",
       "      <td>1</td>\n",
       "    </tr>\n",
       "    <tr>\n",
       "      <th>34887</th>\n",
       "      <td>16.0</td>\n",
       "      <td>36.0</td>\n",
       "      <td>0</td>\n",
       "      <td>0</td>\n",
       "      <td>34</td>\n",
       "      <td>0</td>\n",
       "      <td>0</td>\n",
       "      <td>1</td>\n",
       "      <td>0</td>\n",
       "      <td>0</td>\n",
       "      <td>...</td>\n",
       "      <td>0</td>\n",
       "      <td>0</td>\n",
       "      <td>0</td>\n",
       "      <td>1</td>\n",
       "      <td>0</td>\n",
       "      <td>0</td>\n",
       "      <td>0</td>\n",
       "      <td>0</td>\n",
       "      <td>0</td>\n",
       "      <td>0</td>\n",
       "    </tr>\n",
       "    <tr>\n",
       "      <th>34888</th>\n",
       "      <td>13.0</td>\n",
       "      <td>50.0</td>\n",
       "      <td>12940</td>\n",
       "      <td>0</td>\n",
       "      <td>28</td>\n",
       "      <td>0</td>\n",
       "      <td>0</td>\n",
       "      <td>1</td>\n",
       "      <td>0</td>\n",
       "      <td>0</td>\n",
       "      <td>...</td>\n",
       "      <td>0</td>\n",
       "      <td>1</td>\n",
       "      <td>0</td>\n",
       "      <td>0</td>\n",
       "      <td>0</td>\n",
       "      <td>0</td>\n",
       "      <td>0</td>\n",
       "      <td>0</td>\n",
       "      <td>0</td>\n",
       "      <td>1</td>\n",
       "    </tr>\n",
       "    <tr>\n",
       "      <th>34889</th>\n",
       "      <td>12.0</td>\n",
       "      <td>48.0</td>\n",
       "      <td>0</td>\n",
       "      <td>1827</td>\n",
       "      <td>32</td>\n",
       "      <td>0</td>\n",
       "      <td>0</td>\n",
       "      <td>1</td>\n",
       "      <td>0</td>\n",
       "      <td>1</td>\n",
       "      <td>...</td>\n",
       "      <td>0</td>\n",
       "      <td>0</td>\n",
       "      <td>0</td>\n",
       "      <td>1</td>\n",
       "      <td>0</td>\n",
       "      <td>0</td>\n",
       "      <td>0</td>\n",
       "      <td>0</td>\n",
       "      <td>0</td>\n",
       "      <td>1</td>\n",
       "    </tr>\n",
       "    <tr>\n",
       "      <th>34890</th>\n",
       "      <td>15.0</td>\n",
       "      <td>45.0</td>\n",
       "      <td>0</td>\n",
       "      <td>0</td>\n",
       "      <td>37</td>\n",
       "      <td>0</td>\n",
       "      <td>0</td>\n",
       "      <td>1</td>\n",
       "      <td>0</td>\n",
       "      <td>1</td>\n",
       "      <td>...</td>\n",
       "      <td>0</td>\n",
       "      <td>0</td>\n",
       "      <td>0</td>\n",
       "      <td>1</td>\n",
       "      <td>0</td>\n",
       "      <td>0</td>\n",
       "      <td>0</td>\n",
       "      <td>0</td>\n",
       "      <td>0</td>\n",
       "      <td>1</td>\n",
       "    </tr>\n",
       "    <tr>\n",
       "      <th>34891</th>\n",
       "      <td>12.0</td>\n",
       "      <td>40.0</td>\n",
       "      <td>0</td>\n",
       "      <td>0</td>\n",
       "      <td>20</td>\n",
       "      <td>0</td>\n",
       "      <td>0</td>\n",
       "      <td>1</td>\n",
       "      <td>0</td>\n",
       "      <td>0</td>\n",
       "      <td>...</td>\n",
       "      <td>1</td>\n",
       "      <td>0</td>\n",
       "      <td>0</td>\n",
       "      <td>0</td>\n",
       "      <td>0</td>\n",
       "      <td>0</td>\n",
       "      <td>0</td>\n",
       "      <td>0</td>\n",
       "      <td>0</td>\n",
       "      <td>1</td>\n",
       "    </tr>\n",
       "    <tr>\n",
       "      <th>34892</th>\n",
       "      <td>17.0</td>\n",
       "      <td>44.0</td>\n",
       "      <td>0</td>\n",
       "      <td>2432</td>\n",
       "      <td>36</td>\n",
       "      <td>0</td>\n",
       "      <td>0</td>\n",
       "      <td>1</td>\n",
       "      <td>0</td>\n",
       "      <td>1</td>\n",
       "      <td>...</td>\n",
       "      <td>0</td>\n",
       "      <td>0</td>\n",
       "      <td>0</td>\n",
       "      <td>1</td>\n",
       "      <td>0</td>\n",
       "      <td>0</td>\n",
       "      <td>0</td>\n",
       "      <td>0</td>\n",
       "      <td>0</td>\n",
       "      <td>0</td>\n",
       "    </tr>\n",
       "    <tr>\n",
       "      <th>34893</th>\n",
       "      <td>16.0</td>\n",
       "      <td>50.0</td>\n",
       "      <td>0</td>\n",
       "      <td>0</td>\n",
       "      <td>26</td>\n",
       "      <td>0</td>\n",
       "      <td>0</td>\n",
       "      <td>1</td>\n",
       "      <td>0</td>\n",
       "      <td>0</td>\n",
       "      <td>...</td>\n",
       "      <td>0</td>\n",
       "      <td>1</td>\n",
       "      <td>0</td>\n",
       "      <td>0</td>\n",
       "      <td>0</td>\n",
       "      <td>0</td>\n",
       "      <td>0</td>\n",
       "      <td>0</td>\n",
       "      <td>0</td>\n",
       "      <td>0</td>\n",
       "    </tr>\n",
       "    <tr>\n",
       "      <th>34894</th>\n",
       "      <td>13.0</td>\n",
       "      <td>30.0</td>\n",
       "      <td>0</td>\n",
       "      <td>0</td>\n",
       "      <td>35</td>\n",
       "      <td>0</td>\n",
       "      <td>0</td>\n",
       "      <td>0</td>\n",
       "      <td>0</td>\n",
       "      <td>0</td>\n",
       "      <td>...</td>\n",
       "      <td>1</td>\n",
       "      <td>0</td>\n",
       "      <td>0</td>\n",
       "      <td>0</td>\n",
       "      <td>0</td>\n",
       "      <td>0</td>\n",
       "      <td>0</td>\n",
       "      <td>0</td>\n",
       "      <td>0</td>\n",
       "      <td>0</td>\n",
       "    </tr>\n",
       "  </tbody>\n",
       "</table>\n",
       "<p>9 rows × 72 columns</p>\n",
       "</div>"
      ],
      "text/plain": [
       "            Years of Education  Working Hours per week  Money Received  \\\n",
       "CITIZEN_ID                                                               \n",
       "34886                     16.0                    40.0               0   \n",
       "34887                     16.0                    36.0               0   \n",
       "34888                     13.0                    50.0           12940   \n",
       "34889                     12.0                    48.0               0   \n",
       "34890                     15.0                    45.0               0   \n",
       "34891                     12.0                    40.0               0   \n",
       "34892                     17.0                    44.0               0   \n",
       "34893                     16.0                    50.0               0   \n",
       "34894                     13.0                    30.0               0   \n",
       "\n",
       "            Ticket Price  Age  Native Continent_America  \\\n",
       "CITIZEN_ID                                                \n",
       "34886                  0   36                         0   \n",
       "34887                  0   34                         0   \n",
       "34888                  0   28                         0   \n",
       "34889               1827   32                         0   \n",
       "34890                  0   37                         0   \n",
       "34891                  0   20                         0   \n",
       "34892               2432   36                         0   \n",
       "34893                  0   26                         0   \n",
       "34894                  0   35                         0   \n",
       "\n",
       "            Native Continent_Asia  Native Continent_Europe  \\\n",
       "CITIZEN_ID                                                   \n",
       "34886                           0                        1   \n",
       "34887                           0                        1   \n",
       "34888                           0                        1   \n",
       "34889                           0                        1   \n",
       "34890                           0                        1   \n",
       "34891                           0                        1   \n",
       "34892                           0                        1   \n",
       "34893                           0                        1   \n",
       "34894                           0                        0   \n",
       "\n",
       "            Native Continent_Oceania  Marital Status_Married  ...  \\\n",
       "CITIZEN_ID                                                    ...   \n",
       "34886                              0                       1  ...   \n",
       "34887                              0                       0  ...   \n",
       "34888                              0                       0  ...   \n",
       "34889                              0                       1  ...   \n",
       "34890                              0                       1  ...   \n",
       "34891                              0                       0  ...   \n",
       "34892                              0                       1  ...   \n",
       "34893                              0                       0  ...   \n",
       "34894                              0                       0  ...   \n",
       "\n",
       "            Role_Machine Operators & Inspectors  Role_Management  \\\n",
       "CITIZEN_ID                                                         \n",
       "34886                                         0                0   \n",
       "34887                                         0                0   \n",
       "34888                                         0                1   \n",
       "34889                                         0                0   \n",
       "34890                                         0                0   \n",
       "34891                                         1                0   \n",
       "34892                                         0                0   \n",
       "34893                                         0                1   \n",
       "34894                                         1                0   \n",
       "\n",
       "            Role_Other services  Role_Professor  Role_Repair & constructions  \\\n",
       "CITIZEN_ID                                                                     \n",
       "34886                         0               0                            0   \n",
       "34887                         0               1                            0   \n",
       "34888                         0               0                            0   \n",
       "34889                         0               1                            0   \n",
       "34890                         0               1                            0   \n",
       "34891                         0               0                            0   \n",
       "34892                         0               1                            0   \n",
       "34893                         0               0                            0   \n",
       "34894                         0               0                            0   \n",
       "\n",
       "            Role_Sales  Role_Security  Role_Transports  Role_Unknown  Gender_M  \n",
       "CITIZEN_ID                                                                      \n",
       "34886                1              0                0             0         1  \n",
       "34887                0              0                0             0         0  \n",
       "34888                0              0                0             0         1  \n",
       "34889                0              0                0             0         1  \n",
       "34890                0              0                0             0         1  \n",
       "34891                0              0                0             0         1  \n",
       "34892                0              0                0             0         0  \n",
       "34893                0              0                0             0         0  \n",
       "34894                0              0                0             0         0  \n",
       "\n",
       "[9 rows x 72 columns]"
      ]
     },
     "execution_count": 146,
     "metadata": {},
     "output_type": "execute_result"
    }
   ],
   "source": [
    "dummy_t = pd.get_dummies(test, drop_first = True)\n",
    "dummy_t.head(9)"
   ]
  },
  {
   "cell_type": "code",
   "execution_count": 147,
   "id": "b91d9cb5",
   "metadata": {},
   "outputs": [],
   "source": [
    "dummy_t['Base Area_Ironforge'] = 0\n",
    "dummy_t['Base Area_Carlisle'] = 0"
   ]
  },
  {
   "cell_type": "code",
   "execution_count": 148,
   "id": "e984fb9e",
   "metadata": {},
   "outputs": [],
   "source": [
    "from sklearn.preprocessing import MinMaxScaler\n",
    "\n",
    "finalData = dummy_t.copy()\n",
    "\n",
    "minmax_scaler = MinMaxScaler()"
   ]
  },
  {
   "cell_type": "code",
   "execution_count": 149,
   "id": "71971e3a",
   "metadata": {},
   "outputs": [],
   "source": [
    "scale = minmax_scaler.fit(finalData)"
   ]
  },
  {
   "cell_type": "code",
   "execution_count": 150,
   "id": "ca65ec25",
   "metadata": {},
   "outputs": [],
   "source": [
    "minmax_data_t = scale.transform(finalData)"
   ]
  },
  {
   "cell_type": "code",
   "execution_count": 151,
   "id": "abcbabe8",
   "metadata": {},
   "outputs": [
    {
     "data": {
      "text/html": [
       "<div>\n",
       "<style scoped>\n",
       "    .dataframe tbody tr th:only-of-type {\n",
       "        vertical-align: middle;\n",
       "    }\n",
       "\n",
       "    .dataframe tbody tr th {\n",
       "        vertical-align: top;\n",
       "    }\n",
       "\n",
       "    .dataframe thead th {\n",
       "        text-align: right;\n",
       "    }\n",
       "</style>\n",
       "<table border=\"1\" class=\"dataframe\">\n",
       "  <thead>\n",
       "    <tr style=\"text-align: right;\">\n",
       "      <th></th>\n",
       "      <th>Years of Education</th>\n",
       "      <th>Working Hours per week</th>\n",
       "      <th>Money Received</th>\n",
       "      <th>Ticket Price</th>\n",
       "      <th>Age</th>\n",
       "      <th>Native Continent_America</th>\n",
       "      <th>Native Continent_Asia</th>\n",
       "      <th>Native Continent_Europe</th>\n",
       "      <th>Native Continent_Oceania</th>\n",
       "      <th>Marital Status_Married</th>\n",
       "      <th>...</th>\n",
       "      <th>Role_Other services</th>\n",
       "      <th>Role_Professor</th>\n",
       "      <th>Role_Repair &amp; constructions</th>\n",
       "      <th>Role_Sales</th>\n",
       "      <th>Role_Security</th>\n",
       "      <th>Role_Transports</th>\n",
       "      <th>Role_Unknown</th>\n",
       "      <th>Gender_M</th>\n",
       "      <th>Base Area_Ironforge</th>\n",
       "      <th>Base Area_Carlisle</th>\n",
       "    </tr>\n",
       "    <tr>\n",
       "      <th>CITIZEN_ID</th>\n",
       "      <th></th>\n",
       "      <th></th>\n",
       "      <th></th>\n",
       "      <th></th>\n",
       "      <th></th>\n",
       "      <th></th>\n",
       "      <th></th>\n",
       "      <th></th>\n",
       "      <th></th>\n",
       "      <th></th>\n",
       "      <th></th>\n",
       "      <th></th>\n",
       "      <th></th>\n",
       "      <th></th>\n",
       "      <th></th>\n",
       "      <th></th>\n",
       "      <th></th>\n",
       "      <th></th>\n",
       "      <th></th>\n",
       "      <th></th>\n",
       "      <th></th>\n",
       "    </tr>\n",
       "  </thead>\n",
       "  <tbody>\n",
       "    <tr>\n",
       "      <th>34886</th>\n",
       "      <td>0.666667</td>\n",
       "      <td>0.452055</td>\n",
       "      <td>0.000000</td>\n",
       "      <td>0.000000</td>\n",
       "      <td>0.260274</td>\n",
       "      <td>0.0</td>\n",
       "      <td>0.0</td>\n",
       "      <td>1.0</td>\n",
       "      <td>0.0</td>\n",
       "      <td>1.0</td>\n",
       "      <td>...</td>\n",
       "      <td>0.0</td>\n",
       "      <td>0.0</td>\n",
       "      <td>0.0</td>\n",
       "      <td>1.0</td>\n",
       "      <td>0.0</td>\n",
       "      <td>0.0</td>\n",
       "      <td>0.0</td>\n",
       "      <td>1.0</td>\n",
       "      <td>0.0</td>\n",
       "      <td>0.0</td>\n",
       "    </tr>\n",
       "    <tr>\n",
       "      <th>34887</th>\n",
       "      <td>0.666667</td>\n",
       "      <td>0.397260</td>\n",
       "      <td>0.000000</td>\n",
       "      <td>0.000000</td>\n",
       "      <td>0.232877</td>\n",
       "      <td>0.0</td>\n",
       "      <td>0.0</td>\n",
       "      <td>1.0</td>\n",
       "      <td>0.0</td>\n",
       "      <td>0.0</td>\n",
       "      <td>...</td>\n",
       "      <td>0.0</td>\n",
       "      <td>1.0</td>\n",
       "      <td>0.0</td>\n",
       "      <td>0.0</td>\n",
       "      <td>0.0</td>\n",
       "      <td>0.0</td>\n",
       "      <td>0.0</td>\n",
       "      <td>0.0</td>\n",
       "      <td>0.0</td>\n",
       "      <td>0.0</td>\n",
       "    </tr>\n",
       "    <tr>\n",
       "      <th>34888</th>\n",
       "      <td>0.466667</td>\n",
       "      <td>0.589041</td>\n",
       "      <td>0.105204</td>\n",
       "      <td>0.000000</td>\n",
       "      <td>0.150685</td>\n",
       "      <td>0.0</td>\n",
       "      <td>0.0</td>\n",
       "      <td>1.0</td>\n",
       "      <td>0.0</td>\n",
       "      <td>0.0</td>\n",
       "      <td>...</td>\n",
       "      <td>0.0</td>\n",
       "      <td>0.0</td>\n",
       "      <td>0.0</td>\n",
       "      <td>0.0</td>\n",
       "      <td>0.0</td>\n",
       "      <td>0.0</td>\n",
       "      <td>0.0</td>\n",
       "      <td>1.0</td>\n",
       "      <td>0.0</td>\n",
       "      <td>0.0</td>\n",
       "    </tr>\n",
       "    <tr>\n",
       "      <th>34889</th>\n",
       "      <td>0.400000</td>\n",
       "      <td>0.561644</td>\n",
       "      <td>0.000000</td>\n",
       "      <td>0.340985</td>\n",
       "      <td>0.205479</td>\n",
       "      <td>0.0</td>\n",
       "      <td>0.0</td>\n",
       "      <td>1.0</td>\n",
       "      <td>0.0</td>\n",
       "      <td>1.0</td>\n",
       "      <td>...</td>\n",
       "      <td>0.0</td>\n",
       "      <td>1.0</td>\n",
       "      <td>0.0</td>\n",
       "      <td>0.0</td>\n",
       "      <td>0.0</td>\n",
       "      <td>0.0</td>\n",
       "      <td>0.0</td>\n",
       "      <td>1.0</td>\n",
       "      <td>0.0</td>\n",
       "      <td>0.0</td>\n",
       "    </tr>\n",
       "    <tr>\n",
       "      <th>34890</th>\n",
       "      <td>0.600000</td>\n",
       "      <td>0.520548</td>\n",
       "      <td>0.000000</td>\n",
       "      <td>0.000000</td>\n",
       "      <td>0.273973</td>\n",
       "      <td>0.0</td>\n",
       "      <td>0.0</td>\n",
       "      <td>1.0</td>\n",
       "      <td>0.0</td>\n",
       "      <td>1.0</td>\n",
       "      <td>...</td>\n",
       "      <td>0.0</td>\n",
       "      <td>1.0</td>\n",
       "      <td>0.0</td>\n",
       "      <td>0.0</td>\n",
       "      <td>0.0</td>\n",
       "      <td>0.0</td>\n",
       "      <td>0.0</td>\n",
       "      <td>1.0</td>\n",
       "      <td>0.0</td>\n",
       "      <td>0.0</td>\n",
       "    </tr>\n",
       "    <tr>\n",
       "      <th>34891</th>\n",
       "      <td>0.400000</td>\n",
       "      <td>0.452055</td>\n",
       "      <td>0.000000</td>\n",
       "      <td>0.000000</td>\n",
       "      <td>0.041096</td>\n",
       "      <td>0.0</td>\n",
       "      <td>0.0</td>\n",
       "      <td>1.0</td>\n",
       "      <td>0.0</td>\n",
       "      <td>0.0</td>\n",
       "      <td>...</td>\n",
       "      <td>0.0</td>\n",
       "      <td>0.0</td>\n",
       "      <td>0.0</td>\n",
       "      <td>0.0</td>\n",
       "      <td>0.0</td>\n",
       "      <td>0.0</td>\n",
       "      <td>0.0</td>\n",
       "      <td>1.0</td>\n",
       "      <td>0.0</td>\n",
       "      <td>0.0</td>\n",
       "    </tr>\n",
       "    <tr>\n",
       "      <th>34892</th>\n",
       "      <td>0.733333</td>\n",
       "      <td>0.506849</td>\n",
       "      <td>0.000000</td>\n",
       "      <td>0.453901</td>\n",
       "      <td>0.260274</td>\n",
       "      <td>0.0</td>\n",
       "      <td>0.0</td>\n",
       "      <td>1.0</td>\n",
       "      <td>0.0</td>\n",
       "      <td>1.0</td>\n",
       "      <td>...</td>\n",
       "      <td>0.0</td>\n",
       "      <td>1.0</td>\n",
       "      <td>0.0</td>\n",
       "      <td>0.0</td>\n",
       "      <td>0.0</td>\n",
       "      <td>0.0</td>\n",
       "      <td>0.0</td>\n",
       "      <td>0.0</td>\n",
       "      <td>0.0</td>\n",
       "      <td>0.0</td>\n",
       "    </tr>\n",
       "    <tr>\n",
       "      <th>34893</th>\n",
       "      <td>0.666667</td>\n",
       "      <td>0.589041</td>\n",
       "      <td>0.000000</td>\n",
       "      <td>0.000000</td>\n",
       "      <td>0.123288</td>\n",
       "      <td>0.0</td>\n",
       "      <td>0.0</td>\n",
       "      <td>1.0</td>\n",
       "      <td>0.0</td>\n",
       "      <td>0.0</td>\n",
       "      <td>...</td>\n",
       "      <td>0.0</td>\n",
       "      <td>0.0</td>\n",
       "      <td>0.0</td>\n",
       "      <td>0.0</td>\n",
       "      <td>0.0</td>\n",
       "      <td>0.0</td>\n",
       "      <td>0.0</td>\n",
       "      <td>0.0</td>\n",
       "      <td>0.0</td>\n",
       "      <td>0.0</td>\n",
       "    </tr>\n",
       "    <tr>\n",
       "      <th>34894</th>\n",
       "      <td>0.466667</td>\n",
       "      <td>0.315068</td>\n",
       "      <td>0.000000</td>\n",
       "      <td>0.000000</td>\n",
       "      <td>0.246575</td>\n",
       "      <td>0.0</td>\n",
       "      <td>0.0</td>\n",
       "      <td>0.0</td>\n",
       "      <td>0.0</td>\n",
       "      <td>0.0</td>\n",
       "      <td>...</td>\n",
       "      <td>0.0</td>\n",
       "      <td>0.0</td>\n",
       "      <td>0.0</td>\n",
       "      <td>0.0</td>\n",
       "      <td>0.0</td>\n",
       "      <td>0.0</td>\n",
       "      <td>0.0</td>\n",
       "      <td>0.0</td>\n",
       "      <td>0.0</td>\n",
       "      <td>0.0</td>\n",
       "    </tr>\n",
       "    <tr>\n",
       "      <th>34895</th>\n",
       "      <td>0.666667</td>\n",
       "      <td>0.520548</td>\n",
       "      <td>0.000000</td>\n",
       "      <td>0.000000</td>\n",
       "      <td>0.315068</td>\n",
       "      <td>0.0</td>\n",
       "      <td>0.0</td>\n",
       "      <td>1.0</td>\n",
       "      <td>0.0</td>\n",
       "      <td>0.0</td>\n",
       "      <td>...</td>\n",
       "      <td>0.0</td>\n",
       "      <td>1.0</td>\n",
       "      <td>0.0</td>\n",
       "      <td>0.0</td>\n",
       "      <td>0.0</td>\n",
       "      <td>0.0</td>\n",
       "      <td>0.0</td>\n",
       "      <td>0.0</td>\n",
       "      <td>0.0</td>\n",
       "      <td>0.0</td>\n",
       "    </tr>\n",
       "  </tbody>\n",
       "</table>\n",
       "<p>10 rows × 74 columns</p>\n",
       "</div>"
      ],
      "text/plain": [
       "            Years of Education  Working Hours per week  Money Received  \\\n",
       "CITIZEN_ID                                                               \n",
       "34886                 0.666667                0.452055        0.000000   \n",
       "34887                 0.666667                0.397260        0.000000   \n",
       "34888                 0.466667                0.589041        0.105204   \n",
       "34889                 0.400000                0.561644        0.000000   \n",
       "34890                 0.600000                0.520548        0.000000   \n",
       "34891                 0.400000                0.452055        0.000000   \n",
       "34892                 0.733333                0.506849        0.000000   \n",
       "34893                 0.666667                0.589041        0.000000   \n",
       "34894                 0.466667                0.315068        0.000000   \n",
       "34895                 0.666667                0.520548        0.000000   \n",
       "\n",
       "            Ticket Price       Age  Native Continent_America  \\\n",
       "CITIZEN_ID                                                     \n",
       "34886           0.000000  0.260274                       0.0   \n",
       "34887           0.000000  0.232877                       0.0   \n",
       "34888           0.000000  0.150685                       0.0   \n",
       "34889           0.340985  0.205479                       0.0   \n",
       "34890           0.000000  0.273973                       0.0   \n",
       "34891           0.000000  0.041096                       0.0   \n",
       "34892           0.453901  0.260274                       0.0   \n",
       "34893           0.000000  0.123288                       0.0   \n",
       "34894           0.000000  0.246575                       0.0   \n",
       "34895           0.000000  0.315068                       0.0   \n",
       "\n",
       "            Native Continent_Asia  Native Continent_Europe  \\\n",
       "CITIZEN_ID                                                   \n",
       "34886                         0.0                      1.0   \n",
       "34887                         0.0                      1.0   \n",
       "34888                         0.0                      1.0   \n",
       "34889                         0.0                      1.0   \n",
       "34890                         0.0                      1.0   \n",
       "34891                         0.0                      1.0   \n",
       "34892                         0.0                      1.0   \n",
       "34893                         0.0                      1.0   \n",
       "34894                         0.0                      0.0   \n",
       "34895                         0.0                      1.0   \n",
       "\n",
       "            Native Continent_Oceania  Marital Status_Married  ...  \\\n",
       "CITIZEN_ID                                                    ...   \n",
       "34886                            0.0                     1.0  ...   \n",
       "34887                            0.0                     0.0  ...   \n",
       "34888                            0.0                     0.0  ...   \n",
       "34889                            0.0                     1.0  ...   \n",
       "34890                            0.0                     1.0  ...   \n",
       "34891                            0.0                     0.0  ...   \n",
       "34892                            0.0                     1.0  ...   \n",
       "34893                            0.0                     0.0  ...   \n",
       "34894                            0.0                     0.0  ...   \n",
       "34895                            0.0                     0.0  ...   \n",
       "\n",
       "            Role_Other services  Role_Professor  Role_Repair & constructions  \\\n",
       "CITIZEN_ID                                                                     \n",
       "34886                       0.0             0.0                          0.0   \n",
       "34887                       0.0             1.0                          0.0   \n",
       "34888                       0.0             0.0                          0.0   \n",
       "34889                       0.0             1.0                          0.0   \n",
       "34890                       0.0             1.0                          0.0   \n",
       "34891                       0.0             0.0                          0.0   \n",
       "34892                       0.0             1.0                          0.0   \n",
       "34893                       0.0             0.0                          0.0   \n",
       "34894                       0.0             0.0                          0.0   \n",
       "34895                       0.0             1.0                          0.0   \n",
       "\n",
       "            Role_Sales  Role_Security  Role_Transports  Role_Unknown  \\\n",
       "CITIZEN_ID                                                             \n",
       "34886              1.0            0.0              0.0           0.0   \n",
       "34887              0.0            0.0              0.0           0.0   \n",
       "34888              0.0            0.0              0.0           0.0   \n",
       "34889              0.0            0.0              0.0           0.0   \n",
       "34890              0.0            0.0              0.0           0.0   \n",
       "34891              0.0            0.0              0.0           0.0   \n",
       "34892              0.0            0.0              0.0           0.0   \n",
       "34893              0.0            0.0              0.0           0.0   \n",
       "34894              0.0            0.0              0.0           0.0   \n",
       "34895              0.0            0.0              0.0           0.0   \n",
       "\n",
       "            Gender_M  Base Area_Ironforge  Base Area_Carlisle  \n",
       "CITIZEN_ID                                                     \n",
       "34886            1.0                  0.0                 0.0  \n",
       "34887            0.0                  0.0                 0.0  \n",
       "34888            1.0                  0.0                 0.0  \n",
       "34889            1.0                  0.0                 0.0  \n",
       "34890            1.0                  0.0                 0.0  \n",
       "34891            1.0                  0.0                 0.0  \n",
       "34892            0.0                  0.0                 0.0  \n",
       "34893            0.0                  0.0                 0.0  \n",
       "34894            0.0                  0.0                 0.0  \n",
       "34895            0.0                  0.0                 0.0  \n",
       "\n",
       "[10 rows x 74 columns]"
      ]
     },
     "execution_count": 151,
     "metadata": {},
     "output_type": "execute_result"
    }
   ],
   "source": [
    "minmax_data_t = pd.DataFrame(minmax_data_t, columns = finalData.columns, index=dummy_t.index)\n",
    "minmax_data_t.head(10)"
   ]
  },
  {
   "cell_type": "code",
   "execution_count": 152,
   "id": "fb8874ee",
   "metadata": {},
   "outputs": [
    {
     "data": {
      "text/html": [
       "<div>\n",
       "<style scoped>\n",
       "    .dataframe tbody tr th:only-of-type {\n",
       "        vertical-align: middle;\n",
       "    }\n",
       "\n",
       "    .dataframe tbody tr th {\n",
       "        vertical-align: top;\n",
       "    }\n",
       "\n",
       "    .dataframe thead th {\n",
       "        text-align: right;\n",
       "    }\n",
       "</style>\n",
       "<table border=\"1\" class=\"dataframe\">\n",
       "  <thead>\n",
       "    <tr style=\"text-align: right;\">\n",
       "      <th></th>\n",
       "      <th>Years of Education</th>\n",
       "      <th>Working Hours per week</th>\n",
       "      <th>Money Received</th>\n",
       "      <th>Ticket Price</th>\n",
       "      <th>Age</th>\n",
       "      <th>Native Continent_America</th>\n",
       "      <th>Native Continent_Europe</th>\n",
       "      <th>Native Continent_Oceania</th>\n",
       "      <th>Marital Status_Married</th>\n",
       "      <th>Marital Status_Separated</th>\n",
       "      <th>...</th>\n",
       "      <th>Role_Machine Operators &amp; Inspectors</th>\n",
       "      <th>Role_Management</th>\n",
       "      <th>Role_Other services</th>\n",
       "      <th>Role_Professor</th>\n",
       "      <th>Role_Repair &amp; constructions</th>\n",
       "      <th>Role_Sales</th>\n",
       "      <th>Role_Security</th>\n",
       "      <th>Role_Transports</th>\n",
       "      <th>Role_Unknown</th>\n",
       "      <th>Gender_M</th>\n",
       "    </tr>\n",
       "    <tr>\n",
       "      <th>CITIZEN_ID</th>\n",
       "      <th></th>\n",
       "      <th></th>\n",
       "      <th></th>\n",
       "      <th></th>\n",
       "      <th></th>\n",
       "      <th></th>\n",
       "      <th></th>\n",
       "      <th></th>\n",
       "      <th></th>\n",
       "      <th></th>\n",
       "      <th></th>\n",
       "      <th></th>\n",
       "      <th></th>\n",
       "      <th></th>\n",
       "      <th></th>\n",
       "      <th></th>\n",
       "      <th></th>\n",
       "      <th></th>\n",
       "      <th></th>\n",
       "      <th></th>\n",
       "      <th></th>\n",
       "    </tr>\n",
       "  </thead>\n",
       "  <tbody>\n",
       "    <tr>\n",
       "      <th>34886</th>\n",
       "      <td>0.666667</td>\n",
       "      <td>0.452055</td>\n",
       "      <td>0.000000</td>\n",
       "      <td>0.000000</td>\n",
       "      <td>0.260274</td>\n",
       "      <td>0.0</td>\n",
       "      <td>1.0</td>\n",
       "      <td>0.0</td>\n",
       "      <td>1.0</td>\n",
       "      <td>0.0</td>\n",
       "      <td>...</td>\n",
       "      <td>0.0</td>\n",
       "      <td>0.0</td>\n",
       "      <td>0.0</td>\n",
       "      <td>0.0</td>\n",
       "      <td>0.0</td>\n",
       "      <td>1.0</td>\n",
       "      <td>0.0</td>\n",
       "      <td>0.0</td>\n",
       "      <td>0.0</td>\n",
       "      <td>1.0</td>\n",
       "    </tr>\n",
       "    <tr>\n",
       "      <th>34887</th>\n",
       "      <td>0.666667</td>\n",
       "      <td>0.397260</td>\n",
       "      <td>0.000000</td>\n",
       "      <td>0.000000</td>\n",
       "      <td>0.232877</td>\n",
       "      <td>0.0</td>\n",
       "      <td>1.0</td>\n",
       "      <td>0.0</td>\n",
       "      <td>0.0</td>\n",
       "      <td>0.0</td>\n",
       "      <td>...</td>\n",
       "      <td>0.0</td>\n",
       "      <td>0.0</td>\n",
       "      <td>0.0</td>\n",
       "      <td>1.0</td>\n",
       "      <td>0.0</td>\n",
       "      <td>0.0</td>\n",
       "      <td>0.0</td>\n",
       "      <td>0.0</td>\n",
       "      <td>0.0</td>\n",
       "      <td>0.0</td>\n",
       "    </tr>\n",
       "    <tr>\n",
       "      <th>34888</th>\n",
       "      <td>0.466667</td>\n",
       "      <td>0.589041</td>\n",
       "      <td>0.105204</td>\n",
       "      <td>0.000000</td>\n",
       "      <td>0.150685</td>\n",
       "      <td>0.0</td>\n",
       "      <td>1.0</td>\n",
       "      <td>0.0</td>\n",
       "      <td>0.0</td>\n",
       "      <td>0.0</td>\n",
       "      <td>...</td>\n",
       "      <td>0.0</td>\n",
       "      <td>1.0</td>\n",
       "      <td>0.0</td>\n",
       "      <td>0.0</td>\n",
       "      <td>0.0</td>\n",
       "      <td>0.0</td>\n",
       "      <td>0.0</td>\n",
       "      <td>0.0</td>\n",
       "      <td>0.0</td>\n",
       "      <td>1.0</td>\n",
       "    </tr>\n",
       "    <tr>\n",
       "      <th>34889</th>\n",
       "      <td>0.400000</td>\n",
       "      <td>0.561644</td>\n",
       "      <td>0.000000</td>\n",
       "      <td>0.340985</td>\n",
       "      <td>0.205479</td>\n",
       "      <td>0.0</td>\n",
       "      <td>1.0</td>\n",
       "      <td>0.0</td>\n",
       "      <td>1.0</td>\n",
       "      <td>0.0</td>\n",
       "      <td>...</td>\n",
       "      <td>0.0</td>\n",
       "      <td>0.0</td>\n",
       "      <td>0.0</td>\n",
       "      <td>1.0</td>\n",
       "      <td>0.0</td>\n",
       "      <td>0.0</td>\n",
       "      <td>0.0</td>\n",
       "      <td>0.0</td>\n",
       "      <td>0.0</td>\n",
       "      <td>1.0</td>\n",
       "    </tr>\n",
       "    <tr>\n",
       "      <th>34890</th>\n",
       "      <td>0.600000</td>\n",
       "      <td>0.520548</td>\n",
       "      <td>0.000000</td>\n",
       "      <td>0.000000</td>\n",
       "      <td>0.273973</td>\n",
       "      <td>0.0</td>\n",
       "      <td>1.0</td>\n",
       "      <td>0.0</td>\n",
       "      <td>1.0</td>\n",
       "      <td>0.0</td>\n",
       "      <td>...</td>\n",
       "      <td>0.0</td>\n",
       "      <td>0.0</td>\n",
       "      <td>0.0</td>\n",
       "      <td>1.0</td>\n",
       "      <td>0.0</td>\n",
       "      <td>0.0</td>\n",
       "      <td>0.0</td>\n",
       "      <td>0.0</td>\n",
       "      <td>0.0</td>\n",
       "      <td>1.0</td>\n",
       "    </tr>\n",
       "  </tbody>\n",
       "</table>\n",
       "<p>5 rows × 49 columns</p>\n",
       "</div>"
      ],
      "text/plain": [
       "            Years of Education  Working Hours per week  Money Received  \\\n",
       "CITIZEN_ID                                                               \n",
       "34886                 0.666667                0.452055        0.000000   \n",
       "34887                 0.666667                0.397260        0.000000   \n",
       "34888                 0.466667                0.589041        0.105204   \n",
       "34889                 0.400000                0.561644        0.000000   \n",
       "34890                 0.600000                0.520548        0.000000   \n",
       "\n",
       "            Ticket Price       Age  Native Continent_America  \\\n",
       "CITIZEN_ID                                                     \n",
       "34886           0.000000  0.260274                       0.0   \n",
       "34887           0.000000  0.232877                       0.0   \n",
       "34888           0.000000  0.150685                       0.0   \n",
       "34889           0.340985  0.205479                       0.0   \n",
       "34890           0.000000  0.273973                       0.0   \n",
       "\n",
       "            Native Continent_Europe  Native Continent_Oceania  \\\n",
       "CITIZEN_ID                                                      \n",
       "34886                           1.0                       0.0   \n",
       "34887                           1.0                       0.0   \n",
       "34888                           1.0                       0.0   \n",
       "34889                           1.0                       0.0   \n",
       "34890                           1.0                       0.0   \n",
       "\n",
       "            Marital Status_Married  Marital Status_Separated  ...  \\\n",
       "CITIZEN_ID                                                    ...   \n",
       "34886                          1.0                       0.0  ...   \n",
       "34887                          0.0                       0.0  ...   \n",
       "34888                          0.0                       0.0  ...   \n",
       "34889                          1.0                       0.0  ...   \n",
       "34890                          1.0                       0.0  ...   \n",
       "\n",
       "            Role_Machine Operators & Inspectors  Role_Management  \\\n",
       "CITIZEN_ID                                                         \n",
       "34886                                       0.0              0.0   \n",
       "34887                                       0.0              0.0   \n",
       "34888                                       0.0              1.0   \n",
       "34889                                       0.0              0.0   \n",
       "34890                                       0.0              0.0   \n",
       "\n",
       "            Role_Other services  Role_Professor  Role_Repair & constructions  \\\n",
       "CITIZEN_ID                                                                     \n",
       "34886                       0.0             0.0                          0.0   \n",
       "34887                       0.0             1.0                          0.0   \n",
       "34888                       0.0             0.0                          0.0   \n",
       "34889                       0.0             1.0                          0.0   \n",
       "34890                       0.0             1.0                          0.0   \n",
       "\n",
       "            Role_Sales  Role_Security  Role_Transports  Role_Unknown  Gender_M  \n",
       "CITIZEN_ID                                                                      \n",
       "34886              1.0            0.0              0.0           0.0       1.0  \n",
       "34887              0.0            0.0              0.0           0.0       0.0  \n",
       "34888              0.0            0.0              0.0           0.0       1.0  \n",
       "34889              0.0            0.0              0.0           0.0       1.0  \n",
       "34890              0.0            0.0              0.0           0.0       1.0  \n",
       "\n",
       "[5 rows x 49 columns]"
      ]
     },
     "execution_count": 152,
     "metadata": {},
     "output_type": "execute_result"
    }
   ],
   "source": [
    "# Usando Chi-Quadrado\n",
    "reduced_d_t = minmax_data_t.copy()\n",
    "reduced_data_test = reduced_d_t.drop([\"Native Continent_Asia\", \"Base Area_Aerilon\", \"Base Area_Aroonshire\", \"Base Area_Bellenau\", \"Base Area_Butterpond\", \"Base Area_Carlisle\", \"Base Area_Conriston\", \"Base Area_Drumchapel\", \"Base Area_Fool's March\", \"Base Area_Ironforge\", 'Base Area_Orilon', \"Base Area_Kirkwall\", \"Base Area_Lewes\", \"Base Area_Marnmouth\", \"Base Area_Mensfield\", \"Base Area_Middlesbrough\",\"Base Area_MillerVille\", \"Base Area_Redwick Bush\", \"Base Area_Sharpton\", \"Base Area_Tranmere\", \"Base Area_Watford\", \"Base Area_Wigston\", \"Base Area_Willesden\", \"Base Area_Woodpine\",\"Role_Army\"], axis=1)\n",
    "reduced_data_test.head() #dropped 24 variables"
   ]
  },
  {
   "cell_type": "code",
   "execution_count": 153,
   "id": "02b1a603",
   "metadata": {},
   "outputs": [],
   "source": [
    "# Usando RFE\n",
    "#reduced_d_t = minmax_data_t.copy()\n",
    "#reduced_data_test = reduced_d_t.drop([\"Native Continent_Asia\", \"Native Continent_Europe\", \"Marital Status_Separated\", \"Marital Status_Widow\", \"Lives with_Family\", \"Base Area_Aerilon\", \"Base Area_Auchenshuggle\", \"Base Area_Bellenau\", \"Base Area_Carlisle\", \"Base Area_Conriston\", \"Base Area_Drumchapel\", \"Base Area_Fool's March\", \"Base Area_Ironforge\", \"Base Area_King's Watch\", \"Base Area_Knife's Edge\", \"Base Area_Laenteglos\", \"Base Area_Lanercost\", \"Base Area_Lewes\", \"Base Area_Marnmouth\", \"Base Area_MillerVille\", \"Base Area_Redwick Bush\", \"Base Area_Sharnwick\", \"Base Area_Tranmere\", \"Base Area_Woodpine\", \"Education Level_High School Education\", \"Education Level_Superior Education\", \"Employment Sector_Public Sector\", \"Employment Sector_Self-Employed\", \"Role_Army\", \"Role_Repair & constructions\", \"Role_Sales\", \"Role_Security\", \"Role_Transports\", \"Gender_M\"], axis=1)\n",
    "#reduced_data_test.head()"
   ]
  },
  {
   "cell_type": "markdown",
   "id": "149f9ee3",
   "metadata": {},
   "source": [
    "### Apply selected model"
   ]
  },
  {
   "cell_type": "code",
   "execution_count": 154,
   "id": "ffa5f8dc",
   "metadata": {},
   "outputs": [
    {
     "data": {
      "text/plain": [
       "array([1., 0., 1., ..., 0., 0., 0.])"
      ]
     },
     "execution_count": 154,
     "metadata": {},
     "output_type": "execute_result"
    }
   ],
   "source": [
    "labels_test = gb_clf2.predict(reduced_data_test)\n",
    "labels_test"
   ]
  },
  {
   "cell_type": "code",
   "execution_count": 155,
   "id": "ae93ce33",
   "metadata": {},
   "outputs": [
    {
     "data": {
      "text/html": [
       "<div>\n",
       "<style scoped>\n",
       "    .dataframe tbody tr th:only-of-type {\n",
       "        vertical-align: middle;\n",
       "    }\n",
       "\n",
       "    .dataframe tbody tr th {\n",
       "        vertical-align: top;\n",
       "    }\n",
       "\n",
       "    .dataframe thead th {\n",
       "        text-align: right;\n",
       "    }\n",
       "</style>\n",
       "<table border=\"1\" class=\"dataframe\">\n",
       "  <thead>\n",
       "    <tr style=\"text-align: right;\">\n",
       "      <th></th>\n",
       "      <th>Citizen_ID</th>\n",
       "      <th>Income</th>\n",
       "    </tr>\n",
       "  </thead>\n",
       "  <tbody>\n",
       "    <tr>\n",
       "      <th>0</th>\n",
       "      <td>34886</td>\n",
       "      <td>1</td>\n",
       "    </tr>\n",
       "    <tr>\n",
       "      <th>1</th>\n",
       "      <td>34887</td>\n",
       "      <td>0</td>\n",
       "    </tr>\n",
       "    <tr>\n",
       "      <th>2</th>\n",
       "      <td>34888</td>\n",
       "      <td>1</td>\n",
       "    </tr>\n",
       "    <tr>\n",
       "      <th>3</th>\n",
       "      <td>34889</td>\n",
       "      <td>0</td>\n",
       "    </tr>\n",
       "    <tr>\n",
       "      <th>4</th>\n",
       "      <td>34890</td>\n",
       "      <td>1</td>\n",
       "    </tr>\n",
       "    <tr>\n",
       "      <th>...</th>\n",
       "      <td>...</td>\n",
       "      <td>...</td>\n",
       "    </tr>\n",
       "    <tr>\n",
       "      <th>10095</th>\n",
       "      <td>44981</td>\n",
       "      <td>1</td>\n",
       "    </tr>\n",
       "    <tr>\n",
       "      <th>10096</th>\n",
       "      <td>44982</td>\n",
       "      <td>1</td>\n",
       "    </tr>\n",
       "    <tr>\n",
       "      <th>10097</th>\n",
       "      <td>44983</td>\n",
       "      <td>0</td>\n",
       "    </tr>\n",
       "    <tr>\n",
       "      <th>10098</th>\n",
       "      <td>44984</td>\n",
       "      <td>0</td>\n",
       "    </tr>\n",
       "    <tr>\n",
       "      <th>10099</th>\n",
       "      <td>44985</td>\n",
       "      <td>0</td>\n",
       "    </tr>\n",
       "  </tbody>\n",
       "</table>\n",
       "<p>10100 rows × 2 columns</p>\n",
       "</div>"
      ],
      "text/plain": [
       "       Citizen_ID  Income\n",
       "0           34886       1\n",
       "1           34887       0\n",
       "2           34888       1\n",
       "3           34889       0\n",
       "4           34890       1\n",
       "...           ...     ...\n",
       "10095       44981       1\n",
       "10096       44982       1\n",
       "10097       44983       0\n",
       "10098       44984       0\n",
       "10099       44985       0\n",
       "\n",
       "[10100 rows x 2 columns]"
      ]
     },
     "execution_count": 155,
     "metadata": {},
     "output_type": "execute_result"
    }
   ],
   "source": [
    "answer = pd.DataFrame([reduced_data_test.index.T, labels_test]).T\n",
    "answer.columns = ['Citizen_ID','Income']\n",
    "answer.astype(int)"
   ]
  },
  {
   "cell_type": "code",
   "execution_count": 156,
   "id": "2429c704",
   "metadata": {},
   "outputs": [],
   "source": [
    "answer.to_csv('Group19_Version28.csv', index = None)"
   ]
  }
 ],
 "metadata": {
  "kernelspec": {
   "display_name": "Python 3",
   "language": "python",
   "name": "python3"
  },
  "language_info": {
   "codemirror_mode": {
    "name": "ipython",
    "version": 3
   },
   "file_extension": ".py",
   "mimetype": "text/x-python",
   "name": "python",
   "nbconvert_exporter": "python",
   "pygments_lexer": "ipython3",
   "version": "3.8.8"
  }
 },
 "nbformat": 4,
 "nbformat_minor": 5
}
